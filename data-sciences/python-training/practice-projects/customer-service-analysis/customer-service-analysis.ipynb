{
 "cells": [
  {
   "cell_type": "code",
   "execution_count": 70,
   "metadata": {},
   "outputs": [],
   "source": [
    "import pandas as pd\n",
    "import seaborn as sns\n",
    "import matplotlib.pyplot as plt\n",
    "import numpy as np"
   ]
  },
  {
   "cell_type": "code",
   "execution_count": 2,
   "metadata": {},
   "outputs": [
    {
     "name": "stderr",
     "output_type": "stream",
     "text": [
      "/home/satheesh/anaconda3/lib/python3.8/site-packages/IPython/core/interactiveshell.py:3146: DtypeWarning: Columns (48,49) have mixed types.Specify dtype option on import or set low_memory=False.\n",
      "  has_raised = await self.run_ast_nodes(code_ast.body, cell_name,\n"
     ]
    }
   ],
   "source": [
    "df_nyc_requests = pd.read_csv(\"311_Service_Requests_from_2010_to_Present.csv\")"
   ]
  },
  {
   "cell_type": "code",
   "execution_count": 3,
   "metadata": {},
   "outputs": [
    {
     "data": {
      "text/plain": [
       "Index(['Unique Key', 'Created Date', 'Closed Date', 'Agency', 'Agency Name',\n",
       "       'Complaint Type', 'Descriptor', 'Location Type', 'Incident Zip',\n",
       "       'Incident Address', 'Street Name', 'Cross Street 1', 'Cross Street 2',\n",
       "       'Intersection Street 1', 'Intersection Street 2', 'Address Type',\n",
       "       'City', 'Landmark', 'Facility Type', 'Status', 'Due Date',\n",
       "       'Resolution Description', 'Resolution Action Updated Date',\n",
       "       'Community Board', 'Borough', 'X Coordinate (State Plane)',\n",
       "       'Y Coordinate (State Plane)', 'Park Facility Name', 'Park Borough',\n",
       "       'School Name', 'School Number', 'School Region', 'School Code',\n",
       "       'School Phone Number', 'School Address', 'School City', 'School State',\n",
       "       'School Zip', 'School Not Found', 'School or Citywide Complaint',\n",
       "       'Vehicle Type', 'Taxi Company Borough', 'Taxi Pick Up Location',\n",
       "       'Bridge Highway Name', 'Bridge Highway Direction', 'Road Ramp',\n",
       "       'Bridge Highway Segment', 'Garage Lot Name', 'Ferry Direction',\n",
       "       'Ferry Terminal Name', 'Latitude', 'Longitude', 'Location'],\n",
       "      dtype='object')"
      ]
     },
     "execution_count": 3,
     "metadata": {},
     "output_type": "execute_result"
    }
   ],
   "source": [
    "df_nyc_requests.columns"
   ]
  },
  {
   "cell_type": "code",
   "execution_count": 4,
   "metadata": {},
   "outputs": [
    {
     "data": {
      "text/html": [
       "<div>\n",
       "<style scoped>\n",
       "    .dataframe tbody tr th:only-of-type {\n",
       "        vertical-align: middle;\n",
       "    }\n",
       "\n",
       "    .dataframe tbody tr th {\n",
       "        vertical-align: top;\n",
       "    }\n",
       "\n",
       "    .dataframe thead th {\n",
       "        text-align: right;\n",
       "    }\n",
       "</style>\n",
       "<table border=\"1\" class=\"dataframe\">\n",
       "  <thead>\n",
       "    <tr style=\"text-align: right;\">\n",
       "      <th></th>\n",
       "      <th>Unique Key</th>\n",
       "      <th>Created Date</th>\n",
       "      <th>Closed Date</th>\n",
       "      <th>Agency</th>\n",
       "      <th>Agency Name</th>\n",
       "      <th>Complaint Type</th>\n",
       "      <th>Descriptor</th>\n",
       "      <th>Location Type</th>\n",
       "      <th>Incident Zip</th>\n",
       "      <th>Incident Address</th>\n",
       "      <th>...</th>\n",
       "      <th>Bridge Highway Name</th>\n",
       "      <th>Bridge Highway Direction</th>\n",
       "      <th>Road Ramp</th>\n",
       "      <th>Bridge Highway Segment</th>\n",
       "      <th>Garage Lot Name</th>\n",
       "      <th>Ferry Direction</th>\n",
       "      <th>Ferry Terminal Name</th>\n",
       "      <th>Latitude</th>\n",
       "      <th>Longitude</th>\n",
       "      <th>Location</th>\n",
       "    </tr>\n",
       "  </thead>\n",
       "  <tbody>\n",
       "    <tr>\n",
       "      <th>0</th>\n",
       "      <td>32310363</td>\n",
       "      <td>12/31/2015 11:59:45 PM</td>\n",
       "      <td>01-01-16 0:55</td>\n",
       "      <td>NYPD</td>\n",
       "      <td>New York City Police Department</td>\n",
       "      <td>Noise - Street/Sidewalk</td>\n",
       "      <td>Loud Music/Party</td>\n",
       "      <td>Street/Sidewalk</td>\n",
       "      <td>10034.0</td>\n",
       "      <td>71 VERMILYEA AVENUE</td>\n",
       "      <td>...</td>\n",
       "      <td>NaN</td>\n",
       "      <td>NaN</td>\n",
       "      <td>NaN</td>\n",
       "      <td>NaN</td>\n",
       "      <td>NaN</td>\n",
       "      <td>NaN</td>\n",
       "      <td>NaN</td>\n",
       "      <td>40.865682</td>\n",
       "      <td>-73.923501</td>\n",
       "      <td>(40.86568153633767, -73.92350095571744)</td>\n",
       "    </tr>\n",
       "    <tr>\n",
       "      <th>1</th>\n",
       "      <td>32309934</td>\n",
       "      <td>12/31/2015 11:59:44 PM</td>\n",
       "      <td>01-01-16 1:26</td>\n",
       "      <td>NYPD</td>\n",
       "      <td>New York City Police Department</td>\n",
       "      <td>Blocked Driveway</td>\n",
       "      <td>No Access</td>\n",
       "      <td>Street/Sidewalk</td>\n",
       "      <td>11105.0</td>\n",
       "      <td>27-07 23 AVENUE</td>\n",
       "      <td>...</td>\n",
       "      <td>NaN</td>\n",
       "      <td>NaN</td>\n",
       "      <td>NaN</td>\n",
       "      <td>NaN</td>\n",
       "      <td>NaN</td>\n",
       "      <td>NaN</td>\n",
       "      <td>NaN</td>\n",
       "      <td>40.775945</td>\n",
       "      <td>-73.915094</td>\n",
       "      <td>(40.775945312321085, -73.91509393898605)</td>\n",
       "    </tr>\n",
       "    <tr>\n",
       "      <th>2</th>\n",
       "      <td>32309159</td>\n",
       "      <td>12/31/2015 11:59:29 PM</td>\n",
       "      <td>01-01-16 4:51</td>\n",
       "      <td>NYPD</td>\n",
       "      <td>New York City Police Department</td>\n",
       "      <td>Blocked Driveway</td>\n",
       "      <td>No Access</td>\n",
       "      <td>Street/Sidewalk</td>\n",
       "      <td>10458.0</td>\n",
       "      <td>2897 VALENTINE AVENUE</td>\n",
       "      <td>...</td>\n",
       "      <td>NaN</td>\n",
       "      <td>NaN</td>\n",
       "      <td>NaN</td>\n",
       "      <td>NaN</td>\n",
       "      <td>NaN</td>\n",
       "      <td>NaN</td>\n",
       "      <td>NaN</td>\n",
       "      <td>40.870325</td>\n",
       "      <td>-73.888525</td>\n",
       "      <td>(40.870324522111424, -73.88852464418646)</td>\n",
       "    </tr>\n",
       "    <tr>\n",
       "      <th>3</th>\n",
       "      <td>32305098</td>\n",
       "      <td>12/31/2015 11:57:46 PM</td>\n",
       "      <td>01-01-16 7:43</td>\n",
       "      <td>NYPD</td>\n",
       "      <td>New York City Police Department</td>\n",
       "      <td>Illegal Parking</td>\n",
       "      <td>Commercial Overnight Parking</td>\n",
       "      <td>Street/Sidewalk</td>\n",
       "      <td>10461.0</td>\n",
       "      <td>2940 BAISLEY AVENUE</td>\n",
       "      <td>...</td>\n",
       "      <td>NaN</td>\n",
       "      <td>NaN</td>\n",
       "      <td>NaN</td>\n",
       "      <td>NaN</td>\n",
       "      <td>NaN</td>\n",
       "      <td>NaN</td>\n",
       "      <td>NaN</td>\n",
       "      <td>40.835994</td>\n",
       "      <td>-73.828379</td>\n",
       "      <td>(40.83599404683083, -73.82837939584206)</td>\n",
       "    </tr>\n",
       "    <tr>\n",
       "      <th>4</th>\n",
       "      <td>32306529</td>\n",
       "      <td>12/31/2015 11:56:58 PM</td>\n",
       "      <td>01-01-16 3:24</td>\n",
       "      <td>NYPD</td>\n",
       "      <td>New York City Police Department</td>\n",
       "      <td>Illegal Parking</td>\n",
       "      <td>Blocked Sidewalk</td>\n",
       "      <td>Street/Sidewalk</td>\n",
       "      <td>11373.0</td>\n",
       "      <td>87-14 57 ROAD</td>\n",
       "      <td>...</td>\n",
       "      <td>NaN</td>\n",
       "      <td>NaN</td>\n",
       "      <td>NaN</td>\n",
       "      <td>NaN</td>\n",
       "      <td>NaN</td>\n",
       "      <td>NaN</td>\n",
       "      <td>NaN</td>\n",
       "      <td>40.733060</td>\n",
       "      <td>-73.874170</td>\n",
       "      <td>(40.733059618956815, -73.87416975810375)</td>\n",
       "    </tr>\n",
       "  </tbody>\n",
       "</table>\n",
       "<p>5 rows × 53 columns</p>\n",
       "</div>"
      ],
      "text/plain": [
       "   Unique Key            Created Date    Closed Date Agency  \\\n",
       "0    32310363  12/31/2015 11:59:45 PM  01-01-16 0:55   NYPD   \n",
       "1    32309934  12/31/2015 11:59:44 PM  01-01-16 1:26   NYPD   \n",
       "2    32309159  12/31/2015 11:59:29 PM  01-01-16 4:51   NYPD   \n",
       "3    32305098  12/31/2015 11:57:46 PM  01-01-16 7:43   NYPD   \n",
       "4    32306529  12/31/2015 11:56:58 PM  01-01-16 3:24   NYPD   \n",
       "\n",
       "                       Agency Name           Complaint Type  \\\n",
       "0  New York City Police Department  Noise - Street/Sidewalk   \n",
       "1  New York City Police Department         Blocked Driveway   \n",
       "2  New York City Police Department         Blocked Driveway   \n",
       "3  New York City Police Department          Illegal Parking   \n",
       "4  New York City Police Department          Illegal Parking   \n",
       "\n",
       "                     Descriptor    Location Type  Incident Zip  \\\n",
       "0              Loud Music/Party  Street/Sidewalk       10034.0   \n",
       "1                     No Access  Street/Sidewalk       11105.0   \n",
       "2                     No Access  Street/Sidewalk       10458.0   \n",
       "3  Commercial Overnight Parking  Street/Sidewalk       10461.0   \n",
       "4              Blocked Sidewalk  Street/Sidewalk       11373.0   \n",
       "\n",
       "        Incident Address  ... Bridge Highway Name Bridge Highway Direction  \\\n",
       "0    71 VERMILYEA AVENUE  ...                 NaN                      NaN   \n",
       "1        27-07 23 AVENUE  ...                 NaN                      NaN   \n",
       "2  2897 VALENTINE AVENUE  ...                 NaN                      NaN   \n",
       "3    2940 BAISLEY AVENUE  ...                 NaN                      NaN   \n",
       "4          87-14 57 ROAD  ...                 NaN                      NaN   \n",
       "\n",
       "  Road Ramp Bridge Highway Segment Garage Lot Name Ferry Direction  \\\n",
       "0       NaN                    NaN             NaN             NaN   \n",
       "1       NaN                    NaN             NaN             NaN   \n",
       "2       NaN                    NaN             NaN             NaN   \n",
       "3       NaN                    NaN             NaN             NaN   \n",
       "4       NaN                    NaN             NaN             NaN   \n",
       "\n",
       "  Ferry Terminal Name   Latitude  Longitude  \\\n",
       "0                 NaN  40.865682 -73.923501   \n",
       "1                 NaN  40.775945 -73.915094   \n",
       "2                 NaN  40.870325 -73.888525   \n",
       "3                 NaN  40.835994 -73.828379   \n",
       "4                 NaN  40.733060 -73.874170   \n",
       "\n",
       "                                   Location  \n",
       "0   (40.86568153633767, -73.92350095571744)  \n",
       "1  (40.775945312321085, -73.91509393898605)  \n",
       "2  (40.870324522111424, -73.88852464418646)  \n",
       "3   (40.83599404683083, -73.82837939584206)  \n",
       "4  (40.733059618956815, -73.87416975810375)  \n",
       "\n",
       "[5 rows x 53 columns]"
      ]
     },
     "execution_count": 4,
     "metadata": {},
     "output_type": "execute_result"
    }
   ],
   "source": [
    "df_nyc_requests.head(5)"
   ]
  },
  {
   "cell_type": "code",
   "execution_count": 5,
   "metadata": {},
   "outputs": [
    {
     "data": {
      "text/plain": [
       "(300698, 53)"
      ]
     },
     "execution_count": 5,
     "metadata": {},
     "output_type": "execute_result"
    }
   ],
   "source": [
    "df_nyc_requests.shape"
   ]
  },
  {
   "cell_type": "code",
   "execution_count": 6,
   "metadata": {
    "scrolled": true
   },
   "outputs": [
    {
     "data": {
      "text/html": [
       "<div>\n",
       "<style scoped>\n",
       "    .dataframe tbody tr th:only-of-type {\n",
       "        vertical-align: middle;\n",
       "    }\n",
       "\n",
       "    .dataframe tbody tr th {\n",
       "        vertical-align: top;\n",
       "    }\n",
       "\n",
       "    .dataframe thead th {\n",
       "        text-align: right;\n",
       "    }\n",
       "</style>\n",
       "<table border=\"1\" class=\"dataframe\">\n",
       "  <thead>\n",
       "    <tr style=\"text-align: right;\">\n",
       "      <th></th>\n",
       "      <th>Unique Key</th>\n",
       "      <th>Created Date</th>\n",
       "      <th>Closed Date</th>\n",
       "      <th>Agency</th>\n",
       "      <th>Agency Name</th>\n",
       "      <th>Complaint Type</th>\n",
       "      <th>Descriptor</th>\n",
       "      <th>Location Type</th>\n",
       "      <th>Incident Zip</th>\n",
       "      <th>Incident Address</th>\n",
       "      <th>...</th>\n",
       "      <th>Bridge Highway Name</th>\n",
       "      <th>Bridge Highway Direction</th>\n",
       "      <th>Road Ramp</th>\n",
       "      <th>Bridge Highway Segment</th>\n",
       "      <th>Garage Lot Name</th>\n",
       "      <th>Ferry Direction</th>\n",
       "      <th>Ferry Terminal Name</th>\n",
       "      <th>Latitude</th>\n",
       "      <th>Longitude</th>\n",
       "      <th>Location</th>\n",
       "    </tr>\n",
       "  </thead>\n",
       "  <tbody>\n",
       "    <tr>\n",
       "      <th>0</th>\n",
       "      <td>False</td>\n",
       "      <td>False</td>\n",
       "      <td>False</td>\n",
       "      <td>False</td>\n",
       "      <td>False</td>\n",
       "      <td>False</td>\n",
       "      <td>False</td>\n",
       "      <td>False</td>\n",
       "      <td>False</td>\n",
       "      <td>False</td>\n",
       "      <td>...</td>\n",
       "      <td>True</td>\n",
       "      <td>True</td>\n",
       "      <td>True</td>\n",
       "      <td>True</td>\n",
       "      <td>True</td>\n",
       "      <td>True</td>\n",
       "      <td>True</td>\n",
       "      <td>False</td>\n",
       "      <td>False</td>\n",
       "      <td>False</td>\n",
       "    </tr>\n",
       "    <tr>\n",
       "      <th>1</th>\n",
       "      <td>False</td>\n",
       "      <td>False</td>\n",
       "      <td>False</td>\n",
       "      <td>False</td>\n",
       "      <td>False</td>\n",
       "      <td>False</td>\n",
       "      <td>False</td>\n",
       "      <td>False</td>\n",
       "      <td>False</td>\n",
       "      <td>False</td>\n",
       "      <td>...</td>\n",
       "      <td>True</td>\n",
       "      <td>True</td>\n",
       "      <td>True</td>\n",
       "      <td>True</td>\n",
       "      <td>True</td>\n",
       "      <td>True</td>\n",
       "      <td>True</td>\n",
       "      <td>False</td>\n",
       "      <td>False</td>\n",
       "      <td>False</td>\n",
       "    </tr>\n",
       "    <tr>\n",
       "      <th>2</th>\n",
       "      <td>False</td>\n",
       "      <td>False</td>\n",
       "      <td>False</td>\n",
       "      <td>False</td>\n",
       "      <td>False</td>\n",
       "      <td>False</td>\n",
       "      <td>False</td>\n",
       "      <td>False</td>\n",
       "      <td>False</td>\n",
       "      <td>False</td>\n",
       "      <td>...</td>\n",
       "      <td>True</td>\n",
       "      <td>True</td>\n",
       "      <td>True</td>\n",
       "      <td>True</td>\n",
       "      <td>True</td>\n",
       "      <td>True</td>\n",
       "      <td>True</td>\n",
       "      <td>False</td>\n",
       "      <td>False</td>\n",
       "      <td>False</td>\n",
       "    </tr>\n",
       "    <tr>\n",
       "      <th>3</th>\n",
       "      <td>False</td>\n",
       "      <td>False</td>\n",
       "      <td>False</td>\n",
       "      <td>False</td>\n",
       "      <td>False</td>\n",
       "      <td>False</td>\n",
       "      <td>False</td>\n",
       "      <td>False</td>\n",
       "      <td>False</td>\n",
       "      <td>False</td>\n",
       "      <td>...</td>\n",
       "      <td>True</td>\n",
       "      <td>True</td>\n",
       "      <td>True</td>\n",
       "      <td>True</td>\n",
       "      <td>True</td>\n",
       "      <td>True</td>\n",
       "      <td>True</td>\n",
       "      <td>False</td>\n",
       "      <td>False</td>\n",
       "      <td>False</td>\n",
       "    </tr>\n",
       "    <tr>\n",
       "      <th>4</th>\n",
       "      <td>False</td>\n",
       "      <td>False</td>\n",
       "      <td>False</td>\n",
       "      <td>False</td>\n",
       "      <td>False</td>\n",
       "      <td>False</td>\n",
       "      <td>False</td>\n",
       "      <td>False</td>\n",
       "      <td>False</td>\n",
       "      <td>False</td>\n",
       "      <td>...</td>\n",
       "      <td>True</td>\n",
       "      <td>True</td>\n",
       "      <td>True</td>\n",
       "      <td>True</td>\n",
       "      <td>True</td>\n",
       "      <td>True</td>\n",
       "      <td>True</td>\n",
       "      <td>False</td>\n",
       "      <td>False</td>\n",
       "      <td>False</td>\n",
       "    </tr>\n",
       "    <tr>\n",
       "      <th>...</th>\n",
       "      <td>...</td>\n",
       "      <td>...</td>\n",
       "      <td>...</td>\n",
       "      <td>...</td>\n",
       "      <td>...</td>\n",
       "      <td>...</td>\n",
       "      <td>...</td>\n",
       "      <td>...</td>\n",
       "      <td>...</td>\n",
       "      <td>...</td>\n",
       "      <td>...</td>\n",
       "      <td>...</td>\n",
       "      <td>...</td>\n",
       "      <td>...</td>\n",
       "      <td>...</td>\n",
       "      <td>...</td>\n",
       "      <td>...</td>\n",
       "      <td>...</td>\n",
       "      <td>...</td>\n",
       "      <td>...</td>\n",
       "      <td>...</td>\n",
       "    </tr>\n",
       "    <tr>\n",
       "      <th>300693</th>\n",
       "      <td>False</td>\n",
       "      <td>False</td>\n",
       "      <td>True</td>\n",
       "      <td>False</td>\n",
       "      <td>False</td>\n",
       "      <td>False</td>\n",
       "      <td>False</td>\n",
       "      <td>False</td>\n",
       "      <td>True</td>\n",
       "      <td>False</td>\n",
       "      <td>...</td>\n",
       "      <td>True</td>\n",
       "      <td>True</td>\n",
       "      <td>True</td>\n",
       "      <td>True</td>\n",
       "      <td>True</td>\n",
       "      <td>True</td>\n",
       "      <td>True</td>\n",
       "      <td>True</td>\n",
       "      <td>True</td>\n",
       "      <td>True</td>\n",
       "    </tr>\n",
       "    <tr>\n",
       "      <th>300694</th>\n",
       "      <td>False</td>\n",
       "      <td>False</td>\n",
       "      <td>False</td>\n",
       "      <td>False</td>\n",
       "      <td>False</td>\n",
       "      <td>False</td>\n",
       "      <td>False</td>\n",
       "      <td>False</td>\n",
       "      <td>False</td>\n",
       "      <td>False</td>\n",
       "      <td>...</td>\n",
       "      <td>True</td>\n",
       "      <td>True</td>\n",
       "      <td>True</td>\n",
       "      <td>True</td>\n",
       "      <td>True</td>\n",
       "      <td>True</td>\n",
       "      <td>True</td>\n",
       "      <td>False</td>\n",
       "      <td>False</td>\n",
       "      <td>False</td>\n",
       "    </tr>\n",
       "    <tr>\n",
       "      <th>300695</th>\n",
       "      <td>False</td>\n",
       "      <td>False</td>\n",
       "      <td>False</td>\n",
       "      <td>False</td>\n",
       "      <td>False</td>\n",
       "      <td>False</td>\n",
       "      <td>False</td>\n",
       "      <td>False</td>\n",
       "      <td>False</td>\n",
       "      <td>False</td>\n",
       "      <td>...</td>\n",
       "      <td>True</td>\n",
       "      <td>True</td>\n",
       "      <td>True</td>\n",
       "      <td>True</td>\n",
       "      <td>True</td>\n",
       "      <td>True</td>\n",
       "      <td>True</td>\n",
       "      <td>False</td>\n",
       "      <td>False</td>\n",
       "      <td>False</td>\n",
       "    </tr>\n",
       "    <tr>\n",
       "      <th>300696</th>\n",
       "      <td>False</td>\n",
       "      <td>False</td>\n",
       "      <td>False</td>\n",
       "      <td>False</td>\n",
       "      <td>False</td>\n",
       "      <td>False</td>\n",
       "      <td>False</td>\n",
       "      <td>False</td>\n",
       "      <td>False</td>\n",
       "      <td>False</td>\n",
       "      <td>...</td>\n",
       "      <td>True</td>\n",
       "      <td>True</td>\n",
       "      <td>True</td>\n",
       "      <td>True</td>\n",
       "      <td>True</td>\n",
       "      <td>True</td>\n",
       "      <td>True</td>\n",
       "      <td>False</td>\n",
       "      <td>False</td>\n",
       "      <td>False</td>\n",
       "    </tr>\n",
       "    <tr>\n",
       "      <th>300697</th>\n",
       "      <td>False</td>\n",
       "      <td>False</td>\n",
       "      <td>False</td>\n",
       "      <td>False</td>\n",
       "      <td>False</td>\n",
       "      <td>False</td>\n",
       "      <td>False</td>\n",
       "      <td>False</td>\n",
       "      <td>False</td>\n",
       "      <td>False</td>\n",
       "      <td>...</td>\n",
       "      <td>True</td>\n",
       "      <td>True</td>\n",
       "      <td>True</td>\n",
       "      <td>True</td>\n",
       "      <td>True</td>\n",
       "      <td>True</td>\n",
       "      <td>True</td>\n",
       "      <td>False</td>\n",
       "      <td>False</td>\n",
       "      <td>False</td>\n",
       "    </tr>\n",
       "  </tbody>\n",
       "</table>\n",
       "<p>300698 rows × 53 columns</p>\n",
       "</div>"
      ],
      "text/plain": [
       "        Unique Key  Created Date  Closed Date  Agency  Agency Name  \\\n",
       "0            False         False        False   False        False   \n",
       "1            False         False        False   False        False   \n",
       "2            False         False        False   False        False   \n",
       "3            False         False        False   False        False   \n",
       "4            False         False        False   False        False   \n",
       "...            ...           ...          ...     ...          ...   \n",
       "300693       False         False         True   False        False   \n",
       "300694       False         False        False   False        False   \n",
       "300695       False         False        False   False        False   \n",
       "300696       False         False        False   False        False   \n",
       "300697       False         False        False   False        False   \n",
       "\n",
       "        Complaint Type  Descriptor  Location Type  Incident Zip  \\\n",
       "0                False       False          False         False   \n",
       "1                False       False          False         False   \n",
       "2                False       False          False         False   \n",
       "3                False       False          False         False   \n",
       "4                False       False          False         False   \n",
       "...                ...         ...            ...           ...   \n",
       "300693           False       False          False          True   \n",
       "300694           False       False          False         False   \n",
       "300695           False       False          False         False   \n",
       "300696           False       False          False         False   \n",
       "300697           False       False          False         False   \n",
       "\n",
       "        Incident Address  ...  Bridge Highway Name  Bridge Highway Direction  \\\n",
       "0                  False  ...                 True                      True   \n",
       "1                  False  ...                 True                      True   \n",
       "2                  False  ...                 True                      True   \n",
       "3                  False  ...                 True                      True   \n",
       "4                  False  ...                 True                      True   \n",
       "...                  ...  ...                  ...                       ...   \n",
       "300693             False  ...                 True                      True   \n",
       "300694             False  ...                 True                      True   \n",
       "300695             False  ...                 True                      True   \n",
       "300696             False  ...                 True                      True   \n",
       "300697             False  ...                 True                      True   \n",
       "\n",
       "        Road Ramp  Bridge Highway Segment  Garage Lot Name  Ferry Direction  \\\n",
       "0            True                    True             True             True   \n",
       "1            True                    True             True             True   \n",
       "2            True                    True             True             True   \n",
       "3            True                    True             True             True   \n",
       "4            True                    True             True             True   \n",
       "...           ...                     ...              ...              ...   \n",
       "300693       True                    True             True             True   \n",
       "300694       True                    True             True             True   \n",
       "300695       True                    True             True             True   \n",
       "300696       True                    True             True             True   \n",
       "300697       True                    True             True             True   \n",
       "\n",
       "        Ferry Terminal Name  Latitude  Longitude  Location  \n",
       "0                      True     False      False     False  \n",
       "1                      True     False      False     False  \n",
       "2                      True     False      False     False  \n",
       "3                      True     False      False     False  \n",
       "4                      True     False      False     False  \n",
       "...                     ...       ...        ...       ...  \n",
       "300693                 True      True       True      True  \n",
       "300694                 True     False      False     False  \n",
       "300695                 True     False      False     False  \n",
       "300696                 True     False      False     False  \n",
       "300697                 True     False      False     False  \n",
       "\n",
       "[300698 rows x 53 columns]"
      ]
     },
     "execution_count": 6,
     "metadata": {},
     "output_type": "execute_result"
    }
   ],
   "source": [
    "df_nyc_requests.isnull()"
   ]
  },
  {
   "cell_type": "code",
   "execution_count": 7,
   "metadata": {},
   "outputs": [
    {
     "data": {
      "text/plain": [
       "Unique Key                             0\n",
       "Created Date                           0\n",
       "Closed Date                         2164\n",
       "Agency                                 0\n",
       "Agency Name                            0\n",
       "Complaint Type                         0\n",
       "Descriptor                          5914\n",
       "Location Type                        131\n",
       "Incident Zip                        2615\n",
       "Incident Address                   44410\n",
       "Street Name                        44410\n",
       "Cross Street 1                     49279\n",
       "Cross Street 2                     49779\n",
       "Intersection Street 1             256840\n",
       "Intersection Street 2             257336\n",
       "Address Type                        2815\n",
       "City                                2614\n",
       "Landmark                          300349\n",
       "Facility Type                       2171\n",
       "Status                                 0\n",
       "Due Date                               3\n",
       "Resolution Description                 0\n",
       "Resolution Action Updated Date      2187\n",
       "Community Board                        0\n",
       "Borough                                0\n",
       "X Coordinate (State Plane)          3540\n",
       "Y Coordinate (State Plane)          3540\n",
       "Park Facility Name                     0\n",
       "Park Borough                           0\n",
       "School Name                            0\n",
       "School Number                          0\n",
       "School Region                          1\n",
       "School Code                            1\n",
       "School Phone Number                    0\n",
       "School Address                         0\n",
       "School City                            0\n",
       "School State                           0\n",
       "School Zip                             1\n",
       "School Not Found                       0\n",
       "School or Citywide Complaint      300698\n",
       "Vehicle Type                      300698\n",
       "Taxi Company Borough              300698\n",
       "Taxi Pick Up Location             300698\n",
       "Bridge Highway Name               300455\n",
       "Bridge Highway Direction          300455\n",
       "Road Ramp                         300485\n",
       "Bridge Highway Segment            300485\n",
       "Garage Lot Name                   300698\n",
       "Ferry Direction                   300697\n",
       "Ferry Terminal Name               300696\n",
       "Latitude                            3540\n",
       "Longitude                           3540\n",
       "Location                            3540\n",
       "dtype: int64"
      ]
     },
     "execution_count": 7,
     "metadata": {},
     "output_type": "execute_result"
    }
   ],
   "source": [
    "#counting the null values that have been observed per column\n",
    "df_nyc_requests.isnull().sum()"
   ]
  },
  {
   "cell_type": "markdown",
   "metadata": {},
   "source": [
    "## Conclusion #1:"
   ]
  },
  {
   "cell_type": "markdown",
   "metadata": {},
   "source": [
    "It is evident that the columsn \"School or Citywide Complaint\", \"Vehicle Type\", \"Taxi Company Borough\", \"Taxi Pick Up Location\", \"Garage Lot Name\" have no data which can be used for analysis. This is because all of their values are null\n",
    "\n",
    "The other columns such as \"Ferry Direction\", \"Ferry Terminal Name\" have only 1 or 2 records\n",
    "\n",
    "It's safe to assume that these columns can be dropped and we should be able to proceed with our data analysis"
   ]
  },
  {
   "cell_type": "markdown",
   "metadata": {},
   "source": [
    "##### Analysis around Bridge, Landmark and Road ramp for meaningful data"
   ]
  },
  {
   "cell_type": "markdown",
   "metadata": {},
   "source": [
    "The data from the columns \"Bridge Highway Name\", \"Bridge Highway Direction\", \"Bridge Highway segment\", \"Landmark\", \"Road ramp\" all have data that is less than 1% of data. So it woul be ideal to drop these columns"
   ]
  },
  {
   "cell_type": "markdown",
   "metadata": {},
   "source": [
    "## Dropping the columns described above"
   ]
  },
  {
   "cell_type": "code",
   "execution_count": 8,
   "metadata": {},
   "outputs": [],
   "source": [
    "df_nyc_requests.drop(['Landmark', 'School or Citywide Complaint', 'Vehicle Type', 'Taxi Company Borough', \n",
    "                     'Taxi Pick Up Location', 'Bridge Highway Name', 'Bridge Highway Direction', \n",
    "                     'Road Ramp', 'Bridge Highway Segment', 'Garage Lot Name', 'Ferry Direction', \n",
    "                     'Ferry Terminal Name'], axis='columns', inplace=True)"
   ]
  },
  {
   "cell_type": "code",
   "execution_count": 9,
   "metadata": {},
   "outputs": [
    {
     "data": {
      "text/plain": [
       "(300698, 41)"
      ]
     },
     "execution_count": 9,
     "metadata": {},
     "output_type": "execute_result"
    }
   ],
   "source": [
    "#verifying the shape after dropping the columns\n",
    "df_nyc_requests.shape"
   ]
  },
  {
   "cell_type": "code",
   "execution_count": 10,
   "metadata": {},
   "outputs": [
    {
     "data": {
      "text/plain": [
       "Index(['Unique Key', 'Created Date', 'Closed Date', 'Agency', 'Agency Name',\n",
       "       'Complaint Type', 'Descriptor', 'Location Type', 'Incident Zip',\n",
       "       'Incident Address', 'Street Name', 'Cross Street 1', 'Cross Street 2',\n",
       "       'Intersection Street 1', 'Intersection Street 2', 'Address Type',\n",
       "       'City', 'Facility Type', 'Status', 'Due Date', 'Resolution Description',\n",
       "       'Resolution Action Updated Date', 'Community Board', 'Borough',\n",
       "       'X Coordinate (State Plane)', 'Y Coordinate (State Plane)',\n",
       "       'Park Facility Name', 'Park Borough', 'School Name', 'School Number',\n",
       "       'School Region', 'School Code', 'School Phone Number', 'School Address',\n",
       "       'School City', 'School State', 'School Zip', 'School Not Found',\n",
       "       'Latitude', 'Longitude', 'Location'],\n",
       "      dtype='object')"
      ]
     },
     "execution_count": 10,
     "metadata": {},
     "output_type": "execute_result"
    }
   ],
   "source": [
    "df_nyc_requests.columns"
   ]
  },
  {
   "cell_type": "code",
   "execution_count": 11,
   "metadata": {},
   "outputs": [
    {
     "data": {
      "text/plain": [
       "Unique Key                                                                 32310363\n",
       "Created Date                                                 12/31/2015 11:59:45 PM\n",
       "Closed Date                                                           01-01-16 0:55\n",
       "Agency                                                                         NYPD\n",
       "Agency Name                                         New York City Police Department\n",
       "Complaint Type                                              Noise - Street/Sidewalk\n",
       "Descriptor                                                         Loud Music/Party\n",
       "Location Type                                                       Street/Sidewalk\n",
       "Incident Zip                                                                  10034\n",
       "Incident Address                                                71 VERMILYEA AVENUE\n",
       "Street Name                                                        VERMILYEA AVENUE\n",
       "Cross Street 1                                                       ACADEMY STREET\n",
       "Cross Street 2                                                      WEST 204 STREET\n",
       "Intersection Street 1                                                           NaN\n",
       "Intersection Street 2                                                           NaN\n",
       "Address Type                                                                ADDRESS\n",
       "City                                                                       NEW YORK\n",
       "Facility Type                                                              Precinct\n",
       "Status                                                                       Closed\n",
       "Due Date                                                              01-01-16 7:59\n",
       "Resolution Description            The Police Department responded and upon arriv...\n",
       "Resolution Action Updated Date                                        01-01-16 0:55\n",
       "Community Board                                                        12 MANHATTAN\n",
       "Borough                                                                   MANHATTAN\n",
       "X Coordinate (State Plane)                                              1.00541e+06\n",
       "Y Coordinate (State Plane)                                                   254678\n",
       "Park Facility Name                                                      Unspecified\n",
       "Park Borough                                                              MANHATTAN\n",
       "School Name                                                             Unspecified\n",
       "School Number                                                           Unspecified\n",
       "School Region                                                           Unspecified\n",
       "School Code                                                             Unspecified\n",
       "School Phone Number                                                     Unspecified\n",
       "School Address                                                          Unspecified\n",
       "School City                                                             Unspecified\n",
       "School State                                                            Unspecified\n",
       "School Zip                                                              Unspecified\n",
       "School Not Found                                                                  N\n",
       "Latitude                                                                    40.8657\n",
       "Longitude                                                                  -73.9235\n",
       "Location                                    (40.86568153633767, -73.92350095571744)\n",
       "Name: 0, dtype: object"
      ]
     },
     "execution_count": 11,
     "metadata": {},
     "output_type": "execute_result"
    }
   ],
   "source": [
    "#verifying the first data point after dropping columns\n",
    "df_nyc_requests.iloc[0]"
   ]
  },
  {
   "cell_type": "code",
   "execution_count": 12,
   "metadata": {},
   "outputs": [
    {
     "data": {
      "text/plain": [
       "Unspecified                        300697\n",
       "Alley Pond Park - Nature Center         1\n",
       "Name: School Name, dtype: int64"
      ]
     },
     "execution_count": 12,
     "metadata": {},
     "output_type": "execute_result"
    }
   ],
   "source": [
    "#checking if school name, number region etc is always unspecified\n",
    "df_nyc_requests[\"School Name\"].value_counts()"
   ]
  },
  {
   "cell_type": "code",
   "execution_count": 13,
   "metadata": {},
   "outputs": [
    {
     "data": {
      "text/plain": [
       "Unspecified    300697\n",
       "Q001                1\n",
       "Name: School Number, dtype: int64"
      ]
     },
     "execution_count": 13,
     "metadata": {},
     "output_type": "execute_result"
    }
   ],
   "source": [
    "df_nyc_requests[\"School Number\"].value_counts()"
   ]
  },
  {
   "cell_type": "code",
   "execution_count": 14,
   "metadata": {},
   "outputs": [
    {
     "data": {
      "text/plain": [
       "Unspecified    300697\n",
       "Name: School Region, dtype: int64"
      ]
     },
     "execution_count": 14,
     "metadata": {},
     "output_type": "execute_result"
    }
   ],
   "source": [
    "df_nyc_requests[\"School Region\"].value_counts()"
   ]
  },
  {
   "cell_type": "code",
   "execution_count": 15,
   "metadata": {},
   "outputs": [
    {
     "data": {
      "text/plain": [
       "Unspecified    300697\n",
       "Name: School Code, dtype: int64"
      ]
     },
     "execution_count": 15,
     "metadata": {},
     "output_type": "execute_result"
    }
   ],
   "source": [
    "df_nyc_requests[\"School Code\"].value_counts()"
   ]
  },
  {
   "cell_type": "code",
   "execution_count": 16,
   "metadata": {},
   "outputs": [
    {
     "data": {
      "text/plain": [
       "Unspecified    300697\n",
       "7182176034          1\n",
       "Name: School Phone Number, dtype: int64"
      ]
     },
     "execution_count": 16,
     "metadata": {},
     "output_type": "execute_result"
    }
   ],
   "source": [
    "df_nyc_requests[\"School Phone Number\"].value_counts()"
   ]
  },
  {
   "cell_type": "code",
   "execution_count": 17,
   "metadata": {},
   "outputs": [
    {
     "data": {
      "text/plain": [
       "Unspecified                                     300697\n",
       "Grand Central Parkway, near the soccer field         1\n",
       "Name: School Address, dtype: int64"
      ]
     },
     "execution_count": 17,
     "metadata": {},
     "output_type": "execute_result"
    }
   ],
   "source": [
    "df_nyc_requests[\"School Address\"].value_counts()"
   ]
  },
  {
   "cell_type": "code",
   "execution_count": 18,
   "metadata": {},
   "outputs": [
    {
     "data": {
      "text/plain": [
       "Unspecified    300697\n",
       "QUEENS              1\n",
       "Name: School City, dtype: int64"
      ]
     },
     "execution_count": 18,
     "metadata": {},
     "output_type": "execute_result"
    }
   ],
   "source": [
    "df_nyc_requests[\"School City\"].value_counts()"
   ]
  },
  {
   "cell_type": "code",
   "execution_count": 19,
   "metadata": {},
   "outputs": [
    {
     "data": {
      "text/plain": [
       "Unspecified    300697\n",
       "NY                  1\n",
       "Name: School State, dtype: int64"
      ]
     },
     "execution_count": 19,
     "metadata": {},
     "output_type": "execute_result"
    }
   ],
   "source": [
    "df_nyc_requests[\"School State\"].value_counts()"
   ]
  },
  {
   "cell_type": "code",
   "execution_count": 20,
   "metadata": {},
   "outputs": [
    {
     "data": {
      "text/plain": [
       "Unspecified    300697\n",
       "Name: School Zip, dtype: int64"
      ]
     },
     "execution_count": 20,
     "metadata": {},
     "output_type": "execute_result"
    }
   ],
   "source": [
    "df_nyc_requests[\"School Zip\"].value_counts()"
   ]
  },
  {
   "cell_type": "code",
   "execution_count": 21,
   "metadata": {},
   "outputs": [
    {
     "data": {
      "text/html": [
       "<div>\n",
       "<style scoped>\n",
       "    .dataframe tbody tr th:only-of-type {\n",
       "        vertical-align: middle;\n",
       "    }\n",
       "\n",
       "    .dataframe tbody tr th {\n",
       "        vertical-align: top;\n",
       "    }\n",
       "\n",
       "    .dataframe thead th {\n",
       "        text-align: right;\n",
       "    }\n",
       "</style>\n",
       "<table border=\"1\" class=\"dataframe\">\n",
       "  <thead>\n",
       "    <tr style=\"text-align: right;\">\n",
       "      <th></th>\n",
       "      <th>Unique Key</th>\n",
       "      <th>Created Date</th>\n",
       "      <th>Closed Date</th>\n",
       "      <th>Agency</th>\n",
       "      <th>Agency Name</th>\n",
       "      <th>Complaint Type</th>\n",
       "      <th>Descriptor</th>\n",
       "      <th>Location Type</th>\n",
       "      <th>Incident Zip</th>\n",
       "      <th>Incident Address</th>\n",
       "      <th>...</th>\n",
       "      <th>School Code</th>\n",
       "      <th>School Phone Number</th>\n",
       "      <th>School Address</th>\n",
       "      <th>School City</th>\n",
       "      <th>School State</th>\n",
       "      <th>School Zip</th>\n",
       "      <th>School Not Found</th>\n",
       "      <th>Latitude</th>\n",
       "      <th>Longitude</th>\n",
       "      <th>Location</th>\n",
       "    </tr>\n",
       "  </thead>\n",
       "  <tbody>\n",
       "    <tr>\n",
       "      <th>283132</th>\n",
       "      <td>30427220</td>\n",
       "      <td>04/18/2015 09:44:55 AM</td>\n",
       "      <td>05-02-15 10:35</td>\n",
       "      <td>NYPD</td>\n",
       "      <td>New York City Police Department</td>\n",
       "      <td>Animal in a Park</td>\n",
       "      <td>Animal Waste</td>\n",
       "      <td>Park</td>\n",
       "      <td>NaN</td>\n",
       "      <td>NaN</td>\n",
       "      <td>...</td>\n",
       "      <td>NaN</td>\n",
       "      <td>7182176034</td>\n",
       "      <td>Grand Central Parkway, near the soccer field</td>\n",
       "      <td>QUEENS</td>\n",
       "      <td>NY</td>\n",
       "      <td>NaN</td>\n",
       "      <td>N</td>\n",
       "      <td>NaN</td>\n",
       "      <td>NaN</td>\n",
       "      <td>NaN</td>\n",
       "    </tr>\n",
       "  </tbody>\n",
       "</table>\n",
       "<p>1 rows × 41 columns</p>\n",
       "</div>"
      ],
      "text/plain": [
       "        Unique Key            Created Date     Closed Date Agency  \\\n",
       "283132    30427220  04/18/2015 09:44:55 AM  05-02-15 10:35   NYPD   \n",
       "\n",
       "                            Agency Name    Complaint Type    Descriptor  \\\n",
       "283132  New York City Police Department  Animal in a Park  Animal Waste   \n",
       "\n",
       "       Location Type  Incident Zip Incident Address  ... School Code  \\\n",
       "283132          Park           NaN              NaN  ...         NaN   \n",
       "\n",
       "       School Phone Number                                School Address  \\\n",
       "283132          7182176034  Grand Central Parkway, near the soccer field   \n",
       "\n",
       "       School City School State School Zip School Not Found Latitude  \\\n",
       "283132      QUEENS           NY        NaN                N      NaN   \n",
       "\n",
       "       Longitude Location  \n",
       "283132       NaN      NaN  \n",
       "\n",
       "[1 rows x 41 columns]"
      ]
     },
     "execution_count": 21,
     "metadata": {},
     "output_type": "execute_result"
    }
   ],
   "source": [
    "#checking for the type of crime that is committed near/ at a school\n",
    "school_complaints = df_nyc_requests[df_nyc_requests[\"School Name\"]!=\"Unspecified\"]\n",
    "school_complaints"
   ]
  },
  {
   "cell_type": "code",
   "execution_count": 22,
   "metadata": {},
   "outputs": [
    {
     "data": {
      "text/plain": [
       "Unique Key                                                                 30427220\n",
       "Created Date                                                 04/18/2015 09:44:55 AM\n",
       "Closed Date                                                          05-02-15 10:35\n",
       "Agency                                                                         NYPD\n",
       "Agency Name                                         New York City Police Department\n",
       "Complaint Type                                                     Animal in a Park\n",
       "Descriptor                                                             Animal Waste\n",
       "Location Type                                                                  Park\n",
       "Incident Zip                                                                    NaN\n",
       "Incident Address                                                                NaN\n",
       "Street Name                                                                     NaN\n",
       "Cross Street 1                                                                  NaN\n",
       "Cross Street 2                                                                  NaN\n",
       "Intersection Street 1                                                           NaN\n",
       "Intersection Street 2                                                           NaN\n",
       "Address Type                                                                    NaN\n",
       "City                                                                         QUEENS\n",
       "Facility Type                                                                   NaN\n",
       "Status                                                                       Closed\n",
       "Due Date                                                              05-02-15 9:44\n",
       "Resolution Description            The condition was determined to be an issue ap...\n",
       "Resolution Action Updated Date                                       05-02-15 10:35\n",
       "Community Board                                                       0 Unspecified\n",
       "Borough                                                                 Unspecified\n",
       "X Coordinate (State Plane)                                                      NaN\n",
       "Y Coordinate (State Plane)                                                      NaN\n",
       "Park Facility Name                                  Alley Pond Park - Nature Center\n",
       "Park Borough                                                            Unspecified\n",
       "School Name                                         Alley Pond Park - Nature Center\n",
       "School Number                                                                  Q001\n",
       "School Region                                                                   NaN\n",
       "School Code                                                                     NaN\n",
       "School Phone Number                                                      7182176034\n",
       "School Address                         Grand Central Parkway, near the soccer field\n",
       "School City                                                                  QUEENS\n",
       "School State                                                                     NY\n",
       "School Zip                                                                      NaN\n",
       "School Not Found                                                                  N\n",
       "Latitude                                                                        NaN\n",
       "Longitude                                                                       NaN\n",
       "Location                                                                        NaN\n",
       "Name: 283132, dtype: object"
      ]
     },
     "execution_count": 22,
     "metadata": {},
     "output_type": "execute_result"
    }
   ],
   "source": [
    "school_complaints.iloc[0]"
   ]
  },
  {
   "cell_type": "markdown",
   "metadata": {},
   "source": [
    "## Conclusion #2"
   ]
  },
  {
   "cell_type": "markdown",
   "metadata": {},
   "source": [
    "There is only 1 occurence of a complaint which is associated with a school in Queens. It's safe to assume that the New York Police department has been keeping all school areas well guarded/ protected"
   ]
  },
  {
   "cell_type": "code",
   "execution_count": 23,
   "metadata": {},
   "outputs": [
    {
     "data": {
      "text/plain": [
       "Unspecified                        300697\n",
       "Alley Pond Park - Nature Center         1\n",
       "Name: Park Facility Name, dtype: int64"
      ]
     },
     "execution_count": 23,
     "metadata": {},
     "output_type": "execute_result"
    }
   ],
   "source": [
    "#Examining the Unspecified for Park Facility Name\n",
    "df_nyc_requests[\"Park Facility Name\"].value_counts()"
   ]
  },
  {
   "cell_type": "code",
   "execution_count": 24,
   "metadata": {},
   "outputs": [],
   "source": [
    "#keeping this as a separate data set for understanding the nature of the complaint\n",
    "park_complaints = df_nyc_requests[df_nyc_requests[\"Park Facility Name\"]!= \"Unspecified\"]"
   ]
  },
  {
   "cell_type": "code",
   "execution_count": 25,
   "metadata": {},
   "outputs": [
    {
     "data": {
      "text/plain": [
       "Unique Key                                                                 30427220\n",
       "Created Date                                                 04/18/2015 09:44:55 AM\n",
       "Closed Date                                                          05-02-15 10:35\n",
       "Agency                                                                         NYPD\n",
       "Agency Name                                         New York City Police Department\n",
       "Complaint Type                                                     Animal in a Park\n",
       "Descriptor                                                             Animal Waste\n",
       "Location Type                                                                  Park\n",
       "Incident Zip                                                                    NaN\n",
       "Incident Address                                                                NaN\n",
       "Street Name                                                                     NaN\n",
       "Cross Street 1                                                                  NaN\n",
       "Cross Street 2                                                                  NaN\n",
       "Intersection Street 1                                                           NaN\n",
       "Intersection Street 2                                                           NaN\n",
       "Address Type                                                                    NaN\n",
       "City                                                                         QUEENS\n",
       "Facility Type                                                                   NaN\n",
       "Status                                                                       Closed\n",
       "Due Date                                                              05-02-15 9:44\n",
       "Resolution Description            The condition was determined to be an issue ap...\n",
       "Resolution Action Updated Date                                       05-02-15 10:35\n",
       "Community Board                                                       0 Unspecified\n",
       "Borough                                                                 Unspecified\n",
       "X Coordinate (State Plane)                                                      NaN\n",
       "Y Coordinate (State Plane)                                                      NaN\n",
       "Park Facility Name                                  Alley Pond Park - Nature Center\n",
       "Park Borough                                                            Unspecified\n",
       "School Name                                         Alley Pond Park - Nature Center\n",
       "School Number                                                                  Q001\n",
       "School Region                                                                   NaN\n",
       "School Code                                                                     NaN\n",
       "School Phone Number                                                      7182176034\n",
       "School Address                         Grand Central Parkway, near the soccer field\n",
       "School City                                                                  QUEENS\n",
       "School State                                                                     NY\n",
       "School Zip                                                                      NaN\n",
       "School Not Found                                                                  N\n",
       "Latitude                                                                        NaN\n",
       "Longitude                                                                       NaN\n",
       "Location                                                                        NaN\n",
       "Name: 283132, dtype: object"
      ]
     },
     "execution_count": 25,
     "metadata": {},
     "output_type": "execute_result"
    }
   ],
   "source": [
    "park_complaints.iloc[0]"
   ]
  },
  {
   "cell_type": "markdown",
   "metadata": {},
   "source": [
    "The complaint from the school is of the park and there are no other part related complaints where the facily name is explicitly mentioned"
   ]
  },
  {
   "cell_type": "markdown",
   "metadata": {},
   "source": [
    "## Examining distribution of complaints"
   ]
  },
  {
   "cell_type": "code",
   "execution_count": 43,
   "metadata": {},
   "outputs": [
    {
     "data": {
      "text/plain": [
       "<AxesSubplot:ylabel='City'>"
      ]
     },
     "execution_count": 43,
     "metadata": {},
     "output_type": "execute_result"
    },
    {
     "data": {
      "image/png": "[encoded data removed]",
      "text/plain": [
       "<Figure size 864x864 with 1 Axes>"
      ]
     },
     "metadata": {},
     "output_type": "display_data"
    }
   ],
   "source": [
    "#Distribution by city\n",
    "df_nyc_requests[\"City\"].value_counts().plot(kind='pie', figsize =(12,12))"
   ]
  },
  {
   "cell_type": "markdown",
   "metadata": {},
   "source": [
    "### Conclusion #3"
   ]
  },
  {
   "cell_type": "markdown",
   "metadata": {},
   "source": [
    "Brooklyn, New York, Bronx and Staten Island contribute to over 70% of the total complaints received by the New York Police Department. This could be owing to the larger amount of population in these areas"
   ]
  },
  {
   "cell_type": "markdown",
   "metadata": {},
   "source": [
    "## Examining complaints based on date"
   ]
  },
  {
   "cell_type": "code",
   "execution_count": 46,
   "metadata": {},
   "outputs": [],
   "source": [
    "#converting the available dates to date-time format\n",
    "df_nyc_requests[\"Created Date\"] = pd.to_datetime(df_nyc_requests[\"Created Date\"])\n",
    "df_nyc_requests[\"Closed Date\"] = pd.to_datetime(df_nyc_requests[\"Closed Date\"])"
   ]
  },
  {
   "cell_type": "code",
   "execution_count": 48,
   "metadata": {},
   "outputs": [],
   "source": [
    "df_nyc_requests[\"Due Date\"] = pd.to_datetime(df_nyc_requests[\"Due Date\"])"
   ]
  },
  {
   "cell_type": "code",
   "execution_count": 50,
   "metadata": {},
   "outputs": [],
   "source": [
    "df_nyc_requests[\"Resolution Action Updated Date\"] = pd.to_datetime(df_nyc_requests[\"Resolution Action Updated Date\"])"
   ]
  },
  {
   "cell_type": "code",
   "execution_count": 51,
   "metadata": {},
   "outputs": [
    {
     "data": {
      "text/plain": [
       "Unique Key                                                                 32310363\n",
       "Created Date                                                    2015-12-31 23:59:45\n",
       "Closed Date                                                     2016-01-01 00:55:00\n",
       "Agency                                                                         NYPD\n",
       "Agency Name                                         New York City Police Department\n",
       "Complaint Type                                              Noise - Street/Sidewalk\n",
       "Descriptor                                                         Loud Music/Party\n",
       "Location Type                                                       Street/Sidewalk\n",
       "Incident Zip                                                                  10034\n",
       "Incident Address                                                71 VERMILYEA AVENUE\n",
       "Street Name                                                        VERMILYEA AVENUE\n",
       "Cross Street 1                                                       ACADEMY STREET\n",
       "Cross Street 2                                                      WEST 204 STREET\n",
       "Intersection Street 1                                                           NaN\n",
       "Intersection Street 2                                                           NaN\n",
       "Address Type                                                                ADDRESS\n",
       "City                                                                       NEW YORK\n",
       "Facility Type                                                              Precinct\n",
       "Status                                                                       Closed\n",
       "Due Date                                                        2016-01-01 07:59:00\n",
       "Resolution Description            The Police Department responded and upon arriv...\n",
       "Resolution Action Updated Date                                  2016-01-01 00:55:00\n",
       "Community Board                                                        12 MANHATTAN\n",
       "Borough                                                                   MANHATTAN\n",
       "X Coordinate (State Plane)                                              1.00541e+06\n",
       "Y Coordinate (State Plane)                                                   254678\n",
       "Park Facility Name                                                      Unspecified\n",
       "Park Borough                                                              MANHATTAN\n",
       "School Name                                                             Unspecified\n",
       "School Number                                                           Unspecified\n",
       "School Region                                                           Unspecified\n",
       "School Code                                                             Unspecified\n",
       "School Phone Number                                                     Unspecified\n",
       "School Address                                                          Unspecified\n",
       "School City                                                             Unspecified\n",
       "School State                                                            Unspecified\n",
       "School Zip                                                              Unspecified\n",
       "School Not Found                                                                  N\n",
       "Latitude                                                                    40.8657\n",
       "Longitude                                                                  -73.9235\n",
       "Location                                    (40.86568153633767, -73.92350095571744)\n",
       "Name: 0, dtype: object"
      ]
     },
     "execution_count": 51,
     "metadata": {},
     "output_type": "execute_result"
    }
   ],
   "source": [
    "df_nyc_requests.iloc[0]"
   ]
  },
  {
   "cell_type": "code",
   "execution_count": 57,
   "metadata": {
    "scrolled": true
   },
   "outputs": [
    {
     "data": {
      "text/plain": [
       "<AxesSubplot:ylabel='Complaint Type'>"
      ]
     },
     "execution_count": 57,
     "metadata": {},
     "output_type": "execute_result"
    },
    {
     "data": {
      "image/png": "[encoded data removed]",
      "text/plain": [
       "<Figure size 720x720 with 1 Axes>"
      ]
     },
     "metadata": {},
     "output_type": "display_data"
    }
   ],
   "source": [
    "#complaint types split up\n",
    "df_nyc_requests[\"Complaint Type\"].value_counts().plot(kind='pie', figsize=(10,10))"
   ]
  },
  {
   "cell_type": "markdown",
   "metadata": {},
   "source": [
    "## Conclusion #4"
   ]
  },
  {
   "cell_type": "markdown",
   "metadata": {},
   "source": [
    "Blocked Driveway and Illegal Parking forms over 50% of the total complaints to the NYPD which is an indication that parking is generally a huge problem.\n",
    "\n",
    "The top 4 complaint areas \"Blocked Driveway\", \"Illegal Parking\", \"Noise - Street/Sidewalk\", \"Noise - Commercial\" form over 75% of the complaints which is an indication that Noise is the second largest contributor towards complaints to the NYPD"
   ]
  },
  {
   "cell_type": "code",
   "execution_count": 62,
   "metadata": {},
   "outputs": [],
   "source": [
    "#Creating a column to find out resolution time\n",
    "df_nyc_requests[\"Expected Resolution Time\"] = df_nyc_requests[\"Due Date\"] - df_nyc_requests[\"Created Date\"]\n",
    "df_nyc_requests[\"Actual Resolution Time\"] = df_nyc_requests[\"Closed Date\"] - df_nyc_requests[\"Created Date\"]"
   ]
  },
  {
   "cell_type": "code",
   "execution_count": 63,
   "metadata": {},
   "outputs": [
    {
     "data": {
      "text/plain": [
       "Unique Key                                                                 32305098\n",
       "Created Date                                                    2015-12-31 23:57:46\n",
       "Closed Date                                                     2016-01-01 07:43:00\n",
       "Agency                                                                         NYPD\n",
       "Agency Name                                         New York City Police Department\n",
       "Complaint Type                                                      Illegal Parking\n",
       "Descriptor                                             Commercial Overnight Parking\n",
       "Location Type                                                       Street/Sidewalk\n",
       "Incident Zip                                                                  10461\n",
       "Incident Address                                                2940 BAISLEY AVENUE\n",
       "Street Name                                                          BAISLEY AVENUE\n",
       "Cross Street 1                                                        EDISON AVENUE\n",
       "Cross Street 2                                                             B STREET\n",
       "Intersection Street 1                                                           NaN\n",
       "Intersection Street 2                                                           NaN\n",
       "Address Type                                                                ADDRESS\n",
       "City                                                                          BRONX\n",
       "Facility Type                                                              Precinct\n",
       "Status                                                                       Closed\n",
       "Due Date                                                        2016-01-01 07:57:00\n",
       "Resolution Description            The Police Department responded to the complai...\n",
       "Resolution Action Updated Date                                  2016-01-01 07:43:00\n",
       "Community Board                                                            10 BRONX\n",
       "Borough                                                                       BRONX\n",
       "X Coordinate (State Plane)                                              1.03174e+06\n",
       "Y Coordinate (State Plane)                                                   243899\n",
       "Park Facility Name                                                      Unspecified\n",
       "Park Borough                                                                  BRONX\n",
       "School Name                                                             Unspecified\n",
       "School Number                                                           Unspecified\n",
       "School Region                                                           Unspecified\n",
       "School Code                                                             Unspecified\n",
       "School Phone Number                                                     Unspecified\n",
       "School Address                                                          Unspecified\n",
       "School City                                                             Unspecified\n",
       "School State                                                            Unspecified\n",
       "School Zip                                                              Unspecified\n",
       "School Not Found                                                                  N\n",
       "Latitude                                                                     40.836\n",
       "Longitude                                                                  -73.8284\n",
       "Location                                    (40.83599404683083, -73.82837939584206)\n",
       "Resolution Time                                                     0 days 07:45:14\n",
       "Expected Resolution Time                                            0 days 07:59:14\n",
       "Actual Resolution Time                                              0 days 07:45:14\n",
       "Name: 3, dtype: object"
      ]
     },
     "execution_count": 63,
     "metadata": {},
     "output_type": "execute_result"
    }
   ],
   "source": [
    "df_nyc_requests.iloc[3]"
   ]
  },
  {
   "cell_type": "code",
   "execution_count": 64,
   "metadata": {},
   "outputs": [],
   "source": [
    "#Creating an SLA breach column to understand if the SLA has been breached\n",
    "df_nyc_requests[\"SLA Breach\"] = df_nyc_requests[\"Actual Resolution Time\"]>df_nyc_requests[\"Expected Resolution Time\"]"
   ]
  },
  {
   "cell_type": "code",
   "execution_count": 65,
   "metadata": {},
   "outputs": [
    {
     "data": {
      "text/plain": [
       "False    262118\n",
       "True      38580\n",
       "Name: SLA Breach, dtype: int64"
      ]
     },
     "execution_count": 65,
     "metadata": {},
     "output_type": "execute_result"
    }
   ],
   "source": [
    "df_nyc_requests[\"SLA Breach\"].value_counts()"
   ]
  },
  {
   "cell_type": "code",
   "execution_count": 66,
   "metadata": {},
   "outputs": [],
   "source": [
    "df_sla_breach = df_nyc_requests[df_nyc_requests[\"SLA Breach\"]==True]"
   ]
  },
  {
   "cell_type": "code",
   "execution_count": 68,
   "metadata": {},
   "outputs": [
    {
     "data": {
      "text/plain": [
       "<AxesSubplot:ylabel='City'>"
      ]
     },
     "execution_count": 68,
     "metadata": {},
     "output_type": "execute_result"
    },
    {
     "data": {
      "image/png": "[encoded data removed]",
      "text/plain": [
       "<Figure size 576x576 with 1 Axes>"
      ]
     },
     "metadata": {},
     "output_type": "display_data"
    }
   ],
   "source": [
    "df_sla_breach[\"City\"].value_counts().plot(kind='pie', figsize=(8,8))"
   ]
  },
  {
   "cell_type": "markdown",
   "metadata": {},
   "source": [
    "## Conclusion #5"
   ]
  },
  {
   "cell_type": "markdown",
   "metadata": {},
   "source": [
    "Brooklyn, Bronx and New York form the top 60% of the SLA breaches where the resolution time that was expected has been exceeded"
   ]
  },
  {
   "cell_type": "code",
   "execution_count": 90,
   "metadata": {},
   "outputs": [
    {
     "data": {
      "text/plain": [
       "Index(['Unique Key', 'Created Date', 'Closed Date', 'Agency', 'Agency Name',\n",
       "       'Complaint Type', 'Descriptor', 'Location Type', 'Incident Zip',\n",
       "       'Incident Address', 'Street Name', 'Cross Street 1', 'Cross Street 2',\n",
       "       'Intersection Street 1', 'Intersection Street 2', 'Address Type',\n",
       "       'City', 'Facility Type', 'Status', 'Due Date', 'Resolution Description',\n",
       "       'Resolution Action Updated Date', 'Community Board', 'Borough',\n",
       "       'X Coordinate (State Plane)', 'Y Coordinate (State Plane)',\n",
       "       'Park Facility Name', 'Park Borough', 'School Name', 'School Number',\n",
       "       'School Region', 'School Code', 'School Phone Number', 'School Address',\n",
       "       'School City', 'School State', 'School Zip', 'School Not Found',\n",
       "       'Latitude', 'Longitude', 'Location', 'Resolution Time',\n",
       "       'Expected Resolution Time', 'Actual Resolution Time', 'SLA Breach',\n",
       "       'Actual Resolution Hours'],\n",
       "      dtype='object')"
      ]
     },
     "execution_count": 90,
     "metadata": {},
     "output_type": "execute_result"
    }
   ],
   "source": [
    "df_nyc_requests.columns"
   ]
  },
  {
   "cell_type": "code",
   "execution_count": 95,
   "metadata": {},
   "outputs": [
    {
     "data": {
      "text/plain": [
       "Unique Key                                                                 32306612\n",
       "Created Date                                                    2015-12-31 23:48:03\n",
       "Closed Date                                                     2016-01-01 02:17:00\n",
       "Agency                                                                         NYPD\n",
       "Agency Name                                         New York City Police Department\n",
       "Complaint Type                                              Noise - Street/Sidewalk\n",
       "Descriptor                                                         Loud Music/Party\n",
       "Location Type                                                       Street/Sidewalk\n",
       "Incident Zip                                                                  10461\n",
       "Incident Address                                                1701 PILGRIM AVENUE\n",
       "Street Name                                                          PILGRIM AVENUE\n",
       "Cross Street 1                                                       ROBERTS AVENUE\n",
       "Cross Street 2                                                   WESTCHESTER AVENUE\n",
       "Intersection Street 1                                                           NaN\n",
       "Intersection Street 2                                                           NaN\n",
       "Address Type                                                                ADDRESS\n",
       "City                                                                          BRONX\n",
       "Facility Type                                                              Precinct\n",
       "Status                                                                       Closed\n",
       "Due Date                                                        2016-01-01 07:48:00\n",
       "Resolution Description            The Police Department responded to the complai...\n",
       "Resolution Action Updated Date                                  2016-01-01 02:18:00\n",
       "Community Board                                                            10 BRONX\n",
       "Borough                                                                       BRONX\n",
       "X Coordinate (State Plane)                                              1.03029e+06\n",
       "Y Coordinate (State Plane)                                                   247376\n",
       "Park Facility Name                                                      Unspecified\n",
       "Park Borough                                                                  BRONX\n",
       "School Name                                                             Unspecified\n",
       "School Number                                                           Unspecified\n",
       "School Region                                                           Unspecified\n",
       "School Code                                                             Unspecified\n",
       "School Phone Number                                                     Unspecified\n",
       "School Address                                                          Unspecified\n",
       "School City                                                             Unspecified\n",
       "School State                                                            Unspecified\n",
       "School Zip                                                              Unspecified\n",
       "School Not Found                                                                  N\n",
       "Latitude                                                                    40.8455\n",
       "Longitude                                                                  -73.8336\n",
       "Location                                   (40.845545043640215, -73.83358471831198)\n",
       "Resolution Time                                                     0 days 02:28:57\n",
       "Expected Resolution Time                                            0 days 07:59:57\n",
       "Actual Resolution Time                                              0 days 02:28:57\n",
       "SLA Breach                                                                    False\n",
       "Actual Resolution Hours                                             0 days 02:28:57\n",
       "Name: 12, dtype: object"
      ]
     },
     "execution_count": 95,
     "metadata": {},
     "output_type": "execute_result"
    }
   ],
   "source": [
    "df_nyc_requests.iloc[12]"
   ]
  },
  {
   "cell_type": "code",
   "execution_count": 97,
   "metadata": {},
   "outputs": [
    {
     "data": {
      "text/plain": [
       "Precinct    298527\n",
       "Name: Facility Type, dtype: int64"
      ]
     },
     "execution_count": 97,
     "metadata": {},
     "output_type": "execute_result"
    }
   ],
   "source": [
    "df_nyc_requests[\"Facility Type\"].value_counts()"
   ]
  },
  {
   "cell_type": "markdown",
   "metadata": {},
   "source": [
    "## Resolution time and Location Analysis"
   ]
  },
  {
   "cell_type": "code",
   "execution_count": 113,
   "metadata": {},
   "outputs": [],
   "source": [
    "#creating a new dataframe with only location related information and resolution times for complaints\n",
    "df_nyc_location = df_nyc_requests[[\"Unique Key\", \"Agency Name\", \"Complaint Type\", \"Descriptor\", \"Location Type\", \"Incident Zip\", \"Incident Address\", \"Street Name\", \"Cross Street 1\", \"Cross Street 2\", \"Address Type\" , \"City\", \"Status\", \"Actual Resolution Time\", \"SLA Breach\"]]"
   ]
  },
  {
   "cell_type": "code",
   "execution_count": 114,
   "metadata": {},
   "outputs": [
    {
     "data": {
      "text/plain": [
       "Unique Key                                       32310363\n",
       "Agency Name               New York City Police Department\n",
       "Complaint Type                    Noise - Street/Sidewalk\n",
       "Descriptor                               Loud Music/Party\n",
       "Location Type                             Street/Sidewalk\n",
       "Incident Zip                                        10034\n",
       "Incident Address                      71 VERMILYEA AVENUE\n",
       "Street Name                              VERMILYEA AVENUE\n",
       "Cross Street 1                             ACADEMY STREET\n",
       "Cross Street 2                            WEST 204 STREET\n",
       "Address Type                                      ADDRESS\n",
       "City                                             NEW YORK\n",
       "Status                                             Closed\n",
       "Actual Resolution Time                    0 days 00:55:15\n",
       "SLA Breach                                          False\n",
       "Name: 0, dtype: object"
      ]
     },
     "execution_count": 114,
     "metadata": {},
     "output_type": "execute_result"
    }
   ],
   "source": [
    "df_nyc_location.iloc[0]"
   ]
  },
  {
   "cell_type": "code",
   "execution_count": 116,
   "metadata": {},
   "outputs": [
    {
     "data": {
      "text/plain": [
       "(298471, 15)"
      ]
     },
     "execution_count": 116,
     "metadata": {},
     "output_type": "execute_result"
    }
   ],
   "source": [
    "#dropping not closed complaints for analysis purposes and examining the dataframe shape\n",
    "df_nyc_location = df_nyc_location[df_nyc_location[\"Status\"] == \"Closed\"]\n",
    "df_nyc_location.shape"
   ]
  },
  {
   "cell_type": "code",
   "execution_count": 117,
   "metadata": {},
   "outputs": [
    {
     "data": {
      "text/plain": [
       "<AxesSubplot:>"
      ]
     },
     "execution_count": 117,
     "metadata": {},
     "output_type": "execute_result"
    },
    {
     "data": {
      "image/png": "[encoded data removed]",
      "text/plain": [
       "<Figure size 720x720 with 1 Axes>"
      ]
     },
     "metadata": {
      "needs_background": "light"
     },
     "output_type": "display_data"
    }
   ],
   "source": [
    "#complaint distribution\n",
    "df_nyc_location[\"Complaint Type\"].value_counts().plot(kind = 'barh', figsize= (10,10))"
   ]
  },
  {
   "cell_type": "code",
   "execution_count": 122,
   "metadata": {},
   "outputs": [
    {
     "data": {
      "text/plain": [
       "City\n",
       "ARVERNE                  20 days 18:17:02\n",
       "ASTORIA                1212 days 23:07:09\n",
       "Astoria                 124 days 20:10:38\n",
       "BAYSIDE                 136 days 05:08:50\n",
       "BELLEROSE               164 days 22:39:58\n",
       "BREEZY POINT              4 days 08:53:41\n",
       "BRONX                 10335 days 14:12:15\n",
       "BROOKLYN              16573 days 13:11:57\n",
       "CAMBRIA HEIGHTS         201 days 05:02:28\n",
       "CENTRAL PARK             13 days 07:32:53\n",
       "COLLEGE POINT           166 days 09:49:46\n",
       "CORONA                  577 days 15:11:59\n",
       "EAST ELMHURST           407 days 09:44:59\n",
       "ELMHURST                368 days 14:08:16\n",
       "East Elmhurst             3 days 12:40:09\n",
       "FAR ROCKAWAY            137 days 01:24:20\n",
       "FLORAL PARK              74 days 05:22:02\n",
       "FLUSHING                750 days 14:27:54\n",
       "FOREST HILLS            226 days 18:21:58\n",
       "FRESH MEADOWS           257 days 14:46:53\n",
       "GLEN OAKS               112 days 09:36:50\n",
       "HOLLIS                  242 days 21:17:29\n",
       "HOWARD BEACH            238 days 23:46:17\n",
       "Howard Beach              0 days 04:01:45\n",
       "JACKSON HEIGHTS         230 days 05:56:54\n",
       "JAMAICA                1582 days 08:08:12\n",
       "KEW GARDENS             162 days 00:08:04\n",
       "LITTLE NECK              60 days 00:55:07\n",
       "LONG ISLAND CITY        663 days 07:48:12\n",
       "Long Island City         22 days 21:30:06\n",
       "MASPETH                 573 days 00:28:24\n",
       "MIDDLE VILLAGE          396 days 00:27:14\n",
       "NEW HYDE PARK            30 days 20:29:50\n",
       "NEW YORK               8167 days 00:54:39\n",
       "OAKLAND GARDENS          60 days 09:37:05\n",
       "OZONE PARK              652 days 00:48:32\n",
       "QUEENS                   18 days 02:58:46\n",
       "QUEENS VILLAGE          824 days 09:02:03\n",
       "REGO PARK               214 days 07:11:11\n",
       "RICHMOND HILL           435 days 10:10:41\n",
       "RIDGEWOOD               955 days 08:32:18\n",
       "ROCKAWAY PARK            71 days 23:34:38\n",
       "ROSEDALE                385 days 08:41:53\n",
       "SAINT ALBANS            164 days 01:12:15\n",
       "SOUTH OZONE PARK        482 days 09:41:44\n",
       "SOUTH RICHMOND HILL     649 days 06:54:29\n",
       "SPRINGFIELD GARDENS     337 days 20:07:44\n",
       "STATEN ISLAND          1994 days 07:05:59\n",
       "SUNNYSIDE               206 days 10:00:00\n",
       "WHITESTONE              148 days 10:48:21\n",
       "WOODHAVEN               574 days 03:30:46\n",
       "WOODSIDE               1017 days 20:46:11\n",
       "Woodside                 26 days 00:10:00\n",
       "Name: Actual Resolution Time, dtype: timedelta64[ns]"
      ]
     },
     "execution_count": 122,
     "metadata": {},
     "output_type": "execute_result"
    }
   ],
   "source": [
    "df_nyc_location.groupby(by=\"City\")[\"Actual Resolution Time\"].sum()"
   ]
  },
  {
   "cell_type": "code",
   "execution_count": 165,
   "metadata": {},
   "outputs": [],
   "source": [
    "#Grouping NYC data by Location type and complaint type\n",
    "grouped_nyc = df_nyc_location.groupby(['City', 'Location Type','Complaint Type']).agg(\n",
    "    {\n",
    "        # Find the min, max, and sum of the duration column\n",
    "        'Actual Resolution Time': [min, max, sum],\n",
    "        #Complaint Count\n",
    "        'Complaint Type': 'count'\n",
    "    }\n",
    ")"
   ]
  },
  {
   "cell_type": "code",
   "execution_count": 166,
   "metadata": {},
   "outputs": [
    {
     "data": {
      "text/html": [
       "<div>\n",
       "<style scoped>\n",
       "    .dataframe tbody tr th:only-of-type {\n",
       "        vertical-align: middle;\n",
       "    }\n",
       "\n",
       "    .dataframe tbody tr th {\n",
       "        vertical-align: top;\n",
       "    }\n",
       "\n",
       "    .dataframe thead tr th {\n",
       "        text-align: left;\n",
       "    }\n",
       "\n",
       "    .dataframe thead tr:last-of-type th {\n",
       "        text-align: right;\n",
       "    }\n",
       "</style>\n",
       "<table border=\"1\" class=\"dataframe\">\n",
       "  <thead>\n",
       "    <tr>\n",
       "      <th></th>\n",
       "      <th></th>\n",
       "      <th></th>\n",
       "      <th colspan=\"3\" halign=\"left\">Actual Resolution Time</th>\n",
       "      <th>Complaint Type</th>\n",
       "    </tr>\n",
       "    <tr>\n",
       "      <th></th>\n",
       "      <th></th>\n",
       "      <th></th>\n",
       "      <th>min</th>\n",
       "      <th>max</th>\n",
       "      <th>sum</th>\n",
       "      <th>count</th>\n",
       "    </tr>\n",
       "    <tr>\n",
       "      <th>City</th>\n",
       "      <th>Location Type</th>\n",
       "      <th>Complaint Type</th>\n",
       "      <th></th>\n",
       "      <th></th>\n",
       "      <th></th>\n",
       "      <th></th>\n",
       "    </tr>\n",
       "  </thead>\n",
       "  <tbody>\n",
       "    <tr>\n",
       "      <th rowspan=\"10\" valign=\"top\">ARVERNE</th>\n",
       "      <th>Club/Bar/Restaurant</th>\n",
       "      <th>Drinking</th>\n",
       "      <td>0 days 00:14:19</td>\n",
       "      <td>0 days 00:14:19</td>\n",
       "      <td>0 days 00:14:19</td>\n",
       "      <td>1</td>\n",
       "    </tr>\n",
       "    <tr>\n",
       "      <th>House of Worship</th>\n",
       "      <th>Noise - House of Worship</th>\n",
       "      <td>0 days 00:12:58</td>\n",
       "      <td>0 days 03:00:31</td>\n",
       "      <td>0 days 17:11:03</td>\n",
       "      <td>11</td>\n",
       "    </tr>\n",
       "    <tr>\n",
       "      <th>Park/Playground</th>\n",
       "      <th>Noise - Park</th>\n",
       "      <td>0 days 00:46:00</td>\n",
       "      <td>0 days 01:48:00</td>\n",
       "      <td>0 days 02:34:00</td>\n",
       "      <td>2</td>\n",
       "    </tr>\n",
       "    <tr>\n",
       "      <th rowspan=\"2\" valign=\"top\">Residential Building/House</th>\n",
       "      <th>Animal Abuse</th>\n",
       "      <td>0 days 00:29:00</td>\n",
       "      <td>0 days 05:01:35</td>\n",
       "      <td>3 days 00:51:07</td>\n",
       "      <td>35</td>\n",
       "    </tr>\n",
       "    <tr>\n",
       "      <th>Homeless Encampment</th>\n",
       "      <td>0 days 02:32:54</td>\n",
       "      <td>0 days 02:32:54</td>\n",
       "      <td>0 days 02:32:54</td>\n",
       "      <td>1</td>\n",
       "    </tr>\n",
       "    <tr>\n",
       "      <th rowspan=\"2\" valign=\"top\">Store/Commercial</th>\n",
       "      <th>Graffiti</th>\n",
       "      <td>0 days 01:32:00</td>\n",
       "      <td>0 days 01:32:00</td>\n",
       "      <td>0 days 01:32:00</td>\n",
       "      <td>1</td>\n",
       "    </tr>\n",
       "    <tr>\n",
       "      <th>Noise - Commercial</th>\n",
       "      <td>0 days 01:30:37</td>\n",
       "      <td>0 days 03:03:51</td>\n",
       "      <td>0 days 04:34:28</td>\n",
       "      <td>2</td>\n",
       "    </tr>\n",
       "    <tr>\n",
       "      <th rowspan=\"3\" valign=\"top\">Street/Sidewalk</th>\n",
       "      <th>Animal Abuse</th>\n",
       "      <td>0 days 00:55:58</td>\n",
       "      <td>0 days 06:28:11</td>\n",
       "      <td>0 days 08:59:09</td>\n",
       "      <td>3</td>\n",
       "    </tr>\n",
       "    <tr>\n",
       "      <th>Blocked Driveway</th>\n",
       "      <td>0 days 00:17:44</td>\n",
       "      <td>0 days 07:20:00</td>\n",
       "      <td>3 days 16:24:32</td>\n",
       "      <td>35</td>\n",
       "    </tr>\n",
       "    <tr>\n",
       "      <th>Derelict Vehicle</th>\n",
       "      <td>0 days 00:28:00</td>\n",
       "      <td>0 days 06:41:54</td>\n",
       "      <td>3 days 08:08:31</td>\n",
       "      <td>27</td>\n",
       "    </tr>\n",
       "  </tbody>\n",
       "</table>\n",
       "</div>"
      ],
      "text/plain": [
       "                                                            Actual Resolution Time  \\\n",
       "                                                                               min   \n",
       "City    Location Type              Complaint Type                                    \n",
       "ARVERNE Club/Bar/Restaurant        Drinking                        0 days 00:14:19   \n",
       "        House of Worship           Noise - House of Worship        0 days 00:12:58   \n",
       "        Park/Playground            Noise - Park                    0 days 00:46:00   \n",
       "        Residential Building/House Animal Abuse                    0 days 00:29:00   \n",
       "                                   Homeless Encampment             0 days 02:32:54   \n",
       "        Store/Commercial           Graffiti                        0 days 01:32:00   \n",
       "                                   Noise - Commercial              0 days 01:30:37   \n",
       "        Street/Sidewalk            Animal Abuse                    0 days 00:55:58   \n",
       "                                   Blocked Driveway                0 days 00:17:44   \n",
       "                                   Derelict Vehicle                0 days 00:28:00   \n",
       "\n",
       "                                                                             \\\n",
       "                                                                        max   \n",
       "City    Location Type              Complaint Type                             \n",
       "ARVERNE Club/Bar/Restaurant        Drinking                 0 days 00:14:19   \n",
       "        House of Worship           Noise - House of Worship 0 days 03:00:31   \n",
       "        Park/Playground            Noise - Park             0 days 01:48:00   \n",
       "        Residential Building/House Animal Abuse             0 days 05:01:35   \n",
       "                                   Homeless Encampment      0 days 02:32:54   \n",
       "        Store/Commercial           Graffiti                 0 days 01:32:00   \n",
       "                                   Noise - Commercial       0 days 03:03:51   \n",
       "        Street/Sidewalk            Animal Abuse             0 days 06:28:11   \n",
       "                                   Blocked Driveway         0 days 07:20:00   \n",
       "                                   Derelict Vehicle         0 days 06:41:54   \n",
       "\n",
       "                                                                             \\\n",
       "                                                                        sum   \n",
       "City    Location Type              Complaint Type                             \n",
       "ARVERNE Club/Bar/Restaurant        Drinking                 0 days 00:14:19   \n",
       "        House of Worship           Noise - House of Worship 0 days 17:11:03   \n",
       "        Park/Playground            Noise - Park             0 days 02:34:00   \n",
       "        Residential Building/House Animal Abuse             3 days 00:51:07   \n",
       "                                   Homeless Encampment      0 days 02:32:54   \n",
       "        Store/Commercial           Graffiti                 0 days 01:32:00   \n",
       "                                   Noise - Commercial       0 days 04:34:28   \n",
       "        Street/Sidewalk            Animal Abuse             0 days 08:59:09   \n",
       "                                   Blocked Driveway         3 days 16:24:32   \n",
       "                                   Derelict Vehicle         3 days 08:08:31   \n",
       "\n",
       "                                                            Complaint Type  \n",
       "                                                                     count  \n",
       "City    Location Type              Complaint Type                           \n",
       "ARVERNE Club/Bar/Restaurant        Drinking                              1  \n",
       "        House of Worship           Noise - House of Worship             11  \n",
       "        Park/Playground            Noise - Park                          2  \n",
       "        Residential Building/House Animal Abuse                         35  \n",
       "                                   Homeless Encampment                   1  \n",
       "        Store/Commercial           Graffiti                              1  \n",
       "                                   Noise - Commercial                    2  \n",
       "        Street/Sidewalk            Animal Abuse                          3  \n",
       "                                   Blocked Driveway                     35  \n",
       "                                   Derelict Vehicle                     27  "
      ]
     },
     "execution_count": 166,
     "metadata": {},
     "output_type": "execute_result"
    }
   ],
   "source": [
    "grouped_nyc.head(10)"
   ]
  },
  {
   "cell_type": "code",
   "execution_count": 167,
   "metadata": {},
   "outputs": [
    {
     "data": {
      "text/plain": [
       "Actual Resolution Time  min      0 days 00:14:19\n",
       "                        max      0 days 00:14:19\n",
       "                        sum      0 days 00:14:19\n",
       "Complaint Type          count                  1\n",
       "Name: (ARVERNE, Club/Bar/Restaurant, Drinking), dtype: object"
      ]
     },
     "execution_count": 167,
     "metadata": {},
     "output_type": "execute_result"
    }
   ],
   "source": [
    "grouped_nyc.iloc[0]"
   ]
  },
  {
   "cell_type": "code",
   "execution_count": null,
   "metadata": {},
   "outputs": [],
   "source": []
  }
 ],
 "metadata": {
  "kernelspec": {
   "display_name": "Python 3",
   "language": "python",
   "name": "python3"
  },
  "language_info": {
   "codemirror_mode": {
    "name": "ipython",
    "version": 3
   },
   "file_extension": ".py",
   "mimetype": "text/x-python",
   "name": "python",
   "nbconvert_exporter": "python",
   "pygments_lexer": "ipython3",
   "version": "3.8.5"
  }
 },
 "nbformat": 4,
 "nbformat_minor": 4
}
