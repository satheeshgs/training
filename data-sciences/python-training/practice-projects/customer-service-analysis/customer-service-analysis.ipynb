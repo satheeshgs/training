{
 "cells": [
  {
   "cell_type": "code",
   "execution_count": 1,
   "metadata": {},
   "outputs": [],
   "source": [
    "import pandas as pd\n",
    "import seaborn as sns\n",
    "import matplotlib.pyplot as plt\n",
    "import numpy as np"
   ]
  },
  {
   "cell_type": "code",
   "execution_count": 2,
   "metadata": {},
   "outputs": [
    {
     "name": "stderr",
     "output_type": "stream",
     "text": [
      "/home/satheesh/anaconda3/lib/python3.8/site-packages/IPython/core/interactiveshell.py:3146: DtypeWarning: Columns (48,49) have mixed types.Specify dtype option on import or set low_memory=False.\n",
      "  has_raised = await self.run_ast_nodes(code_ast.body, cell_name,\n"
     ]
    }
   ],
   "source": [
    "df_nyc_requests = pd.read_csv(\"311_Service_Requests_from_2010_to_Present.csv\")"
   ]
  },
  {
   "cell_type": "code",
   "execution_count": 3,
   "metadata": {},
   "outputs": [
    {
     "data": {
      "text/plain": [
       "Index(['Unique Key', 'Created Date', 'Closed Date', 'Agency', 'Agency Name',\n",
       "       'Complaint Type', 'Descriptor', 'Location Type', 'Incident Zip',\n",
       "       'Incident Address', 'Street Name', 'Cross Street 1', 'Cross Street 2',\n",
       "       'Intersection Street 1', 'Intersection Street 2', 'Address Type',\n",
       "       'City', 'Landmark', 'Facility Type', 'Status', 'Due Date',\n",
       "       'Resolution Description', 'Resolution Action Updated Date',\n",
       "       'Community Board', 'Borough', 'X Coordinate (State Plane)',\n",
       "       'Y Coordinate (State Plane)', 'Park Facility Name', 'Park Borough',\n",
       "       'School Name', 'School Number', 'School Region', 'School Code',\n",
       "       'School Phone Number', 'School Address', 'School City', 'School State',\n",
       "       'School Zip', 'School Not Found', 'School or Citywide Complaint',\n",
       "       'Vehicle Type', 'Taxi Company Borough', 'Taxi Pick Up Location',\n",
       "       'Bridge Highway Name', 'Bridge Highway Direction', 'Road Ramp',\n",
       "       'Bridge Highway Segment', 'Garage Lot Name', 'Ferry Direction',\n",
       "       'Ferry Terminal Name', 'Latitude', 'Longitude', 'Location'],\n",
       "      dtype='object')"
      ]
     },
     "execution_count": 3,
     "metadata": {},
     "output_type": "execute_result"
    }
   ],
   "source": [
    "df_nyc_requests.columns"
   ]
  },
  {
   "cell_type": "code",
   "execution_count": 4,
   "metadata": {},
   "outputs": [
    {
     "data": {
      "text/html": [
       "<div>\n",
       "<style scoped>\n",
       "    .dataframe tbody tr th:only-of-type {\n",
       "        vertical-align: middle;\n",
       "    }\n",
       "\n",
       "    .dataframe tbody tr th {\n",
       "        vertical-align: top;\n",
       "    }\n",
       "\n",
       "    .dataframe thead th {\n",
       "        text-align: right;\n",
       "    }\n",
       "</style>\n",
       "<table border=\"1\" class=\"dataframe\">\n",
       "  <thead>\n",
       "    <tr style=\"text-align: right;\">\n",
       "      <th></th>\n",
       "      <th>Unique Key</th>\n",
       "      <th>Created Date</th>\n",
       "      <th>Closed Date</th>\n",
       "      <th>Agency</th>\n",
       "      <th>Agency Name</th>\n",
       "      <th>Complaint Type</th>\n",
       "      <th>Descriptor</th>\n",
       "      <th>Location Type</th>\n",
       "      <th>Incident Zip</th>\n",
       "      <th>Incident Address</th>\n",
       "      <th>...</th>\n",
       "      <th>Bridge Highway Name</th>\n",
       "      <th>Bridge Highway Direction</th>\n",
       "      <th>Road Ramp</th>\n",
       "      <th>Bridge Highway Segment</th>\n",
       "      <th>Garage Lot Name</th>\n",
       "      <th>Ferry Direction</th>\n",
       "      <th>Ferry Terminal Name</th>\n",
       "      <th>Latitude</th>\n",
       "      <th>Longitude</th>\n",
       "      <th>Location</th>\n",
       "    </tr>\n",
       "  </thead>\n",
       "  <tbody>\n",
       "    <tr>\n",
       "      <th>0</th>\n",
       "      <td>32310363</td>\n",
       "      <td>12/31/2015 11:59:45 PM</td>\n",
       "      <td>01-01-16 0:55</td>\n",
       "      <td>NYPD</td>\n",
       "      <td>New York City Police Department</td>\n",
       "      <td>Noise - Street/Sidewalk</td>\n",
       "      <td>Loud Music/Party</td>\n",
       "      <td>Street/Sidewalk</td>\n",
       "      <td>10034.0</td>\n",
       "      <td>71 VERMILYEA AVENUE</td>\n",
       "      <td>...</td>\n",
       "      <td>NaN</td>\n",
       "      <td>NaN</td>\n",
       "      <td>NaN</td>\n",
       "      <td>NaN</td>\n",
       "      <td>NaN</td>\n",
       "      <td>NaN</td>\n",
       "      <td>NaN</td>\n",
       "      <td>40.865682</td>\n",
       "      <td>-73.923501</td>\n",
       "      <td>(40.86568153633767, -73.92350095571744)</td>\n",
       "    </tr>\n",
       "    <tr>\n",
       "      <th>1</th>\n",
       "      <td>32309934</td>\n",
       "      <td>12/31/2015 11:59:44 PM</td>\n",
       "      <td>01-01-16 1:26</td>\n",
       "      <td>NYPD</td>\n",
       "      <td>New York City Police Department</td>\n",
       "      <td>Blocked Driveway</td>\n",
       "      <td>No Access</td>\n",
       "      <td>Street/Sidewalk</td>\n",
       "      <td>11105.0</td>\n",
       "      <td>27-07 23 AVENUE</td>\n",
       "      <td>...</td>\n",
       "      <td>NaN</td>\n",
       "      <td>NaN</td>\n",
       "      <td>NaN</td>\n",
       "      <td>NaN</td>\n",
       "      <td>NaN</td>\n",
       "      <td>NaN</td>\n",
       "      <td>NaN</td>\n",
       "      <td>40.775945</td>\n",
       "      <td>-73.915094</td>\n",
       "      <td>(40.775945312321085, -73.91509393898605)</td>\n",
       "    </tr>\n",
       "    <tr>\n",
       "      <th>2</th>\n",
       "      <td>32309159</td>\n",
       "      <td>12/31/2015 11:59:29 PM</td>\n",
       "      <td>01-01-16 4:51</td>\n",
       "      <td>NYPD</td>\n",
       "      <td>New York City Police Department</td>\n",
       "      <td>Blocked Driveway</td>\n",
       "      <td>No Access</td>\n",
       "      <td>Street/Sidewalk</td>\n",
       "      <td>10458.0</td>\n",
       "      <td>2897 VALENTINE AVENUE</td>\n",
       "      <td>...</td>\n",
       "      <td>NaN</td>\n",
       "      <td>NaN</td>\n",
       "      <td>NaN</td>\n",
       "      <td>NaN</td>\n",
       "      <td>NaN</td>\n",
       "      <td>NaN</td>\n",
       "      <td>NaN</td>\n",
       "      <td>40.870325</td>\n",
       "      <td>-73.888525</td>\n",
       "      <td>(40.870324522111424, -73.88852464418646)</td>\n",
       "    </tr>\n",
       "    <tr>\n",
       "      <th>3</th>\n",
       "      <td>32305098</td>\n",
       "      <td>12/31/2015 11:57:46 PM</td>\n",
       "      <td>01-01-16 7:43</td>\n",
       "      <td>NYPD</td>\n",
       "      <td>New York City Police Department</td>\n",
       "      <td>Illegal Parking</td>\n",
       "      <td>Commercial Overnight Parking</td>\n",
       "      <td>Street/Sidewalk</td>\n",
       "      <td>10461.0</td>\n",
       "      <td>2940 BAISLEY AVENUE</td>\n",
       "      <td>...</td>\n",
       "      <td>NaN</td>\n",
       "      <td>NaN</td>\n",
       "      <td>NaN</td>\n",
       "      <td>NaN</td>\n",
       "      <td>NaN</td>\n",
       "      <td>NaN</td>\n",
       "      <td>NaN</td>\n",
       "      <td>40.835994</td>\n",
       "      <td>-73.828379</td>\n",
       "      <td>(40.83599404683083, -73.82837939584206)</td>\n",
       "    </tr>\n",
       "    <tr>\n",
       "      <th>4</th>\n",
       "      <td>32306529</td>\n",
       "      <td>12/31/2015 11:56:58 PM</td>\n",
       "      <td>01-01-16 3:24</td>\n",
       "      <td>NYPD</td>\n",
       "      <td>New York City Police Department</td>\n",
       "      <td>Illegal Parking</td>\n",
       "      <td>Blocked Sidewalk</td>\n",
       "      <td>Street/Sidewalk</td>\n",
       "      <td>11373.0</td>\n",
       "      <td>87-14 57 ROAD</td>\n",
       "      <td>...</td>\n",
       "      <td>NaN</td>\n",
       "      <td>NaN</td>\n",
       "      <td>NaN</td>\n",
       "      <td>NaN</td>\n",
       "      <td>NaN</td>\n",
       "      <td>NaN</td>\n",
       "      <td>NaN</td>\n",
       "      <td>40.733060</td>\n",
       "      <td>-73.874170</td>\n",
       "      <td>(40.733059618956815, -73.87416975810375)</td>\n",
       "    </tr>\n",
       "  </tbody>\n",
       "</table>\n",
       "<p>5 rows × 53 columns</p>\n",
       "</div>"
      ],
      "text/plain": [
       "   Unique Key            Created Date    Closed Date Agency  \\\n",
       "0    32310363  12/31/2015 11:59:45 PM  01-01-16 0:55   NYPD   \n",
       "1    32309934  12/31/2015 11:59:44 PM  01-01-16 1:26   NYPD   \n",
       "2    32309159  12/31/2015 11:59:29 PM  01-01-16 4:51   NYPD   \n",
       "3    32305098  12/31/2015 11:57:46 PM  01-01-16 7:43   NYPD   \n",
       "4    32306529  12/31/2015 11:56:58 PM  01-01-16 3:24   NYPD   \n",
       "\n",
       "                       Agency Name           Complaint Type  \\\n",
       "0  New York City Police Department  Noise - Street/Sidewalk   \n",
       "1  New York City Police Department         Blocked Driveway   \n",
       "2  New York City Police Department         Blocked Driveway   \n",
       "3  New York City Police Department          Illegal Parking   \n",
       "4  New York City Police Department          Illegal Parking   \n",
       "\n",
       "                     Descriptor    Location Type  Incident Zip  \\\n",
       "0              Loud Music/Party  Street/Sidewalk       10034.0   \n",
       "1                     No Access  Street/Sidewalk       11105.0   \n",
       "2                     No Access  Street/Sidewalk       10458.0   \n",
       "3  Commercial Overnight Parking  Street/Sidewalk       10461.0   \n",
       "4              Blocked Sidewalk  Street/Sidewalk       11373.0   \n",
       "\n",
       "        Incident Address  ... Bridge Highway Name Bridge Highway Direction  \\\n",
       "0    71 VERMILYEA AVENUE  ...                 NaN                      NaN   \n",
       "1        27-07 23 AVENUE  ...                 NaN                      NaN   \n",
       "2  2897 VALENTINE AVENUE  ...                 NaN                      NaN   \n",
       "3    2940 BAISLEY AVENUE  ...                 NaN                      NaN   \n",
       "4          87-14 57 ROAD  ...                 NaN                      NaN   \n",
       "\n",
       "  Road Ramp Bridge Highway Segment Garage Lot Name Ferry Direction  \\\n",
       "0       NaN                    NaN             NaN             NaN   \n",
       "1       NaN                    NaN             NaN             NaN   \n",
       "2       NaN                    NaN             NaN             NaN   \n",
       "3       NaN                    NaN             NaN             NaN   \n",
       "4       NaN                    NaN             NaN             NaN   \n",
       "\n",
       "  Ferry Terminal Name   Latitude  Longitude  \\\n",
       "0                 NaN  40.865682 -73.923501   \n",
       "1                 NaN  40.775945 -73.915094   \n",
       "2                 NaN  40.870325 -73.888525   \n",
       "3                 NaN  40.835994 -73.828379   \n",
       "4                 NaN  40.733060 -73.874170   \n",
       "\n",
       "                                   Location  \n",
       "0   (40.86568153633767, -73.92350095571744)  \n",
       "1  (40.775945312321085, -73.91509393898605)  \n",
       "2  (40.870324522111424, -73.88852464418646)  \n",
       "3   (40.83599404683083, -73.82837939584206)  \n",
       "4  (40.733059618956815, -73.87416975810375)  \n",
       "\n",
       "[5 rows x 53 columns]"
      ]
     },
     "execution_count": 4,
     "metadata": {},
     "output_type": "execute_result"
    }
   ],
   "source": [
    "df_nyc_requests.head(5)"
   ]
  },
  {
   "cell_type": "code",
   "execution_count": 5,
   "metadata": {},
   "outputs": [
    {
     "data": {
      "text/plain": [
       "(300698, 53)"
      ]
     },
     "execution_count": 5,
     "metadata": {},
     "output_type": "execute_result"
    }
   ],
   "source": [
    "df_nyc_requests.shape"
   ]
  },
  {
   "cell_type": "code",
   "execution_count": 6,
   "metadata": {
    "scrolled": true
   },
   "outputs": [
    {
     "data": {
      "text/html": [
       "<div>\n",
       "<style scoped>\n",
       "    .dataframe tbody tr th:only-of-type {\n",
       "        vertical-align: middle;\n",
       "    }\n",
       "\n",
       "    .dataframe tbody tr th {\n",
       "        vertical-align: top;\n",
       "    }\n",
       "\n",
       "    .dataframe thead th {\n",
       "        text-align: right;\n",
       "    }\n",
       "</style>\n",
       "<table border=\"1\" class=\"dataframe\">\n",
       "  <thead>\n",
       "    <tr style=\"text-align: right;\">\n",
       "      <th></th>\n",
       "      <th>Unique Key</th>\n",
       "      <th>Created Date</th>\n",
       "      <th>Closed Date</th>\n",
       "      <th>Agency</th>\n",
       "      <th>Agency Name</th>\n",
       "      <th>Complaint Type</th>\n",
       "      <th>Descriptor</th>\n",
       "      <th>Location Type</th>\n",
       "      <th>Incident Zip</th>\n",
       "      <th>Incident Address</th>\n",
       "      <th>...</th>\n",
       "      <th>Bridge Highway Name</th>\n",
       "      <th>Bridge Highway Direction</th>\n",
       "      <th>Road Ramp</th>\n",
       "      <th>Bridge Highway Segment</th>\n",
       "      <th>Garage Lot Name</th>\n",
       "      <th>Ferry Direction</th>\n",
       "      <th>Ferry Terminal Name</th>\n",
       "      <th>Latitude</th>\n",
       "      <th>Longitude</th>\n",
       "      <th>Location</th>\n",
       "    </tr>\n",
       "  </thead>\n",
       "  <tbody>\n",
       "    <tr>\n",
       "      <th>0</th>\n",
       "      <td>False</td>\n",
       "      <td>False</td>\n",
       "      <td>False</td>\n",
       "      <td>False</td>\n",
       "      <td>False</td>\n",
       "      <td>False</td>\n",
       "      <td>False</td>\n",
       "      <td>False</td>\n",
       "      <td>False</td>\n",
       "      <td>False</td>\n",
       "      <td>...</td>\n",
       "      <td>True</td>\n",
       "      <td>True</td>\n",
       "      <td>True</td>\n",
       "      <td>True</td>\n",
       "      <td>True</td>\n",
       "      <td>True</td>\n",
       "      <td>True</td>\n",
       "      <td>False</td>\n",
       "      <td>False</td>\n",
       "      <td>False</td>\n",
       "    </tr>\n",
       "    <tr>\n",
       "      <th>1</th>\n",
       "      <td>False</td>\n",
       "      <td>False</td>\n",
       "      <td>False</td>\n",
       "      <td>False</td>\n",
       "      <td>False</td>\n",
       "      <td>False</td>\n",
       "      <td>False</td>\n",
       "      <td>False</td>\n",
       "      <td>False</td>\n",
       "      <td>False</td>\n",
       "      <td>...</td>\n",
       "      <td>True</td>\n",
       "      <td>True</td>\n",
       "      <td>True</td>\n",
       "      <td>True</td>\n",
       "      <td>True</td>\n",
       "      <td>True</td>\n",
       "      <td>True</td>\n",
       "      <td>False</td>\n",
       "      <td>False</td>\n",
       "      <td>False</td>\n",
       "    </tr>\n",
       "    <tr>\n",
       "      <th>2</th>\n",
       "      <td>False</td>\n",
       "      <td>False</td>\n",
       "      <td>False</td>\n",
       "      <td>False</td>\n",
       "      <td>False</td>\n",
       "      <td>False</td>\n",
       "      <td>False</td>\n",
       "      <td>False</td>\n",
       "      <td>False</td>\n",
       "      <td>False</td>\n",
       "      <td>...</td>\n",
       "      <td>True</td>\n",
       "      <td>True</td>\n",
       "      <td>True</td>\n",
       "      <td>True</td>\n",
       "      <td>True</td>\n",
       "      <td>True</td>\n",
       "      <td>True</td>\n",
       "      <td>False</td>\n",
       "      <td>False</td>\n",
       "      <td>False</td>\n",
       "    </tr>\n",
       "    <tr>\n",
       "      <th>3</th>\n",
       "      <td>False</td>\n",
       "      <td>False</td>\n",
       "      <td>False</td>\n",
       "      <td>False</td>\n",
       "      <td>False</td>\n",
       "      <td>False</td>\n",
       "      <td>False</td>\n",
       "      <td>False</td>\n",
       "      <td>False</td>\n",
       "      <td>False</td>\n",
       "      <td>...</td>\n",
       "      <td>True</td>\n",
       "      <td>True</td>\n",
       "      <td>True</td>\n",
       "      <td>True</td>\n",
       "      <td>True</td>\n",
       "      <td>True</td>\n",
       "      <td>True</td>\n",
       "      <td>False</td>\n",
       "      <td>False</td>\n",
       "      <td>False</td>\n",
       "    </tr>\n",
       "    <tr>\n",
       "      <th>4</th>\n",
       "      <td>False</td>\n",
       "      <td>False</td>\n",
       "      <td>False</td>\n",
       "      <td>False</td>\n",
       "      <td>False</td>\n",
       "      <td>False</td>\n",
       "      <td>False</td>\n",
       "      <td>False</td>\n",
       "      <td>False</td>\n",
       "      <td>False</td>\n",
       "      <td>...</td>\n",
       "      <td>True</td>\n",
       "      <td>True</td>\n",
       "      <td>True</td>\n",
       "      <td>True</td>\n",
       "      <td>True</td>\n",
       "      <td>True</td>\n",
       "      <td>True</td>\n",
       "      <td>False</td>\n",
       "      <td>False</td>\n",
       "      <td>False</td>\n",
       "    </tr>\n",
       "    <tr>\n",
       "      <th>...</th>\n",
       "      <td>...</td>\n",
       "      <td>...</td>\n",
       "      <td>...</td>\n",
       "      <td>...</td>\n",
       "      <td>...</td>\n",
       "      <td>...</td>\n",
       "      <td>...</td>\n",
       "      <td>...</td>\n",
       "      <td>...</td>\n",
       "      <td>...</td>\n",
       "      <td>...</td>\n",
       "      <td>...</td>\n",
       "      <td>...</td>\n",
       "      <td>...</td>\n",
       "      <td>...</td>\n",
       "      <td>...</td>\n",
       "      <td>...</td>\n",
       "      <td>...</td>\n",
       "      <td>...</td>\n",
       "      <td>...</td>\n",
       "      <td>...</td>\n",
       "    </tr>\n",
       "    <tr>\n",
       "      <th>300693</th>\n",
       "      <td>False</td>\n",
       "      <td>False</td>\n",
       "      <td>True</td>\n",
       "      <td>False</td>\n",
       "      <td>False</td>\n",
       "      <td>False</td>\n",
       "      <td>False</td>\n",
       "      <td>False</td>\n",
       "      <td>True</td>\n",
       "      <td>False</td>\n",
       "      <td>...</td>\n",
       "      <td>True</td>\n",
       "      <td>True</td>\n",
       "      <td>True</td>\n",
       "      <td>True</td>\n",
       "      <td>True</td>\n",
       "      <td>True</td>\n",
       "      <td>True</td>\n",
       "      <td>True</td>\n",
       "      <td>True</td>\n",
       "      <td>True</td>\n",
       "    </tr>\n",
       "    <tr>\n",
       "      <th>300694</th>\n",
       "      <td>False</td>\n",
       "      <td>False</td>\n",
       "      <td>False</td>\n",
       "      <td>False</td>\n",
       "      <td>False</td>\n",
       "      <td>False</td>\n",
       "      <td>False</td>\n",
       "      <td>False</td>\n",
       "      <td>False</td>\n",
       "      <td>False</td>\n",
       "      <td>...</td>\n",
       "      <td>True</td>\n",
       "      <td>True</td>\n",
       "      <td>True</td>\n",
       "      <td>True</td>\n",
       "      <td>True</td>\n",
       "      <td>True</td>\n",
       "      <td>True</td>\n",
       "      <td>False</td>\n",
       "      <td>False</td>\n",
       "      <td>False</td>\n",
       "    </tr>\n",
       "    <tr>\n",
       "      <th>300695</th>\n",
       "      <td>False</td>\n",
       "      <td>False</td>\n",
       "      <td>False</td>\n",
       "      <td>False</td>\n",
       "      <td>False</td>\n",
       "      <td>False</td>\n",
       "      <td>False</td>\n",
       "      <td>False</td>\n",
       "      <td>False</td>\n",
       "      <td>False</td>\n",
       "      <td>...</td>\n",
       "      <td>True</td>\n",
       "      <td>True</td>\n",
       "      <td>True</td>\n",
       "      <td>True</td>\n",
       "      <td>True</td>\n",
       "      <td>True</td>\n",
       "      <td>True</td>\n",
       "      <td>False</td>\n",
       "      <td>False</td>\n",
       "      <td>False</td>\n",
       "    </tr>\n",
       "    <tr>\n",
       "      <th>300696</th>\n",
       "      <td>False</td>\n",
       "      <td>False</td>\n",
       "      <td>False</td>\n",
       "      <td>False</td>\n",
       "      <td>False</td>\n",
       "      <td>False</td>\n",
       "      <td>False</td>\n",
       "      <td>False</td>\n",
       "      <td>False</td>\n",
       "      <td>False</td>\n",
       "      <td>...</td>\n",
       "      <td>True</td>\n",
       "      <td>True</td>\n",
       "      <td>True</td>\n",
       "      <td>True</td>\n",
       "      <td>True</td>\n",
       "      <td>True</td>\n",
       "      <td>True</td>\n",
       "      <td>False</td>\n",
       "      <td>False</td>\n",
       "      <td>False</td>\n",
       "    </tr>\n",
       "    <tr>\n",
       "      <th>300697</th>\n",
       "      <td>False</td>\n",
       "      <td>False</td>\n",
       "      <td>False</td>\n",
       "      <td>False</td>\n",
       "      <td>False</td>\n",
       "      <td>False</td>\n",
       "      <td>False</td>\n",
       "      <td>False</td>\n",
       "      <td>False</td>\n",
       "      <td>False</td>\n",
       "      <td>...</td>\n",
       "      <td>True</td>\n",
       "      <td>True</td>\n",
       "      <td>True</td>\n",
       "      <td>True</td>\n",
       "      <td>True</td>\n",
       "      <td>True</td>\n",
       "      <td>True</td>\n",
       "      <td>False</td>\n",
       "      <td>False</td>\n",
       "      <td>False</td>\n",
       "    </tr>\n",
       "  </tbody>\n",
       "</table>\n",
       "<p>300698 rows × 53 columns</p>\n",
       "</div>"
      ],
      "text/plain": [
       "        Unique Key  Created Date  Closed Date  Agency  Agency Name  \\\n",
       "0            False         False        False   False        False   \n",
       "1            False         False        False   False        False   \n",
       "2            False         False        False   False        False   \n",
       "3            False         False        False   False        False   \n",
       "4            False         False        False   False        False   \n",
       "...            ...           ...          ...     ...          ...   \n",
       "300693       False         False         True   False        False   \n",
       "300694       False         False        False   False        False   \n",
       "300695       False         False        False   False        False   \n",
       "300696       False         False        False   False        False   \n",
       "300697       False         False        False   False        False   \n",
       "\n",
       "        Complaint Type  Descriptor  Location Type  Incident Zip  \\\n",
       "0                False       False          False         False   \n",
       "1                False       False          False         False   \n",
       "2                False       False          False         False   \n",
       "3                False       False          False         False   \n",
       "4                False       False          False         False   \n",
       "...                ...         ...            ...           ...   \n",
       "300693           False       False          False          True   \n",
       "300694           False       False          False         False   \n",
       "300695           False       False          False         False   \n",
       "300696           False       False          False         False   \n",
       "300697           False       False          False         False   \n",
       "\n",
       "        Incident Address  ...  Bridge Highway Name  Bridge Highway Direction  \\\n",
       "0                  False  ...                 True                      True   \n",
       "1                  False  ...                 True                      True   \n",
       "2                  False  ...                 True                      True   \n",
       "3                  False  ...                 True                      True   \n",
       "4                  False  ...                 True                      True   \n",
       "...                  ...  ...                  ...                       ...   \n",
       "300693             False  ...                 True                      True   \n",
       "300694             False  ...                 True                      True   \n",
       "300695             False  ...                 True                      True   \n",
       "300696             False  ...                 True                      True   \n",
       "300697             False  ...                 True                      True   \n",
       "\n",
       "        Road Ramp  Bridge Highway Segment  Garage Lot Name  Ferry Direction  \\\n",
       "0            True                    True             True             True   \n",
       "1            True                    True             True             True   \n",
       "2            True                    True             True             True   \n",
       "3            True                    True             True             True   \n",
       "4            True                    True             True             True   \n",
       "...           ...                     ...              ...              ...   \n",
       "300693       True                    True             True             True   \n",
       "300694       True                    True             True             True   \n",
       "300695       True                    True             True             True   \n",
       "300696       True                    True             True             True   \n",
       "300697       True                    True             True             True   \n",
       "\n",
       "        Ferry Terminal Name  Latitude  Longitude  Location  \n",
       "0                      True     False      False     False  \n",
       "1                      True     False      False     False  \n",
       "2                      True     False      False     False  \n",
       "3                      True     False      False     False  \n",
       "4                      True     False      False     False  \n",
       "...                     ...       ...        ...       ...  \n",
       "300693                 True      True       True      True  \n",
       "300694                 True     False      False     False  \n",
       "300695                 True     False      False     False  \n",
       "300696                 True     False      False     False  \n",
       "300697                 True     False      False     False  \n",
       "\n",
       "[300698 rows x 53 columns]"
      ]
     },
     "execution_count": 6,
     "metadata": {},
     "output_type": "execute_result"
    }
   ],
   "source": [
    "df_nyc_requests.isnull()"
   ]
  },
  {
   "cell_type": "code",
   "execution_count": 7,
   "metadata": {},
   "outputs": [
    {
     "data": {
      "text/plain": [
       "Unique Key                             0\n",
       "Created Date                           0\n",
       "Closed Date                         2164\n",
       "Agency                                 0\n",
       "Agency Name                            0\n",
       "Complaint Type                         0\n",
       "Descriptor                          5914\n",
       "Location Type                        131\n",
       "Incident Zip                        2615\n",
       "Incident Address                   44410\n",
       "Street Name                        44410\n",
       "Cross Street 1                     49279\n",
       "Cross Street 2                     49779\n",
       "Intersection Street 1             256840\n",
       "Intersection Street 2             257336\n",
       "Address Type                        2815\n",
       "City                                2614\n",
       "Landmark                          300349\n",
       "Facility Type                       2171\n",
       "Status                                 0\n",
       "Due Date                               3\n",
       "Resolution Description                 0\n",
       "Resolution Action Updated Date      2187\n",
       "Community Board                        0\n",
       "Borough                                0\n",
       "X Coordinate (State Plane)          3540\n",
       "Y Coordinate (State Plane)          3540\n",
       "Park Facility Name                     0\n",
       "Park Borough                           0\n",
       "School Name                            0\n",
       "School Number                          0\n",
       "School Region                          1\n",
       "School Code                            1\n",
       "School Phone Number                    0\n",
       "School Address                         0\n",
       "School City                            0\n",
       "School State                           0\n",
       "School Zip                             1\n",
       "School Not Found                       0\n",
       "School or Citywide Complaint      300698\n",
       "Vehicle Type                      300698\n",
       "Taxi Company Borough              300698\n",
       "Taxi Pick Up Location             300698\n",
       "Bridge Highway Name               300455\n",
       "Bridge Highway Direction          300455\n",
       "Road Ramp                         300485\n",
       "Bridge Highway Segment            300485\n",
       "Garage Lot Name                   300698\n",
       "Ferry Direction                   300697\n",
       "Ferry Terminal Name               300696\n",
       "Latitude                            3540\n",
       "Longitude                           3540\n",
       "Location                            3540\n",
       "dtype: int64"
      ]
     },
     "execution_count": 7,
     "metadata": {},
     "output_type": "execute_result"
    }
   ],
   "source": [
    "#counting the null values that have been observed per column\n",
    "df_nyc_requests.isnull().sum()"
   ]
  },
  {
   "cell_type": "markdown",
   "metadata": {},
   "source": [
    "## Conclusion #1:"
   ]
  },
  {
   "cell_type": "markdown",
   "metadata": {},
   "source": [
    "It is evident that the columsn \"School or Citywide Complaint\", \"Vehicle Type\", \"Taxi Company Borough\", \"Taxi Pick Up Location\", \"Garage Lot Name\" have no data which can be used for analysis. This is because all of their values are null\n",
    "\n",
    "The other columns such as \"Ferry Direction\", \"Ferry Terminal Name\" have only 1 or 2 records\n",
    "\n",
    "It's safe to assume that these columns can be dropped and we should be able to proceed with our data analysis"
   ]
  },
  {
   "cell_type": "markdown",
   "metadata": {},
   "source": [
    "##### Analysis around Bridge, Landmark and Road ramp for meaningful data"
   ]
  },
  {
   "cell_type": "markdown",
   "metadata": {},
   "source": [
    "The data from the columns \"Bridge Highway Name\", \"Bridge Highway Direction\", \"Bridge Highway segment\", \"Landmark\", \"Road ramp\" all have data that is less than 1% of data. So it woul be ideal to drop these columns"
   ]
  },
  {
   "cell_type": "markdown",
   "metadata": {},
   "source": [
    "## Dropping the columns described above"
   ]
  },
  {
   "cell_type": "code",
   "execution_count": 8,
   "metadata": {},
   "outputs": [],
   "source": [
    "df_nyc_requests.drop(['Landmark', 'School or Citywide Complaint', 'Vehicle Type', 'Taxi Company Borough', \n",
    "                     'Taxi Pick Up Location', 'Bridge Highway Name', 'Bridge Highway Direction', \n",
    "                     'Road Ramp', 'Bridge Highway Segment', 'Garage Lot Name', 'Ferry Direction', \n",
    "                     'Ferry Terminal Name'], axis='columns', inplace=True)"
   ]
  },
  {
   "cell_type": "code",
   "execution_count": 9,
   "metadata": {},
   "outputs": [
    {
     "data": {
      "text/plain": [
       "(300698, 41)"
      ]
     },
     "execution_count": 9,
     "metadata": {},
     "output_type": "execute_result"
    }
   ],
   "source": [
    "#verifying the shape after dropping the columns\n",
    "df_nyc_requests.shape"
   ]
  },
  {
   "cell_type": "code",
   "execution_count": 10,
   "metadata": {},
   "outputs": [
    {
     "data": {
      "text/plain": [
       "Index(['Unique Key', 'Created Date', 'Closed Date', 'Agency', 'Agency Name',\n",
       "       'Complaint Type', 'Descriptor', 'Location Type', 'Incident Zip',\n",
       "       'Incident Address', 'Street Name', 'Cross Street 1', 'Cross Street 2',\n",
       "       'Intersection Street 1', 'Intersection Street 2', 'Address Type',\n",
       "       'City', 'Facility Type', 'Status', 'Due Date', 'Resolution Description',\n",
       "       'Resolution Action Updated Date', 'Community Board', 'Borough',\n",
       "       'X Coordinate (State Plane)', 'Y Coordinate (State Plane)',\n",
       "       'Park Facility Name', 'Park Borough', 'School Name', 'School Number',\n",
       "       'School Region', 'School Code', 'School Phone Number', 'School Address',\n",
       "       'School City', 'School State', 'School Zip', 'School Not Found',\n",
       "       'Latitude', 'Longitude', 'Location'],\n",
       "      dtype='object')"
      ]
     },
     "execution_count": 10,
     "metadata": {},
     "output_type": "execute_result"
    }
   ],
   "source": [
    "df_nyc_requests.columns"
   ]
  },
  {
   "cell_type": "code",
   "execution_count": 11,
   "metadata": {},
   "outputs": [
    {
     "data": {
      "text/plain": [
       "Unique Key                                                                 32310363\n",
       "Created Date                                                 12/31/2015 11:59:45 PM\n",
       "Closed Date                                                           01-01-16 0:55\n",
       "Agency                                                                         NYPD\n",
       "Agency Name                                         New York City Police Department\n",
       "Complaint Type                                              Noise - Street/Sidewalk\n",
       "Descriptor                                                         Loud Music/Party\n",
       "Location Type                                                       Street/Sidewalk\n",
       "Incident Zip                                                                  10034\n",
       "Incident Address                                                71 VERMILYEA AVENUE\n",
       "Street Name                                                        VERMILYEA AVENUE\n",
       "Cross Street 1                                                       ACADEMY STREET\n",
       "Cross Street 2                                                      WEST 204 STREET\n",
       "Intersection Street 1                                                           NaN\n",
       "Intersection Street 2                                                           NaN\n",
       "Address Type                                                                ADDRESS\n",
       "City                                                                       NEW YORK\n",
       "Facility Type                                                              Precinct\n",
       "Status                                                                       Closed\n",
       "Due Date                                                              01-01-16 7:59\n",
       "Resolution Description            The Police Department responded and upon arriv...\n",
       "Resolution Action Updated Date                                        01-01-16 0:55\n",
       "Community Board                                                        12 MANHATTAN\n",
       "Borough                                                                   MANHATTAN\n",
       "X Coordinate (State Plane)                                              1.00541e+06\n",
       "Y Coordinate (State Plane)                                                   254678\n",
       "Park Facility Name                                                      Unspecified\n",
       "Park Borough                                                              MANHATTAN\n",
       "School Name                                                             Unspecified\n",
       "School Number                                                           Unspecified\n",
       "School Region                                                           Unspecified\n",
       "School Code                                                             Unspecified\n",
       "School Phone Number                                                     Unspecified\n",
       "School Address                                                          Unspecified\n",
       "School City                                                             Unspecified\n",
       "School State                                                            Unspecified\n",
       "School Zip                                                              Unspecified\n",
       "School Not Found                                                                  N\n",
       "Latitude                                                                    40.8657\n",
       "Longitude                                                                  -73.9235\n",
       "Location                                    (40.86568153633767, -73.92350095571744)\n",
       "Name: 0, dtype: object"
      ]
     },
     "execution_count": 11,
     "metadata": {},
     "output_type": "execute_result"
    }
   ],
   "source": [
    "#verifying the first data point after dropping columns\n",
    "df_nyc_requests.iloc[0]"
   ]
  },
  {
   "cell_type": "code",
   "execution_count": 12,
   "metadata": {},
   "outputs": [
    {
     "data": {
      "text/plain": [
       "Unspecified                        300697\n",
       "Alley Pond Park - Nature Center         1\n",
       "Name: School Name, dtype: int64"
      ]
     },
     "execution_count": 12,
     "metadata": {},
     "output_type": "execute_result"
    }
   ],
   "source": [
    "#checking if school name, number region etc is always unspecified\n",
    "df_nyc_requests[\"School Name\"].value_counts()"
   ]
  },
  {
   "cell_type": "code",
   "execution_count": 13,
   "metadata": {},
   "outputs": [
    {
     "data": {
      "text/plain": [
       "Unspecified    300697\n",
       "Q001                1\n",
       "Name: School Number, dtype: int64"
      ]
     },
     "execution_count": 13,
     "metadata": {},
     "output_type": "execute_result"
    }
   ],
   "source": [
    "df_nyc_requests[\"School Number\"].value_counts()"
   ]
  },
  {
   "cell_type": "code",
   "execution_count": 14,
   "metadata": {},
   "outputs": [
    {
     "data": {
      "text/plain": [
       "Unspecified    300697\n",
       "Name: School Region, dtype: int64"
      ]
     },
     "execution_count": 14,
     "metadata": {},
     "output_type": "execute_result"
    }
   ],
   "source": [
    "df_nyc_requests[\"School Region\"].value_counts()"
   ]
  },
  {
   "cell_type": "code",
   "execution_count": 15,
   "metadata": {},
   "outputs": [
    {
     "data": {
      "text/plain": [
       "Unspecified    300697\n",
       "Name: School Code, dtype: int64"
      ]
     },
     "execution_count": 15,
     "metadata": {},
     "output_type": "execute_result"
    }
   ],
   "source": [
    "df_nyc_requests[\"School Code\"].value_counts()"
   ]
  },
  {
   "cell_type": "code",
   "execution_count": 16,
   "metadata": {},
   "outputs": [
    {
     "data": {
      "text/plain": [
       "Unspecified    300697\n",
       "7182176034          1\n",
       "Name: School Phone Number, dtype: int64"
      ]
     },
     "execution_count": 16,
     "metadata": {},
     "output_type": "execute_result"
    }
   ],
   "source": [
    "df_nyc_requests[\"School Phone Number\"].value_counts()"
   ]
  },
  {
   "cell_type": "code",
   "execution_count": 17,
   "metadata": {},
   "outputs": [
    {
     "data": {
      "text/plain": [
       "Unspecified                                     300697\n",
       "Grand Central Parkway, near the soccer field         1\n",
       "Name: School Address, dtype: int64"
      ]
     },
     "execution_count": 17,
     "metadata": {},
     "output_type": "execute_result"
    }
   ],
   "source": [
    "df_nyc_requests[\"School Address\"].value_counts()"
   ]
  },
  {
   "cell_type": "code",
   "execution_count": 18,
   "metadata": {},
   "outputs": [
    {
     "data": {
      "text/plain": [
       "Unspecified    300697\n",
       "QUEENS              1\n",
       "Name: School City, dtype: int64"
      ]
     },
     "execution_count": 18,
     "metadata": {},
     "output_type": "execute_result"
    }
   ],
   "source": [
    "df_nyc_requests[\"School City\"].value_counts()"
   ]
  },
  {
   "cell_type": "code",
   "execution_count": 19,
   "metadata": {},
   "outputs": [
    {
     "data": {
      "text/plain": [
       "Unspecified    300697\n",
       "NY                  1\n",
       "Name: School State, dtype: int64"
      ]
     },
     "execution_count": 19,
     "metadata": {},
     "output_type": "execute_result"
    }
   ],
   "source": [
    "df_nyc_requests[\"School State\"].value_counts()"
   ]
  },
  {
   "cell_type": "code",
   "execution_count": 20,
   "metadata": {},
   "outputs": [
    {
     "data": {
      "text/plain": [
       "Unspecified    300697\n",
       "Name: School Zip, dtype: int64"
      ]
     },
     "execution_count": 20,
     "metadata": {},
     "output_type": "execute_result"
    }
   ],
   "source": [
    "df_nyc_requests[\"School Zip\"].value_counts()"
   ]
  },
  {
   "cell_type": "code",
   "execution_count": 21,
   "metadata": {},
   "outputs": [
    {
     "data": {
      "text/html": [
       "<div>\n",
       "<style scoped>\n",
       "    .dataframe tbody tr th:only-of-type {\n",
       "        vertical-align: middle;\n",
       "    }\n",
       "\n",
       "    .dataframe tbody tr th {\n",
       "        vertical-align: top;\n",
       "    }\n",
       "\n",
       "    .dataframe thead th {\n",
       "        text-align: right;\n",
       "    }\n",
       "</style>\n",
       "<table border=\"1\" class=\"dataframe\">\n",
       "  <thead>\n",
       "    <tr style=\"text-align: right;\">\n",
       "      <th></th>\n",
       "      <th>Unique Key</th>\n",
       "      <th>Created Date</th>\n",
       "      <th>Closed Date</th>\n",
       "      <th>Agency</th>\n",
       "      <th>Agency Name</th>\n",
       "      <th>Complaint Type</th>\n",
       "      <th>Descriptor</th>\n",
       "      <th>Location Type</th>\n",
       "      <th>Incident Zip</th>\n",
       "      <th>Incident Address</th>\n",
       "      <th>...</th>\n",
       "      <th>School Code</th>\n",
       "      <th>School Phone Number</th>\n",
       "      <th>School Address</th>\n",
       "      <th>School City</th>\n",
       "      <th>School State</th>\n",
       "      <th>School Zip</th>\n",
       "      <th>School Not Found</th>\n",
       "      <th>Latitude</th>\n",
       "      <th>Longitude</th>\n",
       "      <th>Location</th>\n",
       "    </tr>\n",
       "  </thead>\n",
       "  <tbody>\n",
       "    <tr>\n",
       "      <th>283132</th>\n",
       "      <td>30427220</td>\n",
       "      <td>04/18/2015 09:44:55 AM</td>\n",
       "      <td>05-02-15 10:35</td>\n",
       "      <td>NYPD</td>\n",
       "      <td>New York City Police Department</td>\n",
       "      <td>Animal in a Park</td>\n",
       "      <td>Animal Waste</td>\n",
       "      <td>Park</td>\n",
       "      <td>NaN</td>\n",
       "      <td>NaN</td>\n",
       "      <td>...</td>\n",
       "      <td>NaN</td>\n",
       "      <td>7182176034</td>\n",
       "      <td>Grand Central Parkway, near the soccer field</td>\n",
       "      <td>QUEENS</td>\n",
       "      <td>NY</td>\n",
       "      <td>NaN</td>\n",
       "      <td>N</td>\n",
       "      <td>NaN</td>\n",
       "      <td>NaN</td>\n",
       "      <td>NaN</td>\n",
       "    </tr>\n",
       "  </tbody>\n",
       "</table>\n",
       "<p>1 rows × 41 columns</p>\n",
       "</div>"
      ],
      "text/plain": [
       "        Unique Key            Created Date     Closed Date Agency  \\\n",
       "283132    30427220  04/18/2015 09:44:55 AM  05-02-15 10:35   NYPD   \n",
       "\n",
       "                            Agency Name    Complaint Type    Descriptor  \\\n",
       "283132  New York City Police Department  Animal in a Park  Animal Waste   \n",
       "\n",
       "       Location Type  Incident Zip Incident Address  ... School Code  \\\n",
       "283132          Park           NaN              NaN  ...         NaN   \n",
       "\n",
       "       School Phone Number                                School Address  \\\n",
       "283132          7182176034  Grand Central Parkway, near the soccer field   \n",
       "\n",
       "       School City School State School Zip School Not Found Latitude  \\\n",
       "283132      QUEENS           NY        NaN                N      NaN   \n",
       "\n",
       "       Longitude Location  \n",
       "283132       NaN      NaN  \n",
       "\n",
       "[1 rows x 41 columns]"
      ]
     },
     "execution_count": 21,
     "metadata": {},
     "output_type": "execute_result"
    }
   ],
   "source": [
    "#checking for the type of crime that is committed near/ at a school\n",
    "school_complaints = df_nyc_requests[df_nyc_requests[\"School Name\"]!=\"Unspecified\"]\n",
    "school_complaints"
   ]
  },
  {
   "cell_type": "code",
   "execution_count": 22,
   "metadata": {},
   "outputs": [
    {
     "data": {
      "text/plain": [
       "Unique Key                                                                 30427220\n",
       "Created Date                                                 04/18/2015 09:44:55 AM\n",
       "Closed Date                                                          05-02-15 10:35\n",
       "Agency                                                                         NYPD\n",
       "Agency Name                                         New York City Police Department\n",
       "Complaint Type                                                     Animal in a Park\n",
       "Descriptor                                                             Animal Waste\n",
       "Location Type                                                                  Park\n",
       "Incident Zip                                                                    NaN\n",
       "Incident Address                                                                NaN\n",
       "Street Name                                                                     NaN\n",
       "Cross Street 1                                                                  NaN\n",
       "Cross Street 2                                                                  NaN\n",
       "Intersection Street 1                                                           NaN\n",
       "Intersection Street 2                                                           NaN\n",
       "Address Type                                                                    NaN\n",
       "City                                                                         QUEENS\n",
       "Facility Type                                                                   NaN\n",
       "Status                                                                       Closed\n",
       "Due Date                                                              05-02-15 9:44\n",
       "Resolution Description            The condition was determined to be an issue ap...\n",
       "Resolution Action Updated Date                                       05-02-15 10:35\n",
       "Community Board                                                       0 Unspecified\n",
       "Borough                                                                 Unspecified\n",
       "X Coordinate (State Plane)                                                      NaN\n",
       "Y Coordinate (State Plane)                                                      NaN\n",
       "Park Facility Name                                  Alley Pond Park - Nature Center\n",
       "Park Borough                                                            Unspecified\n",
       "School Name                                         Alley Pond Park - Nature Center\n",
       "School Number                                                                  Q001\n",
       "School Region                                                                   NaN\n",
       "School Code                                                                     NaN\n",
       "School Phone Number                                                      7182176034\n",
       "School Address                         Grand Central Parkway, near the soccer field\n",
       "School City                                                                  QUEENS\n",
       "School State                                                                     NY\n",
       "School Zip                                                                      NaN\n",
       "School Not Found                                                                  N\n",
       "Latitude                                                                        NaN\n",
       "Longitude                                                                       NaN\n",
       "Location                                                                        NaN\n",
       "Name: 283132, dtype: object"
      ]
     },
     "execution_count": 22,
     "metadata": {},
     "output_type": "execute_result"
    }
   ],
   "source": [
    "school_complaints.iloc[0]"
   ]
  },
  {
   "cell_type": "markdown",
   "metadata": {},
   "source": [
    "## Conclusion #2"
   ]
  },
  {
   "cell_type": "markdown",
   "metadata": {},
   "source": [
    "There is only 1 occurence of a complaint which is associated with a school in Queens. It's safe to assume that the New York Police department has been keeping all school areas well guarded/ protected"
   ]
  },
  {
   "cell_type": "code",
   "execution_count": 23,
   "metadata": {},
   "outputs": [
    {
     "data": {
      "text/plain": [
       "Unspecified                        300697\n",
       "Alley Pond Park - Nature Center         1\n",
       "Name: Park Facility Name, dtype: int64"
      ]
     },
     "execution_count": 23,
     "metadata": {},
     "output_type": "execute_result"
    }
   ],
   "source": [
    "#Examining the Unspecified for Park Facility Name\n",
    "df_nyc_requests[\"Park Facility Name\"].value_counts()"
   ]
  },
  {
   "cell_type": "code",
   "execution_count": 24,
   "metadata": {},
   "outputs": [],
   "source": [
    "#keeping this as a separate data set for understanding the nature of the complaint\n",
    "park_complaints = df_nyc_requests[df_nyc_requests[\"Park Facility Name\"]!= \"Unspecified\"]"
   ]
  },
  {
   "cell_type": "code",
   "execution_count": 25,
   "metadata": {},
   "outputs": [
    {
     "data": {
      "text/plain": [
       "Unique Key                                                                 30427220\n",
       "Created Date                                                 04/18/2015 09:44:55 AM\n",
       "Closed Date                                                          05-02-15 10:35\n",
       "Agency                                                                         NYPD\n",
       "Agency Name                                         New York City Police Department\n",
       "Complaint Type                                                     Animal in a Park\n",
       "Descriptor                                                             Animal Waste\n",
       "Location Type                                                                  Park\n",
       "Incident Zip                                                                    NaN\n",
       "Incident Address                                                                NaN\n",
       "Street Name                                                                     NaN\n",
       "Cross Street 1                                                                  NaN\n",
       "Cross Street 2                                                                  NaN\n",
       "Intersection Street 1                                                           NaN\n",
       "Intersection Street 2                                                           NaN\n",
       "Address Type                                                                    NaN\n",
       "City                                                                         QUEENS\n",
       "Facility Type                                                                   NaN\n",
       "Status                                                                       Closed\n",
       "Due Date                                                              05-02-15 9:44\n",
       "Resolution Description            The condition was determined to be an issue ap...\n",
       "Resolution Action Updated Date                                       05-02-15 10:35\n",
       "Community Board                                                       0 Unspecified\n",
       "Borough                                                                 Unspecified\n",
       "X Coordinate (State Plane)                                                      NaN\n",
       "Y Coordinate (State Plane)                                                      NaN\n",
       "Park Facility Name                                  Alley Pond Park - Nature Center\n",
       "Park Borough                                                            Unspecified\n",
       "School Name                                         Alley Pond Park - Nature Center\n",
       "School Number                                                                  Q001\n",
       "School Region                                                                   NaN\n",
       "School Code                                                                     NaN\n",
       "School Phone Number                                                      7182176034\n",
       "School Address                         Grand Central Parkway, near the soccer field\n",
       "School City                                                                  QUEENS\n",
       "School State                                                                     NY\n",
       "School Zip                                                                      NaN\n",
       "School Not Found                                                                  N\n",
       "Latitude                                                                        NaN\n",
       "Longitude                                                                       NaN\n",
       "Location                                                                        NaN\n",
       "Name: 283132, dtype: object"
      ]
     },
     "execution_count": 25,
     "metadata": {},
     "output_type": "execute_result"
    }
   ],
   "source": [
    "park_complaints.iloc[0]"
   ]
  },
  {
   "cell_type": "markdown",
   "metadata": {},
   "source": [
    "The complaint from the school is of the park and there are no other part related complaints where the facily name is explicitly mentioned"
   ]
  },
  {
   "cell_type": "markdown",
   "metadata": {},
   "source": [
    "## Examining distribution of complaints"
   ]
  },
  {
   "cell_type": "code",
   "execution_count": 26,
   "metadata": {},
   "outputs": [
    {
     "data": {
      "text/plain": [
       "<AxesSubplot:ylabel='City'>"
      ]
     },
     "execution_count": 26,
     "metadata": {},
     "output_type": "execute_result"
    },
    {
     "data": {
      "image/png": "[encoded data removed]",
      "text/plain": [
       "<Figure size 864x864 with 1 Axes>"
      ]
     },
     "metadata": {},
     "output_type": "display_data"
    }
   ],
   "source": [
    "#Distribution by city\n",
    "df_nyc_requests[\"City\"].value_counts().plot(kind='pie', figsize =(12,12))"
   ]
  },
  {
   "cell_type": "markdown",
   "metadata": {},
   "source": [
    "### Conclusion #3"
   ]
  },
  {
   "cell_type": "markdown",
   "metadata": {},
   "source": [
    "Brooklyn, New York, Bronx and Staten Island contribute to over 70% of the total complaints received by the New York Police Department. This could be owing to the larger amount of population in these areas"
   ]
  },
  {
   "cell_type": "markdown",
   "metadata": {},
   "source": [
    "## Examining complaints based on date"
   ]
  },
  {
   "cell_type": "code",
   "execution_count": 27,
   "metadata": {},
   "outputs": [],
   "source": [
    "#converting the available dates to date-time format\n",
    "df_nyc_requests[\"Created Date\"] = pd.to_datetime(df_nyc_requests[\"Created Date\"])\n",
    "df_nyc_requests[\"Closed Date\"] = pd.to_datetime(df_nyc_requests[\"Closed Date\"])\n",
    "df_nyc_requests[\"Due Date\"] = pd.to_datetime(df_nyc_requests[\"Due Date\"])\n",
    "df_nyc_requests[\"Resolution Action Updated Date\"] = pd.to_datetime(df_nyc_requests[\"Resolution Action Updated Date\"])"
   ]
  },
  {
   "cell_type": "code",
   "execution_count": 28,
   "metadata": {},
   "outputs": [
    {
     "data": {
      "text/plain": [
       "Unique Key                                                                 32310363\n",
       "Created Date                                                    2015-12-31 23:59:45\n",
       "Closed Date                                                     2016-01-01 00:55:00\n",
       "Agency                                                                         NYPD\n",
       "Agency Name                                         New York City Police Department\n",
       "Complaint Type                                              Noise - Street/Sidewalk\n",
       "Descriptor                                                         Loud Music/Party\n",
       "Location Type                                                       Street/Sidewalk\n",
       "Incident Zip                                                                  10034\n",
       "Incident Address                                                71 VERMILYEA AVENUE\n",
       "Street Name                                                        VERMILYEA AVENUE\n",
       "Cross Street 1                                                       ACADEMY STREET\n",
       "Cross Street 2                                                      WEST 204 STREET\n",
       "Intersection Street 1                                                           NaN\n",
       "Intersection Street 2                                                           NaN\n",
       "Address Type                                                                ADDRESS\n",
       "City                                                                       NEW YORK\n",
       "Facility Type                                                              Precinct\n",
       "Status                                                                       Closed\n",
       "Due Date                                                        2016-01-01 07:59:00\n",
       "Resolution Description            The Police Department responded and upon arriv...\n",
       "Resolution Action Updated Date                                  2016-01-01 00:55:00\n",
       "Community Board                                                        12 MANHATTAN\n",
       "Borough                                                                   MANHATTAN\n",
       "X Coordinate (State Plane)                                              1.00541e+06\n",
       "Y Coordinate (State Plane)                                                   254678\n",
       "Park Facility Name                                                      Unspecified\n",
       "Park Borough                                                              MANHATTAN\n",
       "School Name                                                             Unspecified\n",
       "School Number                                                           Unspecified\n",
       "School Region                                                           Unspecified\n",
       "School Code                                                             Unspecified\n",
       "School Phone Number                                                     Unspecified\n",
       "School Address                                                          Unspecified\n",
       "School City                                                             Unspecified\n",
       "School State                                                            Unspecified\n",
       "School Zip                                                              Unspecified\n",
       "School Not Found                                                                  N\n",
       "Latitude                                                                    40.8657\n",
       "Longitude                                                                  -73.9235\n",
       "Location                                    (40.86568153633767, -73.92350095571744)\n",
       "Name: 0, dtype: object"
      ]
     },
     "execution_count": 28,
     "metadata": {},
     "output_type": "execute_result"
    }
   ],
   "source": [
    "df_nyc_requests.iloc[0]"
   ]
  },
  {
   "cell_type": "code",
   "execution_count": 29,
   "metadata": {
    "scrolled": true
   },
   "outputs": [
    {
     "data": {
      "text/plain": [
       "<AxesSubplot:ylabel='Complaint Type'>"
      ]
     },
     "execution_count": 29,
     "metadata": {},
     "output_type": "execute_result"
    },
    {
     "data": {
      "image/png": "[encoded data removed]",
      "text/plain": [
       "<Figure size 720x720 with 1 Axes>"
      ]
     },
     "metadata": {},
     "output_type": "display_data"
    }
   ],
   "source": [
    "#complaint types split up\n",
    "df_nyc_requests[\"Complaint Type\"].value_counts().plot(kind='pie', figsize=(10,10))"
   ]
  },
  {
   "cell_type": "markdown",
   "metadata": {},
   "source": [
    "## Conclusion #4"
   ]
  },
  {
   "cell_type": "markdown",
   "metadata": {},
   "source": [
    "Blocked Driveway and Illegal Parking forms over 50% of the total complaints to the NYPD which is an indication that parking is generally a huge problem.\n",
    "\n",
    "The top 4 complaint areas \"Blocked Driveway\", \"Illegal Parking\", \"Noise - Street/Sidewalk\", \"Noise - Commercial\" form over 75% of the complaints which is an indication that Noise is the second largest contributor towards complaints to the NYPD"
   ]
  },
  {
   "cell_type": "code",
   "execution_count": 30,
   "metadata": {},
   "outputs": [],
   "source": [
    "#Creating a column to find out resolution time\n",
    "df_nyc_requests[\"Expected Resolution Time\"] = df_nyc_requests[\"Due Date\"] - df_nyc_requests[\"Created Date\"]\n",
    "df_nyc_requests[\"Actual Resolution Time\"] = df_nyc_requests[\"Closed Date\"] - df_nyc_requests[\"Created Date\"]"
   ]
  },
  {
   "cell_type": "code",
   "execution_count": 31,
   "metadata": {},
   "outputs": [
    {
     "data": {
      "text/plain": [
       "Unique Key                                                                 32305098\n",
       "Created Date                                                    2015-12-31 23:57:46\n",
       "Closed Date                                                     2016-01-01 07:43:00\n",
       "Agency                                                                         NYPD\n",
       "Agency Name                                         New York City Police Department\n",
       "Complaint Type                                                      Illegal Parking\n",
       "Descriptor                                             Commercial Overnight Parking\n",
       "Location Type                                                       Street/Sidewalk\n",
       "Incident Zip                                                                  10461\n",
       "Incident Address                                                2940 BAISLEY AVENUE\n",
       "Street Name                                                          BAISLEY AVENUE\n",
       "Cross Street 1                                                        EDISON AVENUE\n",
       "Cross Street 2                                                             B STREET\n",
       "Intersection Street 1                                                           NaN\n",
       "Intersection Street 2                                                           NaN\n",
       "Address Type                                                                ADDRESS\n",
       "City                                                                          BRONX\n",
       "Facility Type                                                              Precinct\n",
       "Status                                                                       Closed\n",
       "Due Date                                                        2016-01-01 07:57:00\n",
       "Resolution Description            The Police Department responded to the complai...\n",
       "Resolution Action Updated Date                                  2016-01-01 07:43:00\n",
       "Community Board                                                            10 BRONX\n",
       "Borough                                                                       BRONX\n",
       "X Coordinate (State Plane)                                              1.03174e+06\n",
       "Y Coordinate (State Plane)                                                   243899\n",
       "Park Facility Name                                                      Unspecified\n",
       "Park Borough                                                                  BRONX\n",
       "School Name                                                             Unspecified\n",
       "School Number                                                           Unspecified\n",
       "School Region                                                           Unspecified\n",
       "School Code                                                             Unspecified\n",
       "School Phone Number                                                     Unspecified\n",
       "School Address                                                          Unspecified\n",
       "School City                                                             Unspecified\n",
       "School State                                                            Unspecified\n",
       "School Zip                                                              Unspecified\n",
       "School Not Found                                                                  N\n",
       "Latitude                                                                     40.836\n",
       "Longitude                                                                  -73.8284\n",
       "Location                                    (40.83599404683083, -73.82837939584206)\n",
       "Expected Resolution Time                                            0 days 07:59:14\n",
       "Actual Resolution Time                                              0 days 07:45:14\n",
       "Name: 3, dtype: object"
      ]
     },
     "execution_count": 31,
     "metadata": {},
     "output_type": "execute_result"
    }
   ],
   "source": [
    "df_nyc_requests.iloc[3]"
   ]
  },
  {
   "cell_type": "code",
   "execution_count": 32,
   "metadata": {},
   "outputs": [],
   "source": [
    "#Creating an SLA breach column to understand if the SLA has been breached\n",
    "df_nyc_requests[\"SLA Breach\"] = df_nyc_requests[\"Actual Resolution Time\"]>df_nyc_requests[\"Expected Resolution Time\"]"
   ]
  },
  {
   "cell_type": "code",
   "execution_count": 33,
   "metadata": {},
   "outputs": [
    {
     "data": {
      "text/plain": [
       "False    262118\n",
       "True      38580\n",
       "Name: SLA Breach, dtype: int64"
      ]
     },
     "execution_count": 33,
     "metadata": {},
     "output_type": "execute_result"
    }
   ],
   "source": [
    "df_nyc_requests[\"SLA Breach\"].value_counts()"
   ]
  },
  {
   "cell_type": "code",
   "execution_count": 34,
   "metadata": {},
   "outputs": [],
   "source": [
    "df_sla_breach = df_nyc_requests[df_nyc_requests[\"SLA Breach\"]==True]"
   ]
  },
  {
   "cell_type": "code",
   "execution_count": 35,
   "metadata": {},
   "outputs": [
    {
     "data": {
      "text/plain": [
       "<AxesSubplot:ylabel='City'>"
      ]
     },
     "execution_count": 35,
     "metadata": {},
     "output_type": "execute_result"
    },
    {
     "data": {
      "image/png": "[encoded data removed]",
      "text/plain": [
       "<Figure size 576x576 with 1 Axes>"
      ]
     },
     "metadata": {},
     "output_type": "display_data"
    }
   ],
   "source": [
    "df_sla_breach[\"City\"].value_counts().plot(kind='pie', figsize=(8,8))"
   ]
  },
  {
   "cell_type": "markdown",
   "metadata": {},
   "source": [
    "## Conclusion #5"
   ]
  },
  {
   "cell_type": "markdown",
   "metadata": {},
   "source": [
    "Brooklyn, Bronx and New York form the top 60% of the SLA breaches where the resolution time that was expected has been exceeded"
   ]
  },
  {
   "cell_type": "code",
   "execution_count": 36,
   "metadata": {},
   "outputs": [
    {
     "data": {
      "text/plain": [
       "Index(['Unique Key', 'Created Date', 'Closed Date', 'Agency', 'Agency Name',\n",
       "       'Complaint Type', 'Descriptor', 'Location Type', 'Incident Zip',\n",
       "       'Incident Address', 'Street Name', 'Cross Street 1', 'Cross Street 2',\n",
       "       'Intersection Street 1', 'Intersection Street 2', 'Address Type',\n",
       "       'City', 'Facility Type', 'Status', 'Due Date', 'Resolution Description',\n",
       "       'Resolution Action Updated Date', 'Community Board', 'Borough',\n",
       "       'X Coordinate (State Plane)', 'Y Coordinate (State Plane)',\n",
       "       'Park Facility Name', 'Park Borough', 'School Name', 'School Number',\n",
       "       'School Region', 'School Code', 'School Phone Number', 'School Address',\n",
       "       'School City', 'School State', 'School Zip', 'School Not Found',\n",
       "       'Latitude', 'Longitude', 'Location', 'Expected Resolution Time',\n",
       "       'Actual Resolution Time', 'SLA Breach'],\n",
       "      dtype='object')"
      ]
     },
     "execution_count": 36,
     "metadata": {},
     "output_type": "execute_result"
    }
   ],
   "source": [
    "df_nyc_requests.columns"
   ]
  },
  {
   "cell_type": "code",
   "execution_count": 37,
   "metadata": {},
   "outputs": [
    {
     "data": {
      "text/plain": [
       "Unique Key                                                                 32306612\n",
       "Created Date                                                    2015-12-31 23:48:03\n",
       "Closed Date                                                     2016-01-01 02:17:00\n",
       "Agency                                                                         NYPD\n",
       "Agency Name                                         New York City Police Department\n",
       "Complaint Type                                              Noise - Street/Sidewalk\n",
       "Descriptor                                                         Loud Music/Party\n",
       "Location Type                                                       Street/Sidewalk\n",
       "Incident Zip                                                                  10461\n",
       "Incident Address                                                1701 PILGRIM AVENUE\n",
       "Street Name                                                          PILGRIM AVENUE\n",
       "Cross Street 1                                                       ROBERTS AVENUE\n",
       "Cross Street 2                                                   WESTCHESTER AVENUE\n",
       "Intersection Street 1                                                           NaN\n",
       "Intersection Street 2                                                           NaN\n",
       "Address Type                                                                ADDRESS\n",
       "City                                                                          BRONX\n",
       "Facility Type                                                              Precinct\n",
       "Status                                                                       Closed\n",
       "Due Date                                                        2016-01-01 07:48:00\n",
       "Resolution Description            The Police Department responded to the complai...\n",
       "Resolution Action Updated Date                                  2016-01-01 02:18:00\n",
       "Community Board                                                            10 BRONX\n",
       "Borough                                                                       BRONX\n",
       "X Coordinate (State Plane)                                              1.03029e+06\n",
       "Y Coordinate (State Plane)                                                   247376\n",
       "Park Facility Name                                                      Unspecified\n",
       "Park Borough                                                                  BRONX\n",
       "School Name                                                             Unspecified\n",
       "School Number                                                           Unspecified\n",
       "School Region                                                           Unspecified\n",
       "School Code                                                             Unspecified\n",
       "School Phone Number                                                     Unspecified\n",
       "School Address                                                          Unspecified\n",
       "School City                                                             Unspecified\n",
       "School State                                                            Unspecified\n",
       "School Zip                                                              Unspecified\n",
       "School Not Found                                                                  N\n",
       "Latitude                                                                    40.8455\n",
       "Longitude                                                                  -73.8336\n",
       "Location                                   (40.845545043640215, -73.83358471831198)\n",
       "Expected Resolution Time                                            0 days 07:59:57\n",
       "Actual Resolution Time                                              0 days 02:28:57\n",
       "SLA Breach                                                                    False\n",
       "Name: 12, dtype: object"
      ]
     },
     "execution_count": 37,
     "metadata": {},
     "output_type": "execute_result"
    }
   ],
   "source": [
    "df_nyc_requests.iloc[12]"
   ]
  },
  {
   "cell_type": "code",
   "execution_count": 38,
   "metadata": {},
   "outputs": [
    {
     "data": {
      "text/plain": [
       "Precinct    298527\n",
       "Name: Facility Type, dtype: int64"
      ]
     },
     "execution_count": 38,
     "metadata": {},
     "output_type": "execute_result"
    }
   ],
   "source": [
    "df_nyc_requests[\"Facility Type\"].value_counts()"
   ]
  },
  {
   "cell_type": "markdown",
   "metadata": {},
   "source": [
    "## Resolution time and Location Analysis"
   ]
  },
  {
   "cell_type": "code",
   "execution_count": 39,
   "metadata": {},
   "outputs": [],
   "source": [
    "#creating a new dataframe with only location related information and resolution times for complaints\n",
    "df_nyc_location = df_nyc_requests[[\"Unique Key\", \"Agency Name\", \"Complaint Type\", \"Descriptor\", \"Location Type\", \"Incident Zip\", \"Incident Address\", \"Street Name\", \"Cross Street 1\", \"Cross Street 2\", \"Address Type\" , \"City\", \"Status\", \"Actual Resolution Time\"]]"
   ]
  },
  {
   "cell_type": "code",
   "execution_count": 40,
   "metadata": {},
   "outputs": [
    {
     "data": {
      "text/plain": [
       "Unique Key                                       32310363\n",
       "Agency Name               New York City Police Department\n",
       "Complaint Type                    Noise - Street/Sidewalk\n",
       "Descriptor                               Loud Music/Party\n",
       "Location Type                             Street/Sidewalk\n",
       "Incident Zip                                        10034\n",
       "Incident Address                      71 VERMILYEA AVENUE\n",
       "Street Name                              VERMILYEA AVENUE\n",
       "Cross Street 1                             ACADEMY STREET\n",
       "Cross Street 2                            WEST 204 STREET\n",
       "Address Type                                      ADDRESS\n",
       "City                                             NEW YORK\n",
       "Status                                             Closed\n",
       "Actual Resolution Time                    0 days 00:55:15\n",
       "Name: 0, dtype: object"
      ]
     },
     "execution_count": 40,
     "metadata": {},
     "output_type": "execute_result"
    }
   ],
   "source": [
    "df_nyc_location.iloc[0]"
   ]
  },
  {
   "cell_type": "code",
   "execution_count": 41,
   "metadata": {},
   "outputs": [
    {
     "data": {
      "text/plain": [
       "(298471, 14)"
      ]
     },
     "execution_count": 41,
     "metadata": {},
     "output_type": "execute_result"
    }
   ],
   "source": [
    "#dropping not closed complaints for analysis purposes and examining the dataframe shape\n",
    "df_nyc_location = df_nyc_location[df_nyc_location[\"Status\"] == \"Closed\"]\n",
    "df_nyc_location.shape"
   ]
  },
  {
   "cell_type": "code",
   "execution_count": 42,
   "metadata": {},
   "outputs": [
    {
     "data": {
      "text/plain": [
       "<AxesSubplot:>"
      ]
     },
     "execution_count": 42,
     "metadata": {},
     "output_type": "execute_result"
    },
    {
     "data": {
      "image/png": "[encoded data removed]",
      "text/plain": [
       "<Figure size 720x720 with 1 Axes>"
      ]
     },
     "metadata": {
      "needs_background": "light"
     },
     "output_type": "display_data"
    }
   ],
   "source": [
    "#complaint distribution\n",
    "df_nyc_location[\"Complaint Type\"].value_counts().plot(kind = 'barh', figsize= (10,10))"
   ]
  },
  {
   "cell_type": "code",
   "execution_count": 43,
   "metadata": {},
   "outputs": [
    {
     "data": {
      "text/plain": [
       "Complaint Type\n",
       "Agency Issues                   1 days 07:33:43\n",
       "Animal Abuse                 1687 days 00:59:09\n",
       "Animal in a Park               14 days 00:50:05\n",
       "Bike/Roller/Skate Chronic      66 days 12:58:48\n",
       "Blocked Driveway            15169 days 05:21:46\n",
       "Derelict Vehicle             5395 days 05:35:38\n",
       "Disorderly Youth               42 days 09:45:18\n",
       "Drinking                      205 days 03:50:13\n",
       "Graffiti                       33 days 16:05:29\n",
       "Homeless Encampment           800 days 05:18:32\n",
       "Illegal Fireworks              19 days 07:52:17\n",
       "Illegal Parking             13973 days 04:08:46\n",
       "Noise - Commercial           4621 days 17:23:24\n",
       "Noise - House of Worship      123 days 14:34:27\n",
       "Noise - Park                  571 days 03:34:58\n",
       "Noise - Street/Sidewalk      6900 days 13:20:22\n",
       "Noise - Vehicle              2547 days 00:00:34\n",
       "Panhandling                    55 days 13:41:39\n",
       "Posting Advertisement          53 days 06:28:08\n",
       "Squeegee                        0 days 16:10:57\n",
       "Traffic                       645 days 20:57:11\n",
       "Urinating in Public            89 days 10:59:07\n",
       "Vending                       634 days 09:54:17\n",
       "Name: Actual Resolution Time, dtype: timedelta64[ns]"
      ]
     },
     "execution_count": 43,
     "metadata": {},
     "output_type": "execute_result"
    }
   ],
   "source": [
    "#viewing total compaints duration\n",
    "df_nyc_location.groupby(by=\"Complaint Type\")[\"Actual Resolution Time\"].sum()"
   ]
  },
  {
   "cell_type": "code",
   "execution_count": 44,
   "metadata": {},
   "outputs": [
    {
     "data": {
      "text/plain": [
       "Complaint Type\n",
       "Agency Issues                    6\n",
       "Animal Abuse                  7766\n",
       "Animal in a Park                 1\n",
       "Bike/Roller/Skate Chronic      424\n",
       "Blocked Driveway             76793\n",
       "Derelict Vehicle             17585\n",
       "Disorderly Youth               286\n",
       "Drinking                      1275\n",
       "Graffiti                       113\n",
       "Homeless Encampment           4410\n",
       "Illegal Fireworks              168\n",
       "Illegal Parking              74515\n",
       "Noise - Commercial           35245\n",
       "Noise - House of Worship       929\n",
       "Noise - Park                  4021\n",
       "Noise - Street/Sidewalk      48068\n",
       "Noise - Vehicle              17032\n",
       "Panhandling                    305\n",
       "Posting Advertisement          647\n",
       "Squeegee                         4\n",
       "Traffic                       4493\n",
       "Urinating in Public            592\n",
       "Vending                       3793\n",
       "Name: Actual Resolution Time, dtype: int64"
      ]
     },
     "execution_count": 44,
     "metadata": {},
     "output_type": "execute_result"
    }
   ],
   "source": [
    "df_nyc_location.groupby(by=\"Complaint Type\")[\"Actual Resolution Time\"].count()"
   ]
  },
  {
   "cell_type": "code",
   "execution_count": 45,
   "metadata": {},
   "outputs": [],
   "source": [
    "#Converting all the datetime into minutes for statistical analysis\n",
    "df_nyc_location['Actual Resolution Time'] = (df_nyc_location['Actual Resolution Time'].dt.seconds.div(60).astype(int) + df_nyc_location['Actual Resolution Time'].dt.days.multiply(1440).astype(int))"
   ]
  },
  {
   "cell_type": "code",
   "execution_count": 46,
   "metadata": {},
   "outputs": [
    {
     "data": {
      "text/plain": [
       "Street/Sidewalk               247503\n",
       "Store/Commercial               20183\n",
       "Club/Bar/Restaurant            17227\n",
       "Residential Building/House      6953\n",
       "Park/Playground                 4751\n",
       "House of Worship                 927\n",
       "Residential Building             227\n",
       "Highway                          214\n",
       "Parking Lot                      117\n",
       "House and Store                   93\n",
       "Vacant Lot                        77\n",
       "Commercial                        62\n",
       "Roadway Tunnel                    35\n",
       "Subway Station                    34\n",
       "Bridge                             2\n",
       "Park                               1\n",
       "Name: Location Type, dtype: int64"
      ]
     },
     "execution_count": 46,
     "metadata": {},
     "output_type": "execute_result"
    }
   ],
   "source": [
    "df_nyc_location[\"Location Type\"].value_counts()"
   ]
  },
  {
   "cell_type": "code",
   "execution_count": 47,
   "metadata": {},
   "outputs": [],
   "source": [
    "#Grouping NYC data by City\n",
    "grouped_nyc = df_nyc_location.groupby(['City', 'Complaint Type'])"
   ]
  },
  {
   "cell_type": "code",
   "execution_count": 48,
   "metadata": {},
   "outputs": [
    {
     "data": {
      "text/plain": [
       "City      Complaint Type         \n",
       "ARVERNE   Animal Abuse               128.894737\n",
       "          Blocked Driveway           151.200000\n",
       "          Derelict Vehicle           177.740741\n",
       "          Disorderly Youth           215.000000\n",
       "          Drinking                    14.000000\n",
       "                                        ...    \n",
       "Woodside  Blocked Driveway           384.181818\n",
       "          Derelict Vehicle           298.000000\n",
       "          Illegal Parking            312.830000\n",
       "          Noise - Commercial         143.000000\n",
       "          Noise - Street/Sidewalk    204.400000\n",
       "Name: Actual Resolution Time, Length: 764, dtype: float64"
      ]
     },
     "execution_count": 48,
     "metadata": {},
     "output_type": "execute_result"
    }
   ],
   "source": [
    "grouped_nyc['Actual Resolution Time'].mean()"
   ]
  },
  {
   "cell_type": "code",
   "execution_count": 49,
   "metadata": {},
   "outputs": [
    {
     "data": {
      "text/plain": [
       "City      Complaint Type         \n",
       "ARVERNE   Animal Abuse                4898\n",
       "          Blocked Driveway            5292\n",
       "          Derelict Vehicle            4799\n",
       "          Disorderly Youth             430\n",
       "          Drinking                      14\n",
       "                                     ...  \n",
       "Woodside  Blocked Driveway            4226\n",
       "          Derelict Vehicle             596\n",
       "          Illegal Parking            31283\n",
       "          Noise - Commercial           286\n",
       "          Noise - Street/Sidewalk     1022\n",
       "Name: Actual Resolution Time, Length: 764, dtype: int64"
      ]
     },
     "execution_count": 49,
     "metadata": {},
     "output_type": "execute_result"
    }
   ],
   "source": [
    "grouped_nyc['Actual Resolution Time'].sum()"
   ]
  },
  {
   "cell_type": "code",
   "execution_count": 50,
   "metadata": {},
   "outputs": [
    {
     "data": {
      "text/plain": [
       "City      Complaint Type         \n",
       "ARVERNE   Animal Abuse                38\n",
       "          Blocked Driveway            35\n",
       "          Derelict Vehicle            27\n",
       "          Disorderly Youth             2\n",
       "          Drinking                     1\n",
       "                                    ... \n",
       "Woodside  Blocked Driveway            11\n",
       "          Derelict Vehicle             2\n",
       "          Illegal Parking            100\n",
       "          Noise - Commercial           2\n",
       "          Noise - Street/Sidewalk      5\n",
       "Name: Actual Resolution Time, Length: 764, dtype: int64"
      ]
     },
     "execution_count": 50,
     "metadata": {},
     "output_type": "execute_result"
    }
   ],
   "source": [
    "grouped_nyc['Actual Resolution Time'].count()"
   ]
  },
  {
   "cell_type": "code",
   "execution_count": 51,
   "metadata": {},
   "outputs": [],
   "source": [
    "city_mean_df = grouped_nyc['Actual Resolution Time'].mean()"
   ]
  },
  {
   "cell_type": "code",
   "execution_count": 52,
   "metadata": {},
   "outputs": [
    {
     "data": {
      "text/plain": [
       "City      Complaint Type         \n",
       "ARVERNE   Animal Abuse               128.894737\n",
       "          Blocked Driveway           151.200000\n",
       "          Derelict Vehicle           177.740741\n",
       "          Disorderly Youth           215.000000\n",
       "          Drinking                    14.000000\n",
       "                                        ...    \n",
       "Woodside  Blocked Driveway           384.181818\n",
       "          Derelict Vehicle           298.000000\n",
       "          Illegal Parking            312.830000\n",
       "          Noise - Commercial         143.000000\n",
       "          Noise - Street/Sidewalk    204.400000\n",
       "Name: Actual Resolution Time, Length: 764, dtype: float64"
      ]
     },
     "execution_count": 52,
     "metadata": {},
     "output_type": "execute_result"
    }
   ],
   "source": [
    "city_mean_df"
   ]
  },
  {
   "cell_type": "markdown",
   "metadata": {},
   "source": [
    "# Hypothesis Definition and Testing"
   ]
  },
  {
   "cell_type": "markdown",
   "metadata": {},
   "source": [
    "# Question 1: Whether the average response time across complaint types is similar or not (overall)"
   ]
  },
  {
   "cell_type": "markdown",
   "metadata": {},
   "source": [
    "## Hypothesis #1. Are complaints resolved in the same mean time across categories?"
   ]
  },
  {
   "cell_type": "markdown",
   "metadata": {},
   "source": [
    "Null Hypothesis: Mean resolution time across different complaints handled by the NYC police department are same\n",
    "\n",
    "Alternate Hypothesis: Mean resolution time across different complaints handled by the NYC police department are not the same"
   ]
  },
  {
   "cell_type": "markdown",
   "metadata": {},
   "source": [
    "##### Preparing the dataset required for analysis"
   ]
  },
  {
   "cell_type": "code",
   "execution_count": 67,
   "metadata": {},
   "outputs": [
    {
     "data": {
      "text/html": [
       "<div>\n",
       "<style scoped>\n",
       "    .dataframe tbody tr th:only-of-type {\n",
       "        vertical-align: middle;\n",
       "    }\n",
       "\n",
       "    .dataframe tbody tr th {\n",
       "        vertical-align: top;\n",
       "    }\n",
       "\n",
       "    .dataframe thead th {\n",
       "        text-align: right;\n",
       "    }\n",
       "</style>\n",
       "<table border=\"1\" class=\"dataframe\">\n",
       "  <thead>\n",
       "    <tr style=\"text-align: right;\">\n",
       "      <th></th>\n",
       "      <th>City</th>\n",
       "      <th>Complaint Type</th>\n",
       "      <th>Location Type</th>\n",
       "      <th>Actual Resolution Time</th>\n",
       "    </tr>\n",
       "  </thead>\n",
       "  <tbody>\n",
       "    <tr>\n",
       "      <th>0</th>\n",
       "      <td>NEW YORK</td>\n",
       "      <td>Noise - Street/Sidewalk</td>\n",
       "      <td>Street/Sidewalk</td>\n",
       "      <td>55</td>\n",
       "    </tr>\n",
       "    <tr>\n",
       "      <th>1</th>\n",
       "      <td>ASTORIA</td>\n",
       "      <td>Blocked Driveway</td>\n",
       "      <td>Street/Sidewalk</td>\n",
       "      <td>86</td>\n",
       "    </tr>\n",
       "    <tr>\n",
       "      <th>2</th>\n",
       "      <td>BRONX</td>\n",
       "      <td>Blocked Driveway</td>\n",
       "      <td>Street/Sidewalk</td>\n",
       "      <td>291</td>\n",
       "    </tr>\n",
       "    <tr>\n",
       "      <th>3</th>\n",
       "      <td>BRONX</td>\n",
       "      <td>Illegal Parking</td>\n",
       "      <td>Street/Sidewalk</td>\n",
       "      <td>465</td>\n",
       "    </tr>\n",
       "    <tr>\n",
       "      <th>4</th>\n",
       "      <td>ELMHURST</td>\n",
       "      <td>Illegal Parking</td>\n",
       "      <td>Street/Sidewalk</td>\n",
       "      <td>207</td>\n",
       "    </tr>\n",
       "  </tbody>\n",
       "</table>\n",
       "</div>"
      ],
      "text/plain": [
       "       City           Complaint Type    Location Type  Actual Resolution Time\n",
       "0  NEW YORK  Noise - Street/Sidewalk  Street/Sidewalk                      55\n",
       "1   ASTORIA         Blocked Driveway  Street/Sidewalk                      86\n",
       "2     BRONX         Blocked Driveway  Street/Sidewalk                     291\n",
       "3     BRONX          Illegal Parking  Street/Sidewalk                     465\n",
       "4  ELMHURST          Illegal Parking  Street/Sidewalk                     207"
      ]
     },
     "execution_count": 67,
     "metadata": {},
     "output_type": "execute_result"
    }
   ],
   "source": [
    "#taking a subset including only the city name, complaint type, caseid and the resolution time\n",
    "df_nyc_analysis = df_nyc_location[['City', 'Complaint Type', 'Location Type', 'Actual Resolution Time']]\n",
    "df_nyc_analysis.head(5)"
   ]
  },
  {
   "cell_type": "code",
   "execution_count": 85,
   "metadata": {},
   "outputs": [],
   "source": [
    "#taking the required subset for the ANOVA test for complaint type and resolution time\n",
    "df_nyc_complaints = df_nyc_analysis[['Complaint Type', 'Actual Resolution Time']]\n",
    "df_nyc_complaints = df_nyc_complaints.rename(columns = {\n",
    "    'Complaint Type': 'Complaint',\n",
    "    'Actual Resolution Time': 'Time'\n",
    "}, inplace = False)"
   ]
  },
  {
   "cell_type": "code",
   "execution_count": 86,
   "metadata": {},
   "outputs": [
    {
     "data": {
      "text/html": [
       "<div>\n",
       "<style scoped>\n",
       "    .dataframe tbody tr th:only-of-type {\n",
       "        vertical-align: middle;\n",
       "    }\n",
       "\n",
       "    .dataframe tbody tr th {\n",
       "        vertical-align: top;\n",
       "    }\n",
       "\n",
       "    .dataframe thead th {\n",
       "        text-align: right;\n",
       "    }\n",
       "</style>\n",
       "<table border=\"1\" class=\"dataframe\">\n",
       "  <thead>\n",
       "    <tr style=\"text-align: right;\">\n",
       "      <th></th>\n",
       "      <th>Complaint</th>\n",
       "      <th>Time</th>\n",
       "    </tr>\n",
       "  </thead>\n",
       "  <tbody>\n",
       "    <tr>\n",
       "      <th>0</th>\n",
       "      <td>Noise - Street/Sidewalk</td>\n",
       "      <td>55</td>\n",
       "    </tr>\n",
       "    <tr>\n",
       "      <th>1</th>\n",
       "      <td>Blocked Driveway</td>\n",
       "      <td>86</td>\n",
       "    </tr>\n",
       "    <tr>\n",
       "      <th>2</th>\n",
       "      <td>Blocked Driveway</td>\n",
       "      <td>291</td>\n",
       "    </tr>\n",
       "    <tr>\n",
       "      <th>3</th>\n",
       "      <td>Illegal Parking</td>\n",
       "      <td>465</td>\n",
       "    </tr>\n",
       "    <tr>\n",
       "      <th>4</th>\n",
       "      <td>Illegal Parking</td>\n",
       "      <td>207</td>\n",
       "    </tr>\n",
       "  </tbody>\n",
       "</table>\n",
       "</div>"
      ],
      "text/plain": [
       "                 Complaint  Time\n",
       "0  Noise - Street/Sidewalk    55\n",
       "1         Blocked Driveway    86\n",
       "2         Blocked Driveway   291\n",
       "3          Illegal Parking   465\n",
       "4          Illegal Parking   207"
      ]
     },
     "execution_count": 86,
     "metadata": {},
     "output_type": "execute_result"
    }
   ],
   "source": [
    "df_nyc_complaints.head(5)"
   ]
  },
  {
   "cell_type": "code",
   "execution_count": 89,
   "metadata": {},
   "outputs": [
    {
     "data": {
      "text/html": [
       "<div>\n",
       "<style scoped>\n",
       "    .dataframe tbody tr th:only-of-type {\n",
       "        vertical-align: middle;\n",
       "    }\n",
       "\n",
       "    .dataframe tbody tr th {\n",
       "        vertical-align: top;\n",
       "    }\n",
       "\n",
       "    .dataframe thead th {\n",
       "        text-align: right;\n",
       "    }\n",
       "</style>\n",
       "<table border=\"1\" class=\"dataframe\">\n",
       "  <thead>\n",
       "    <tr style=\"text-align: right;\">\n",
       "      <th></th>\n",
       "      <th>Time</th>\n",
       "    </tr>\n",
       "    <tr>\n",
       "      <th>Complaint</th>\n",
       "      <th></th>\n",
       "    </tr>\n",
       "  </thead>\n",
       "  <tbody>\n",
       "    <tr>\n",
       "      <th>Agency Issues</th>\n",
       "      <td>315.333333</td>\n",
       "    </tr>\n",
       "    <tr>\n",
       "      <th>Animal Abuse</th>\n",
       "      <td>312.512490</td>\n",
       "    </tr>\n",
       "    <tr>\n",
       "      <th>Animal in a Park</th>\n",
       "      <td>20210.000000</td>\n",
       "    </tr>\n",
       "    <tr>\n",
       "      <th>Bike/Roller/Skate Chronic</th>\n",
       "      <td>225.693396</td>\n",
       "    </tr>\n",
       "    <tr>\n",
       "      <th>Blocked Driveway</th>\n",
       "      <td>284.142643</td>\n",
       "    </tr>\n",
       "    <tr>\n",
       "      <th>Derelict Vehicle</th>\n",
       "      <td>441.499119</td>\n",
       "    </tr>\n",
       "    <tr>\n",
       "      <th>Disorderly Youth</th>\n",
       "      <td>213.167832</td>\n",
       "    </tr>\n",
       "    <tr>\n",
       "      <th>Drinking</th>\n",
       "      <td>231.391373</td>\n",
       "    </tr>\n",
       "    <tr>\n",
       "      <th>Graffiti</th>\n",
       "      <td>428.752212</td>\n",
       "    </tr>\n",
       "    <tr>\n",
       "      <th>Homeless Encampment</th>\n",
       "      <td>261.000907</td>\n",
       "    </tr>\n",
       "    <tr>\n",
       "      <th>Illegal Fireworks</th>\n",
       "      <td>165.470238</td>\n",
       "    </tr>\n",
       "    <tr>\n",
       "      <th>Illegal Parking</th>\n",
       "      <td>269.724982</td>\n",
       "    </tr>\n",
       "    <tr>\n",
       "      <th>Noise - Commercial</th>\n",
       "      <td>188.524159</td>\n",
       "    </tr>\n",
       "    <tr>\n",
       "      <th>Noise - House of Worship</th>\n",
       "      <td>191.287406</td>\n",
       "    </tr>\n",
       "    <tr>\n",
       "      <th>Noise - Park</th>\n",
       "      <td>204.239741</td>\n",
       "    </tr>\n",
       "    <tr>\n",
       "      <th>Noise - Street/Sidewalk</th>\n",
       "      <td>206.425917</td>\n",
       "    </tr>\n",
       "    <tr>\n",
       "      <th>Noise - Vehicle</th>\n",
       "      <td>215.039220</td>\n",
       "    </tr>\n",
       "    <tr>\n",
       "      <th>Panhandling</th>\n",
       "      <td>262.072131</td>\n",
       "    </tr>\n",
       "    <tr>\n",
       "      <th>Posting Advertisement</th>\n",
       "      <td>118.262751</td>\n",
       "    </tr>\n",
       "    <tr>\n",
       "      <th>Squeegee</th>\n",
       "      <td>242.500000</td>\n",
       "    </tr>\n",
       "    <tr>\n",
       "      <th>Traffic</th>\n",
       "      <td>206.695526</td>\n",
       "    </tr>\n",
       "    <tr>\n",
       "      <th>Urinating in Public</th>\n",
       "      <td>217.302365</td>\n",
       "    </tr>\n",
       "    <tr>\n",
       "      <th>Vending</th>\n",
       "      <td>240.542578</td>\n",
       "    </tr>\n",
       "  </tbody>\n",
       "</table>\n",
       "</div>"
      ],
      "text/plain": [
       "                                   Time\n",
       "Complaint                              \n",
       "Agency Issues                315.333333\n",
       "Animal Abuse                 312.512490\n",
       "Animal in a Park           20210.000000\n",
       "Bike/Roller/Skate Chronic    225.693396\n",
       "Blocked Driveway             284.142643\n",
       "Derelict Vehicle             441.499119\n",
       "Disorderly Youth             213.167832\n",
       "Drinking                     231.391373\n",
       "Graffiti                     428.752212\n",
       "Homeless Encampment          261.000907\n",
       "Illegal Fireworks            165.470238\n",
       "Illegal Parking              269.724982\n",
       "Noise - Commercial           188.524159\n",
       "Noise - House of Worship     191.287406\n",
       "Noise - Park                 204.239741\n",
       "Noise - Street/Sidewalk      206.425917\n",
       "Noise - Vehicle              215.039220\n",
       "Panhandling                  262.072131\n",
       "Posting Advertisement        118.262751\n",
       "Squeegee                     242.500000\n",
       "Traffic                      206.695526\n",
       "Urinating in Public          217.302365\n",
       "Vending                      240.542578"
      ]
     },
     "execution_count": 89,
     "metadata": {},
     "output_type": "execute_result"
    }
   ],
   "source": [
    "df_nyc_complaints.groupby('Complaint').mean()"
   ]
  },
  {
   "cell_type": "markdown",
   "metadata": {},
   "source": [
    "On the outset, it seems that the mean time to solve different types of complaints is not the same. We will use the ANOVA test to analyse if this is the case "
   ]
  },
  {
   "cell_type": "code",
   "execution_count": 78,
   "metadata": {},
   "outputs": [],
   "source": [
    "import statsmodels.api as sm\n",
    "from statsmodels.formula.api import ols"
   ]
  },
  {
   "cell_type": "code",
   "execution_count": 87,
   "metadata": {},
   "outputs": [
    {
     "name": "stdout",
     "output_type": "stream",
     "text": [
      "                 df        sum_sq       mean_sq           F  PR(>F)\n",
      "Complaint      22.0  1.454406e+09  6.610938e+07  513.960687     0.0\n",
      "Residual   298448.0  3.838856e+10  1.286273e+05         NaN     NaN\n"
     ]
    }
   ],
   "source": [
    "lm = ols('Time~Complaint', data = df_nyc_complaints).fit()\n",
    "table = sm.stats.anova_lm(lm)\n",
    "print(table)"
   ]
  },
  {
   "cell_type": "markdown",
   "metadata": {},
   "source": [
    "The p value that is derived from the ANOVA test is very insignificant even with a confidence interval of 0.05 and so we reject the null hypothesis. \n",
    "\n",
    "Hence the mean time to resolve across various types of complaints is not equal"
   ]
  },
  {
   "cell_type": "code",
   "execution_count": 90,
   "metadata": {},
   "outputs": [
    {
     "data": {
      "text/plain": [
       "Complaint         Time \n",
       "Animal in a Park  20210    1\n",
       "dtype: int64"
      ]
     },
     "execution_count": 90,
     "metadata": {},
     "output_type": "execute_result"
    }
   ],
   "source": [
    "#examining if the animal in the park is the outlier and if removed the mean time to resolve across other categories is the same\n",
    "df_nyc_animals = df_nyc_complaints[df_nyc_complaints['Complaint']=='Animal in a Park']\n",
    "df_nyc_animals.value_counts()"
   ]
  },
  {
   "cell_type": "code",
   "execution_count": 92,
   "metadata": {},
   "outputs": [],
   "source": [
    "#removing this datapoint alone to examine the dataset again using the ANOVA test\n",
    "df_nyc_noanimals = df_nyc_complaints[df_nyc_complaints['Complaint']!='Animal in a Park']"
   ]
  },
  {
   "cell_type": "code",
   "execution_count": 94,
   "metadata": {},
   "outputs": [
    {
     "data": {
      "text/html": [
       "<div>\n",
       "<style scoped>\n",
       "    .dataframe tbody tr th:only-of-type {\n",
       "        vertical-align: middle;\n",
       "    }\n",
       "\n",
       "    .dataframe tbody tr th {\n",
       "        vertical-align: top;\n",
       "    }\n",
       "\n",
       "    .dataframe thead th {\n",
       "        text-align: right;\n",
       "    }\n",
       "</style>\n",
       "<table border=\"1\" class=\"dataframe\">\n",
       "  <thead>\n",
       "    <tr style=\"text-align: right;\">\n",
       "      <th></th>\n",
       "      <th>Time</th>\n",
       "    </tr>\n",
       "    <tr>\n",
       "      <th>Complaint</th>\n",
       "      <th></th>\n",
       "    </tr>\n",
       "  </thead>\n",
       "  <tbody>\n",
       "    <tr>\n",
       "      <th>Agency Issues</th>\n",
       "      <td>315.333333</td>\n",
       "    </tr>\n",
       "    <tr>\n",
       "      <th>Animal Abuse</th>\n",
       "      <td>312.512490</td>\n",
       "    </tr>\n",
       "    <tr>\n",
       "      <th>Bike/Roller/Skate Chronic</th>\n",
       "      <td>225.693396</td>\n",
       "    </tr>\n",
       "    <tr>\n",
       "      <th>Blocked Driveway</th>\n",
       "      <td>284.142643</td>\n",
       "    </tr>\n",
       "    <tr>\n",
       "      <th>Derelict Vehicle</th>\n",
       "      <td>441.499119</td>\n",
       "    </tr>\n",
       "    <tr>\n",
       "      <th>Disorderly Youth</th>\n",
       "      <td>213.167832</td>\n",
       "    </tr>\n",
       "    <tr>\n",
       "      <th>Drinking</th>\n",
       "      <td>231.391373</td>\n",
       "    </tr>\n",
       "    <tr>\n",
       "      <th>Graffiti</th>\n",
       "      <td>428.752212</td>\n",
       "    </tr>\n",
       "    <tr>\n",
       "      <th>Homeless Encampment</th>\n",
       "      <td>261.000907</td>\n",
       "    </tr>\n",
       "    <tr>\n",
       "      <th>Illegal Fireworks</th>\n",
       "      <td>165.470238</td>\n",
       "    </tr>\n",
       "    <tr>\n",
       "      <th>Illegal Parking</th>\n",
       "      <td>269.724982</td>\n",
       "    </tr>\n",
       "    <tr>\n",
       "      <th>Noise - Commercial</th>\n",
       "      <td>188.524159</td>\n",
       "    </tr>\n",
       "    <tr>\n",
       "      <th>Noise - House of Worship</th>\n",
       "      <td>191.287406</td>\n",
       "    </tr>\n",
       "    <tr>\n",
       "      <th>Noise - Park</th>\n",
       "      <td>204.239741</td>\n",
       "    </tr>\n",
       "    <tr>\n",
       "      <th>Noise - Street/Sidewalk</th>\n",
       "      <td>206.425917</td>\n",
       "    </tr>\n",
       "    <tr>\n",
       "      <th>Noise - Vehicle</th>\n",
       "      <td>215.039220</td>\n",
       "    </tr>\n",
       "    <tr>\n",
       "      <th>Panhandling</th>\n",
       "      <td>262.072131</td>\n",
       "    </tr>\n",
       "    <tr>\n",
       "      <th>Posting Advertisement</th>\n",
       "      <td>118.262751</td>\n",
       "    </tr>\n",
       "    <tr>\n",
       "      <th>Squeegee</th>\n",
       "      <td>242.500000</td>\n",
       "    </tr>\n",
       "    <tr>\n",
       "      <th>Traffic</th>\n",
       "      <td>206.695526</td>\n",
       "    </tr>\n",
       "    <tr>\n",
       "      <th>Urinating in Public</th>\n",
       "      <td>217.302365</td>\n",
       "    </tr>\n",
       "    <tr>\n",
       "      <th>Vending</th>\n",
       "      <td>240.542578</td>\n",
       "    </tr>\n",
       "  </tbody>\n",
       "</table>\n",
       "</div>"
      ],
      "text/plain": [
       "                                 Time\n",
       "Complaint                            \n",
       "Agency Issues              315.333333\n",
       "Animal Abuse               312.512490\n",
       "Bike/Roller/Skate Chronic  225.693396\n",
       "Blocked Driveway           284.142643\n",
       "Derelict Vehicle           441.499119\n",
       "Disorderly Youth           213.167832\n",
       "Drinking                   231.391373\n",
       "Graffiti                   428.752212\n",
       "Homeless Encampment        261.000907\n",
       "Illegal Fireworks          165.470238\n",
       "Illegal Parking            269.724982\n",
       "Noise - Commercial         188.524159\n",
       "Noise - House of Worship   191.287406\n",
       "Noise - Park               204.239741\n",
       "Noise - Street/Sidewalk    206.425917\n",
       "Noise - Vehicle            215.039220\n",
       "Panhandling                262.072131\n",
       "Posting Advertisement      118.262751\n",
       "Squeegee                   242.500000\n",
       "Traffic                    206.695526\n",
       "Urinating in Public        217.302365\n",
       "Vending                    240.542578"
      ]
     },
     "execution_count": 94,
     "metadata": {},
     "output_type": "execute_result"
    }
   ],
   "source": [
    "df_nyc_noanimals.groupby('Complaint').mean()"
   ]
  },
  {
   "cell_type": "code",
   "execution_count": 93,
   "metadata": {},
   "outputs": [
    {
     "name": "stdout",
     "output_type": "stream",
     "text": [
      "                 df        sum_sq       mean_sq           F  PR(>F)\n",
      "Complaint      21.0  1.056344e+09  5.030210e+07  391.068618     0.0\n",
      "Residual   298448.0  3.838856e+10  1.286273e+05         NaN     NaN\n"
     ]
    }
   ],
   "source": [
    "no_animals = ols('Time~Complaint', data = df_nyc_noanimals).fit()\n",
    "table_noanimals = sm.stats.anova_lm(no_animals)\n",
    "print(table_noanimals)"
   ]
  },
  {
   "cell_type": "markdown",
   "metadata": {},
   "source": [
    "Even after removing the possible outlier of 'Animal in a Park', the p value that is derived from the ANOVA test is very insignificant even with a confidence interval of 0.05 and so we reject the null hypothesis.\n",
    "\n",
    "Hence the mean time to resolve across various types of complaints is not equal"
   ]
  },
  {
   "cell_type": "markdown",
   "metadata": {},
   "source": [
    "## ANOVA Conclusion (Hypothesis #1): The mean time to resolve various types of complaints is not similar"
   ]
  },
  {
   "cell_type": "markdown",
   "metadata": {},
   "source": [
    "### Examining the same across the prominent cities of Brooklyn and Bronx"
   ]
  },
  {
   "cell_type": "markdown",
   "metadata": {},
   "source": [
    "### Hypothesis #2"
   ]
  },
  {
   "cell_type": "markdown",
   "metadata": {},
   "source": [
    "Null Hypothesis: Mean resolution time across different complaints across the city 'BROOKLYN' are same\n",
    "\n",
    "Alternate Hypothesis: Mean resolution time across different complaints across the city 'BROOKLYN' are not the same"
   ]
  },
  {
   "cell_type": "code",
   "execution_count": 106,
   "metadata": {},
   "outputs": [
    {
     "data": {
      "text/html": [
       "<div>\n",
       "<style scoped>\n",
       "    .dataframe tbody tr th:only-of-type {\n",
       "        vertical-align: middle;\n",
       "    }\n",
       "\n",
       "    .dataframe tbody tr th {\n",
       "        vertical-align: top;\n",
       "    }\n",
       "\n",
       "    .dataframe thead th {\n",
       "        text-align: right;\n",
       "    }\n",
       "</style>\n",
       "<table border=\"1\" class=\"dataframe\">\n",
       "  <thead>\n",
       "    <tr style=\"text-align: right;\">\n",
       "      <th></th>\n",
       "      <th>City</th>\n",
       "      <th>Complaint Type</th>\n",
       "      <th>Location Type</th>\n",
       "      <th>Actual Resolution Time</th>\n",
       "    </tr>\n",
       "  </thead>\n",
       "  <tbody>\n",
       "    <tr>\n",
       "      <th>5</th>\n",
       "      <td>BROOKLYN</td>\n",
       "      <td>Illegal Parking</td>\n",
       "      <td>Street/Sidewalk</td>\n",
       "      <td>113</td>\n",
       "    </tr>\n",
       "    <tr>\n",
       "      <th>9</th>\n",
       "      <td>BROOKLYN</td>\n",
       "      <td>Blocked Driveway</td>\n",
       "      <td>Street/Sidewalk</td>\n",
       "      <td>83</td>\n",
       "    </tr>\n",
       "    <tr>\n",
       "      <th>13</th>\n",
       "      <td>BROOKLYN</td>\n",
       "      <td>Illegal Parking</td>\n",
       "      <td>Street/Sidewalk</td>\n",
       "      <td>510</td>\n",
       "    </tr>\n",
       "    <tr>\n",
       "      <th>17</th>\n",
       "      <td>BROOKLYN</td>\n",
       "      <td>Noise - Commercial</td>\n",
       "      <td>Club/Bar/Restaurant</td>\n",
       "      <td>51</td>\n",
       "    </tr>\n",
       "    <tr>\n",
       "      <th>18</th>\n",
       "      <td>BROOKLYN</td>\n",
       "      <td>Noise - Commercial</td>\n",
       "      <td>Club/Bar/Restaurant</td>\n",
       "      <td>176</td>\n",
       "    </tr>\n",
       "  </tbody>\n",
       "</table>\n",
       "</div>"
      ],
      "text/plain": [
       "        City      Complaint Type        Location Type  Actual Resolution Time\n",
       "5   BROOKLYN     Illegal Parking      Street/Sidewalk                     113\n",
       "9   BROOKLYN    Blocked Driveway      Street/Sidewalk                      83\n",
       "13  BROOKLYN     Illegal Parking      Street/Sidewalk                     510\n",
       "17  BROOKLYN  Noise - Commercial  Club/Bar/Restaurant                      51\n",
       "18  BROOKLYN  Noise - Commercial  Club/Bar/Restaurant                     176"
      ]
     },
     "execution_count": 106,
     "metadata": {},
     "output_type": "execute_result"
    }
   ],
   "source": [
    "#getting the necessary dataset\n",
    "df_brooklyn = df_nyc_analysis[df_nyc_analysis['City']=='BROOKLYN']\n",
    "df_brooklyn.head(5)"
   ]
  },
  {
   "cell_type": "code",
   "execution_count": 107,
   "metadata": {},
   "outputs": [],
   "source": [
    "df_brooklyn = df_brooklyn.rename(columns = {\n",
    "    'Complaint Type': 'Complaint',\n",
    "    'Actual Resolution Time': 'Time'\n",
    "}, inplace = False)"
   ]
  },
  {
   "cell_type": "code",
   "execution_count": 108,
   "metadata": {},
   "outputs": [
    {
     "data": {
      "text/html": [
       "<div>\n",
       "<style scoped>\n",
       "    .dataframe tbody tr th:only-of-type {\n",
       "        vertical-align: middle;\n",
       "    }\n",
       "\n",
       "    .dataframe tbody tr th {\n",
       "        vertical-align: top;\n",
       "    }\n",
       "\n",
       "    .dataframe thead th {\n",
       "        text-align: right;\n",
       "    }\n",
       "</style>\n",
       "<table border=\"1\" class=\"dataframe\">\n",
       "  <thead>\n",
       "    <tr style=\"text-align: right;\">\n",
       "      <th></th>\n",
       "      <th>Complaint</th>\n",
       "      <th>Time</th>\n",
       "    </tr>\n",
       "  </thead>\n",
       "  <tbody>\n",
       "    <tr>\n",
       "      <th>5</th>\n",
       "      <td>Illegal Parking</td>\n",
       "      <td>113</td>\n",
       "    </tr>\n",
       "    <tr>\n",
       "      <th>9</th>\n",
       "      <td>Blocked Driveway</td>\n",
       "      <td>83</td>\n",
       "    </tr>\n",
       "    <tr>\n",
       "      <th>13</th>\n",
       "      <td>Illegal Parking</td>\n",
       "      <td>510</td>\n",
       "    </tr>\n",
       "    <tr>\n",
       "      <th>17</th>\n",
       "      <td>Noise - Commercial</td>\n",
       "      <td>51</td>\n",
       "    </tr>\n",
       "    <tr>\n",
       "      <th>18</th>\n",
       "      <td>Noise - Commercial</td>\n",
       "      <td>176</td>\n",
       "    </tr>\n",
       "    <tr>\n",
       "      <th>...</th>\n",
       "      <td>...</td>\n",
       "      <td>...</td>\n",
       "    </tr>\n",
       "    <tr>\n",
       "      <th>300681</th>\n",
       "      <td>Noise - Street/Sidewalk</td>\n",
       "      <td>174</td>\n",
       "    </tr>\n",
       "    <tr>\n",
       "      <th>300682</th>\n",
       "      <td>Noise - Commercial</td>\n",
       "      <td>385</td>\n",
       "    </tr>\n",
       "    <tr>\n",
       "      <th>300683</th>\n",
       "      <td>Noise - Street/Sidewalk</td>\n",
       "      <td>175</td>\n",
       "    </tr>\n",
       "    <tr>\n",
       "      <th>300689</th>\n",
       "      <td>Noise - Street/Sidewalk</td>\n",
       "      <td>218</td>\n",
       "    </tr>\n",
       "    <tr>\n",
       "      <th>300695</th>\n",
       "      <td>Noise - Commercial</td>\n",
       "      <td>187</td>\n",
       "    </tr>\n",
       "  </tbody>\n",
       "</table>\n",
       "<p>98275 rows × 2 columns</p>\n",
       "</div>"
      ],
      "text/plain": [
       "                      Complaint  Time\n",
       "5               Illegal Parking   113\n",
       "9              Blocked Driveway    83\n",
       "13              Illegal Parking   510\n",
       "17           Noise - Commercial    51\n",
       "18           Noise - Commercial   176\n",
       "...                         ...   ...\n",
       "300681  Noise - Street/Sidewalk   174\n",
       "300682       Noise - Commercial   385\n",
       "300683  Noise - Street/Sidewalk   175\n",
       "300689  Noise - Street/Sidewalk   218\n",
       "300695       Noise - Commercial   187\n",
       "\n",
       "[98275 rows x 2 columns]"
      ]
     },
     "execution_count": 108,
     "metadata": {},
     "output_type": "execute_result"
    }
   ],
   "source": [
    "df_brooklyn.drop(['City', 'Location Type'], axis = 1)"
   ]
  },
  {
   "cell_type": "code",
   "execution_count": 100,
   "metadata": {},
   "outputs": [
    {
     "data": {
      "text/plain": [
       "Blocked Driveway             28139\n",
       "Illegal Parking              27454\n",
       "Noise - Street/Sidewalk      13354\n",
       "Noise - Commercial           11458\n",
       "Derelict Vehicle              5179\n",
       "Noise - Vehicle               5176\n",
       "Animal Abuse                  2393\n",
       "Noise - Park                  1554\n",
       "Traffic                       1085\n",
       "Homeless Encampment            855\n",
       "Vending                        514\n",
       "Noise - House of Worship       340\n",
       "Drinking                       257\n",
       "Urinating in Public            136\n",
       "Bike/Roller/Skate Chronic      111\n",
       "Disorderly Youth                72\n",
       "Illegal Fireworks               61\n",
       "Panhandling                     49\n",
       "Posting Advertisement           45\n",
       "Graffiti                        43\n",
       "Name: Complaint, dtype: int64"
      ]
     },
     "execution_count": 100,
     "metadata": {},
     "output_type": "execute_result"
    }
   ],
   "source": [
    "df_brooklyn['Complaint'].value_counts()"
   ]
  },
  {
   "cell_type": "code",
   "execution_count": 101,
   "metadata": {},
   "outputs": [
    {
     "data": {
      "text/html": [
       "<div>\n",
       "<style scoped>\n",
       "    .dataframe tbody tr th:only-of-type {\n",
       "        vertical-align: middle;\n",
       "    }\n",
       "\n",
       "    .dataframe tbody tr th {\n",
       "        vertical-align: top;\n",
       "    }\n",
       "\n",
       "    .dataframe thead th {\n",
       "        text-align: right;\n",
       "    }\n",
       "</style>\n",
       "<table border=\"1\" class=\"dataframe\">\n",
       "  <thead>\n",
       "    <tr style=\"text-align: right;\">\n",
       "      <th></th>\n",
       "      <th>Time</th>\n",
       "    </tr>\n",
       "    <tr>\n",
       "      <th>Complaint</th>\n",
       "      <th></th>\n",
       "    </tr>\n",
       "  </thead>\n",
       "  <tbody>\n",
       "    <tr>\n",
       "      <th>Animal Abuse</th>\n",
       "      <td>289.633932</td>\n",
       "    </tr>\n",
       "    <tr>\n",
       "      <th>Bike/Roller/Skate Chronic</th>\n",
       "      <td>299.972973</td>\n",
       "    </tr>\n",
       "    <tr>\n",
       "      <th>Blocked Driveway</th>\n",
       "      <td>264.310743</td>\n",
       "    </tr>\n",
       "    <tr>\n",
       "      <th>Derelict Vehicle</th>\n",
       "      <td>356.535238</td>\n",
       "    </tr>\n",
       "    <tr>\n",
       "      <th>Disorderly Youth</th>\n",
       "      <td>248.680556</td>\n",
       "    </tr>\n",
       "    <tr>\n",
       "      <th>Drinking</th>\n",
       "      <td>212.124514</td>\n",
       "    </tr>\n",
       "    <tr>\n",
       "      <th>Graffiti</th>\n",
       "      <td>494.232558</td>\n",
       "    </tr>\n",
       "    <tr>\n",
       "      <th>Homeless Encampment</th>\n",
       "      <td>281.561404</td>\n",
       "    </tr>\n",
       "    <tr>\n",
       "      <th>Illegal Fireworks</th>\n",
       "      <td>140.180328</td>\n",
       "    </tr>\n",
       "    <tr>\n",
       "      <th>Illegal Parking</th>\n",
       "      <td>255.982298</td>\n",
       "    </tr>\n",
       "    <tr>\n",
       "      <th>Noise - Commercial</th>\n",
       "      <td>178.859749</td>\n",
       "    </tr>\n",
       "    <tr>\n",
       "      <th>Noise - House of Worship</th>\n",
       "      <td>183.873529</td>\n",
       "    </tr>\n",
       "    <tr>\n",
       "      <th>Noise - Park</th>\n",
       "      <td>188.453668</td>\n",
       "    </tr>\n",
       "    <tr>\n",
       "      <th>Noise - Street/Sidewalk</th>\n",
       "      <td>197.460761</td>\n",
       "    </tr>\n",
       "    <tr>\n",
       "      <th>Noise - Vehicle</th>\n",
       "      <td>196.709428</td>\n",
       "    </tr>\n",
       "    <tr>\n",
       "      <th>Panhandling</th>\n",
       "      <td>258.673469</td>\n",
       "    </tr>\n",
       "    <tr>\n",
       "      <th>Posting Advertisement</th>\n",
       "      <td>201.422222</td>\n",
       "    </tr>\n",
       "    <tr>\n",
       "      <th>Traffic</th>\n",
       "      <td>186.470046</td>\n",
       "    </tr>\n",
       "    <tr>\n",
       "      <th>Urinating in Public</th>\n",
       "      <td>233.698529</td>\n",
       "    </tr>\n",
       "    <tr>\n",
       "      <th>Vending</th>\n",
       "      <td>271.225681</td>\n",
       "    </tr>\n",
       "  </tbody>\n",
       "</table>\n",
       "</div>"
      ],
      "text/plain": [
       "                                 Time\n",
       "Complaint                            \n",
       "Animal Abuse               289.633932\n",
       "Bike/Roller/Skate Chronic  299.972973\n",
       "Blocked Driveway           264.310743\n",
       "Derelict Vehicle           356.535238\n",
       "Disorderly Youth           248.680556\n",
       "Drinking                   212.124514\n",
       "Graffiti                   494.232558\n",
       "Homeless Encampment        281.561404\n",
       "Illegal Fireworks          140.180328\n",
       "Illegal Parking            255.982298\n",
       "Noise - Commercial         178.859749\n",
       "Noise - House of Worship   183.873529\n",
       "Noise - Park               188.453668\n",
       "Noise - Street/Sidewalk    197.460761\n",
       "Noise - Vehicle            196.709428\n",
       "Panhandling                258.673469\n",
       "Posting Advertisement      201.422222\n",
       "Traffic                    186.470046\n",
       "Urinating in Public        233.698529\n",
       "Vending                    271.225681"
      ]
     },
     "execution_count": 101,
     "metadata": {},
     "output_type": "execute_result"
    }
   ],
   "source": [
    "df_brooklyn.groupby('Complaint').mean()"
   ]
  },
  {
   "cell_type": "code",
   "execution_count": 102,
   "metadata": {},
   "outputs": [
    {
     "name": "stdout",
     "output_type": "stream",
     "text": [
      "                df        sum_sq       mean_sq         F  PR(>F)\n",
      "Complaint     19.0  1.903002e+08  1.001580e+07  86.69383     0.0\n",
      "Residual   98255.0  1.135147e+10  1.155307e+05       NaN     NaN\n"
     ]
    }
   ],
   "source": [
    "#ANOVA test for brooklyn\n",
    "brooklyn = ols('Time~Complaint', data = df_brooklyn).fit()\n",
    "table_brooklyn = sm.stats.anova_lm(brooklyn)\n",
    "print(table_brooklyn)"
   ]
  },
  {
   "cell_type": "markdown",
   "metadata": {},
   "source": [
    "Examining the brooklyn dataset, the p value that is derived from the ANOVA test is very insignificant even with a confidence interval of 0.05 and so we reject the null hypothesis.\n",
    "\n",
    "Hence the mean time to resolve across various types of complaints in brooklyn is not equal"
   ]
  },
  {
   "cell_type": "markdown",
   "metadata": {},
   "source": [
    "## ANOVA Conclusion (Hypothesis #2): The mean time to resolve various types of complaints in brooklyn is not similar"
   ]
  },
  {
   "cell_type": "markdown",
   "metadata": {},
   "source": [
    "### Hypothesis #3:"
   ]
  },
  {
   "cell_type": "markdown",
   "metadata": {},
   "source": [
    "Null Hypothesis: Mean resolution time across different complaints across the city 'BRONX' are same\n",
    "\n",
    "Alternate Hypothesis: Mean resolution time across different complaints across the city 'BRONX' are not the same\n"
   ]
  },
  {
   "cell_type": "code",
   "execution_count": 105,
   "metadata": {},
   "outputs": [
    {
     "data": {
      "text/html": [
       "<div>\n",
       "<style scoped>\n",
       "    .dataframe tbody tr th:only-of-type {\n",
       "        vertical-align: middle;\n",
       "    }\n",
       "\n",
       "    .dataframe tbody tr th {\n",
       "        vertical-align: top;\n",
       "    }\n",
       "\n",
       "    .dataframe thead th {\n",
       "        text-align: right;\n",
       "    }\n",
       "</style>\n",
       "<table border=\"1\" class=\"dataframe\">\n",
       "  <thead>\n",
       "    <tr style=\"text-align: right;\">\n",
       "      <th></th>\n",
       "      <th>City</th>\n",
       "      <th>Complaint Type</th>\n",
       "      <th>Location Type</th>\n",
       "      <th>Actual Resolution Time</th>\n",
       "    </tr>\n",
       "  </thead>\n",
       "  <tbody>\n",
       "    <tr>\n",
       "      <th>2</th>\n",
       "      <td>BRONX</td>\n",
       "      <td>Blocked Driveway</td>\n",
       "      <td>Street/Sidewalk</td>\n",
       "      <td>291</td>\n",
       "    </tr>\n",
       "    <tr>\n",
       "      <th>3</th>\n",
       "      <td>BRONX</td>\n",
       "      <td>Illegal Parking</td>\n",
       "      <td>Street/Sidewalk</td>\n",
       "      <td>465</td>\n",
       "    </tr>\n",
       "    <tr>\n",
       "      <th>7</th>\n",
       "      <td>BRONX</td>\n",
       "      <td>Blocked Driveway</td>\n",
       "      <td>Street/Sidewalk</td>\n",
       "      <td>107</td>\n",
       "    </tr>\n",
       "    <tr>\n",
       "      <th>11</th>\n",
       "      <td>BRONX</td>\n",
       "      <td>Blocked Driveway</td>\n",
       "      <td>Street/Sidewalk</td>\n",
       "      <td>667</td>\n",
       "    </tr>\n",
       "    <tr>\n",
       "      <th>12</th>\n",
       "      <td>BRONX</td>\n",
       "      <td>Noise - Street/Sidewalk</td>\n",
       "      <td>Street/Sidewalk</td>\n",
       "      <td>148</td>\n",
       "    </tr>\n",
       "  </tbody>\n",
       "</table>\n",
       "</div>"
      ],
      "text/plain": [
       "     City           Complaint Type    Location Type  Actual Resolution Time\n",
       "2   BRONX         Blocked Driveway  Street/Sidewalk                     291\n",
       "3   BRONX          Illegal Parking  Street/Sidewalk                     465\n",
       "7   BRONX         Blocked Driveway  Street/Sidewalk                     107\n",
       "11  BRONX         Blocked Driveway  Street/Sidewalk                     667\n",
       "12  BRONX  Noise - Street/Sidewalk  Street/Sidewalk                     148"
      ]
     },
     "execution_count": 105,
     "metadata": {},
     "output_type": "execute_result"
    }
   ],
   "source": [
    "#getting the necessary dataset\n",
    "df_bronx = df_nyc_analysis[df_nyc_analysis['City']=='BRONX']\n",
    "df_bronx.head(5)"
   ]
  },
  {
   "cell_type": "code",
   "execution_count": 109,
   "metadata": {},
   "outputs": [],
   "source": [
    "df_bronx = df_bronx.rename(columns = {\n",
    "    'Complaint Type': 'Complaint',\n",
    "    'Actual Resolution Time': 'Time'\n",
    "}, inplace = False)"
   ]
  },
  {
   "cell_type": "code",
   "execution_count": 110,
   "metadata": {},
   "outputs": [
    {
     "data": {
      "text/html": [
       "<div>\n",
       "<style scoped>\n",
       "    .dataframe tbody tr th:only-of-type {\n",
       "        vertical-align: middle;\n",
       "    }\n",
       "\n",
       "    .dataframe tbody tr th {\n",
       "        vertical-align: top;\n",
       "    }\n",
       "\n",
       "    .dataframe thead th {\n",
       "        text-align: right;\n",
       "    }\n",
       "</style>\n",
       "<table border=\"1\" class=\"dataframe\">\n",
       "  <thead>\n",
       "    <tr style=\"text-align: right;\">\n",
       "      <th></th>\n",
       "      <th>Complaint</th>\n",
       "      <th>Time</th>\n",
       "    </tr>\n",
       "  </thead>\n",
       "  <tbody>\n",
       "    <tr>\n",
       "      <th>2</th>\n",
       "      <td>Blocked Driveway</td>\n",
       "      <td>291</td>\n",
       "    </tr>\n",
       "    <tr>\n",
       "      <th>3</th>\n",
       "      <td>Illegal Parking</td>\n",
       "      <td>465</td>\n",
       "    </tr>\n",
       "    <tr>\n",
       "      <th>7</th>\n",
       "      <td>Blocked Driveway</td>\n",
       "      <td>107</td>\n",
       "    </tr>\n",
       "    <tr>\n",
       "      <th>11</th>\n",
       "      <td>Blocked Driveway</td>\n",
       "      <td>667</td>\n",
       "    </tr>\n",
       "    <tr>\n",
       "      <th>12</th>\n",
       "      <td>Noise - Street/Sidewalk</td>\n",
       "      <td>148</td>\n",
       "    </tr>\n",
       "    <tr>\n",
       "      <th>...</th>\n",
       "      <td>...</td>\n",
       "      <td>...</td>\n",
       "    </tr>\n",
       "    <tr>\n",
       "      <th>300643</th>\n",
       "      <td>Illegal Parking</td>\n",
       "      <td>176</td>\n",
       "    </tr>\n",
       "    <tr>\n",
       "      <th>300652</th>\n",
       "      <td>Blocked Driveway</td>\n",
       "      <td>105</td>\n",
       "    </tr>\n",
       "    <tr>\n",
       "      <th>300656</th>\n",
       "      <td>Blocked Driveway</td>\n",
       "      <td>450</td>\n",
       "    </tr>\n",
       "    <tr>\n",
       "      <th>300690</th>\n",
       "      <td>Illegal Parking</td>\n",
       "      <td>486</td>\n",
       "    </tr>\n",
       "    <tr>\n",
       "      <th>300696</th>\n",
       "      <td>Noise - Commercial</td>\n",
       "      <td>245</td>\n",
       "    </tr>\n",
       "  </tbody>\n",
       "</table>\n",
       "<p>40690 rows × 2 columns</p>\n",
       "</div>"
      ],
      "text/plain": [
       "                      Complaint  Time\n",
       "2              Blocked Driveway   291\n",
       "3               Illegal Parking   465\n",
       "7              Blocked Driveway   107\n",
       "11             Blocked Driveway   667\n",
       "12      Noise - Street/Sidewalk   148\n",
       "...                         ...   ...\n",
       "300643          Illegal Parking   176\n",
       "300652         Blocked Driveway   105\n",
       "300656         Blocked Driveway   450\n",
       "300690          Illegal Parking   486\n",
       "300696       Noise - Commercial   245\n",
       "\n",
       "[40690 rows x 2 columns]"
      ]
     },
     "execution_count": 110,
     "metadata": {},
     "output_type": "execute_result"
    }
   ],
   "source": [
    "df_bronx.drop(['City', 'Location Type'], axis = 1)"
   ]
  },
  {
   "cell_type": "code",
   "execution_count": 111,
   "metadata": {},
   "outputs": [
    {
     "data": {
      "text/plain": [
       "Blocked Driveway             12751\n",
       "Noise - Street/Sidewalk       8890\n",
       "Illegal Parking               7857\n",
       "Noise - Vehicle               3395\n",
       "Noise - Commercial            2433\n",
       "Derelict Vehicle              1952\n",
       "Animal Abuse                  1415\n",
       "Noise - Park                   547\n",
       "Vending                        379\n",
       "Traffic                        355\n",
       "Homeless Encampment            247\n",
       "Drinking                       188\n",
       "Noise - House of Worship        79\n",
       "Disorderly Youth                63\n",
       "Urinating in Public             51\n",
       "Illegal Fireworks               24\n",
       "Bike/Roller/Skate Chronic       20\n",
       "Panhandling                     19\n",
       "Posting Advertisement           16\n",
       "Graffiti                         9\n",
       "Name: Complaint, dtype: int64"
      ]
     },
     "execution_count": 111,
     "metadata": {},
     "output_type": "execute_result"
    }
   ],
   "source": [
    "df_bronx['Complaint'].value_counts()"
   ]
  },
  {
   "cell_type": "code",
   "execution_count": 112,
   "metadata": {},
   "outputs": [
    {
     "data": {
      "text/html": [
       "<div>\n",
       "<style scoped>\n",
       "    .dataframe tbody tr th:only-of-type {\n",
       "        vertical-align: middle;\n",
       "    }\n",
       "\n",
       "    .dataframe tbody tr th {\n",
       "        vertical-align: top;\n",
       "    }\n",
       "\n",
       "    .dataframe thead th {\n",
       "        text-align: right;\n",
       "    }\n",
       "</style>\n",
       "<table border=\"1\" class=\"dataframe\">\n",
       "  <thead>\n",
       "    <tr style=\"text-align: right;\">\n",
       "      <th></th>\n",
       "      <th>Time</th>\n",
       "    </tr>\n",
       "    <tr>\n",
       "      <th>Complaint</th>\n",
       "      <th></th>\n",
       "    </tr>\n",
       "  </thead>\n",
       "  <tbody>\n",
       "    <tr>\n",
       "      <th>Animal Abuse</th>\n",
       "      <td>439.826855</td>\n",
       "    </tr>\n",
       "    <tr>\n",
       "      <th>Bike/Roller/Skate Chronic</th>\n",
       "      <td>207.300000</td>\n",
       "    </tr>\n",
       "    <tr>\n",
       "      <th>Blocked Driveway</th>\n",
       "      <td>375.418948</td>\n",
       "    </tr>\n",
       "    <tr>\n",
       "      <th>Derelict Vehicle</th>\n",
       "      <td>553.342725</td>\n",
       "    </tr>\n",
       "    <tr>\n",
       "      <th>Disorderly Youth</th>\n",
       "      <td>254.015873</td>\n",
       "    </tr>\n",
       "    <tr>\n",
       "      <th>Drinking</th>\n",
       "      <td>347.297872</td>\n",
       "    </tr>\n",
       "    <tr>\n",
       "      <th>Graffiti</th>\n",
       "      <td>533.666667</td>\n",
       "    </tr>\n",
       "    <tr>\n",
       "      <th>Homeless Encampment</th>\n",
       "      <td>446.222672</td>\n",
       "    </tr>\n",
       "    <tr>\n",
       "      <th>Illegal Fireworks</th>\n",
       "      <td>336.333333</td>\n",
       "    </tr>\n",
       "    <tr>\n",
       "      <th>Illegal Parking</th>\n",
       "      <td>394.493445</td>\n",
       "    </tr>\n",
       "    <tr>\n",
       "      <th>Noise - Commercial</th>\n",
       "      <td>281.542951</td>\n",
       "    </tr>\n",
       "    <tr>\n",
       "      <th>Noise - House of Worship</th>\n",
       "      <td>273.265823</td>\n",
       "    </tr>\n",
       "    <tr>\n",
       "      <th>Noise - Park</th>\n",
       "      <td>281.606947</td>\n",
       "    </tr>\n",
       "    <tr>\n",
       "      <th>Noise - Street/Sidewalk</th>\n",
       "      <td>313.278965</td>\n",
       "    </tr>\n",
       "    <tr>\n",
       "      <th>Noise - Vehicle</th>\n",
       "      <td>333.379676</td>\n",
       "    </tr>\n",
       "    <tr>\n",
       "      <th>Panhandling</th>\n",
       "      <td>852.684211</td>\n",
       "    </tr>\n",
       "    <tr>\n",
       "      <th>Posting Advertisement</th>\n",
       "      <td>213.250000</td>\n",
       "    </tr>\n",
       "    <tr>\n",
       "      <th>Traffic</th>\n",
       "      <td>295.121127</td>\n",
       "    </tr>\n",
       "    <tr>\n",
       "      <th>Urinating in Public</th>\n",
       "      <td>323.196078</td>\n",
       "    </tr>\n",
       "    <tr>\n",
       "      <th>Vending</th>\n",
       "      <td>409.245383</td>\n",
       "    </tr>\n",
       "  </tbody>\n",
       "</table>\n",
       "</div>"
      ],
      "text/plain": [
       "                                 Time\n",
       "Complaint                            \n",
       "Animal Abuse               439.826855\n",
       "Bike/Roller/Skate Chronic  207.300000\n",
       "Blocked Driveway           375.418948\n",
       "Derelict Vehicle           553.342725\n",
       "Disorderly Youth           254.015873\n",
       "Drinking                   347.297872\n",
       "Graffiti                   533.666667\n",
       "Homeless Encampment        446.222672\n",
       "Illegal Fireworks          336.333333\n",
       "Illegal Parking            394.493445\n",
       "Noise - Commercial         281.542951\n",
       "Noise - House of Worship   273.265823\n",
       "Noise - Park               281.606947\n",
       "Noise - Street/Sidewalk    313.278965\n",
       "Noise - Vehicle            333.379676\n",
       "Panhandling                852.684211\n",
       "Posting Advertisement      213.250000\n",
       "Traffic                    295.121127\n",
       "Urinating in Public        323.196078\n",
       "Vending                    409.245383"
      ]
     },
     "execution_count": 112,
     "metadata": {},
     "output_type": "execute_result"
    }
   ],
   "source": [
    "df_bronx.groupby('Complaint').mean()"
   ]
  },
  {
   "cell_type": "code",
   "execution_count": 113,
   "metadata": {},
   "outputs": [
    {
     "name": "stdout",
     "output_type": "stream",
     "text": [
      "                df        sum_sq       mean_sq          F         PR(>F)\n",
      "Complaint     19.0  1.446558e+08  7.613462e+06  36.908754  3.333669e-135\n",
      "Residual   40670.0  8.389324e+09  2.062779e+05        NaN            NaN\n"
     ]
    }
   ],
   "source": [
    "#ANOVA test for bronx\n",
    "bronx = ols('Time~Complaint', data = df_bronx).fit()\n",
    "table_bronx = sm.stats.anova_lm(bronx)\n",
    "print(table_bronx)"
   ]
  },
  {
   "cell_type": "markdown",
   "metadata": {},
   "source": [
    "Examining the bronx dataset, the p value that is derived from the ANOVA test is very insignificant even with a confidence interval of 0.05 and so we reject the null hypothesis.\n",
    "\n",
    "Hence the mean time to resolve across various types of complaints in bronx is not equal"
   ]
  },
  {
   "cell_type": "markdown",
   "metadata": {},
   "source": [
    "## ANOVA Conclusion (Hypothesis #3): The mean time to resolve various types of complaints in bronx is not similar"
   ]
  },
  {
   "cell_type": "markdown",
   "metadata": {},
   "source": [
    "# -----------------------------------------------------------------------------------------------------------"
   ]
  },
  {
   "cell_type": "markdown",
   "metadata": {},
   "source": [
    "# Answer 1: The mean time to resolve various types of complaints is not similar; it is also not similar when we examine it across the top cities as well"
   ]
  },
  {
   "cell_type": "markdown",
   "metadata": {},
   "source": [
    "## ------------------------------------------------------------------------------------------------------------------------------"
   ]
  },
  {
   "cell_type": "markdown",
   "metadata": {},
   "source": [
    "# Question 2: Are the type of complaint or service requested and location related?"
   ]
  },
  {
   "cell_type": "code",
   "execution_count": 126,
   "metadata": {},
   "outputs": [],
   "source": [
    "#taking subset of the nyc_complaints dataset required for analysis\n",
    "df_nyc_services = df_nyc_location[['City','Complaint Type','Location Type']]"
   ]
  },
  {
   "cell_type": "code",
   "execution_count": 127,
   "metadata": {},
   "outputs": [
    {
     "data": {
      "text/html": [
       "<div>\n",
       "<style scoped>\n",
       "    .dataframe tbody tr th:only-of-type {\n",
       "        vertical-align: middle;\n",
       "    }\n",
       "\n",
       "    .dataframe tbody tr th {\n",
       "        vertical-align: top;\n",
       "    }\n",
       "\n",
       "    .dataframe thead th {\n",
       "        text-align: right;\n",
       "    }\n",
       "</style>\n",
       "<table border=\"1\" class=\"dataframe\">\n",
       "  <thead>\n",
       "    <tr style=\"text-align: right;\">\n",
       "      <th></th>\n",
       "      <th>City</th>\n",
       "      <th>Complaint Type</th>\n",
       "      <th>Location Type</th>\n",
       "    </tr>\n",
       "  </thead>\n",
       "  <tbody>\n",
       "    <tr>\n",
       "      <th>0</th>\n",
       "      <td>NEW YORK</td>\n",
       "      <td>Noise - Street/Sidewalk</td>\n",
       "      <td>Street/Sidewalk</td>\n",
       "    </tr>\n",
       "    <tr>\n",
       "      <th>1</th>\n",
       "      <td>ASTORIA</td>\n",
       "      <td>Blocked Driveway</td>\n",
       "      <td>Street/Sidewalk</td>\n",
       "    </tr>\n",
       "    <tr>\n",
       "      <th>2</th>\n",
       "      <td>BRONX</td>\n",
       "      <td>Blocked Driveway</td>\n",
       "      <td>Street/Sidewalk</td>\n",
       "    </tr>\n",
       "    <tr>\n",
       "      <th>3</th>\n",
       "      <td>BRONX</td>\n",
       "      <td>Illegal Parking</td>\n",
       "      <td>Street/Sidewalk</td>\n",
       "    </tr>\n",
       "    <tr>\n",
       "      <th>4</th>\n",
       "      <td>ELMHURST</td>\n",
       "      <td>Illegal Parking</td>\n",
       "      <td>Street/Sidewalk</td>\n",
       "    </tr>\n",
       "  </tbody>\n",
       "</table>\n",
       "</div>"
      ],
      "text/plain": [
       "       City           Complaint Type    Location Type\n",
       "0  NEW YORK  Noise - Street/Sidewalk  Street/Sidewalk\n",
       "1   ASTORIA         Blocked Driveway  Street/Sidewalk\n",
       "2     BRONX         Blocked Driveway  Street/Sidewalk\n",
       "3     BRONX          Illegal Parking  Street/Sidewalk\n",
       "4  ELMHURST          Illegal Parking  Street/Sidewalk"
      ]
     },
     "execution_count": 127,
     "metadata": {},
     "output_type": "execute_result"
    }
   ],
   "source": [
    "df_nyc_services.head(5)"
   ]
  },
  {
   "cell_type": "code",
   "execution_count": 128,
   "metadata": {},
   "outputs": [],
   "source": [
    "#renaming columns for ease of use\n",
    "df_nyc_services = df_nyc_services.rename(columns = {\n",
    "    'Complaint Type': 'Complaint',\n",
    "    'Location Type': 'Location'\n",
    "}, inplace = False)"
   ]
  },
  {
   "cell_type": "code",
   "execution_count": 129,
   "metadata": {},
   "outputs": [
    {
     "data": {
      "text/html": [
       "<div>\n",
       "<style scoped>\n",
       "    .dataframe tbody tr th:only-of-type {\n",
       "        vertical-align: middle;\n",
       "    }\n",
       "\n",
       "    .dataframe tbody tr th {\n",
       "        vertical-align: top;\n",
       "    }\n",
       "\n",
       "    .dataframe thead th {\n",
       "        text-align: right;\n",
       "    }\n",
       "</style>\n",
       "<table border=\"1\" class=\"dataframe\">\n",
       "  <thead>\n",
       "    <tr style=\"text-align: right;\">\n",
       "      <th></th>\n",
       "      <th>City</th>\n",
       "      <th>Complaint</th>\n",
       "      <th>Location</th>\n",
       "    </tr>\n",
       "  </thead>\n",
       "  <tbody>\n",
       "    <tr>\n",
       "      <th>0</th>\n",
       "      <td>NEW YORK</td>\n",
       "      <td>Noise - Street/Sidewalk</td>\n",
       "      <td>Street/Sidewalk</td>\n",
       "    </tr>\n",
       "    <tr>\n",
       "      <th>1</th>\n",
       "      <td>ASTORIA</td>\n",
       "      <td>Blocked Driveway</td>\n",
       "      <td>Street/Sidewalk</td>\n",
       "    </tr>\n",
       "    <tr>\n",
       "      <th>2</th>\n",
       "      <td>BRONX</td>\n",
       "      <td>Blocked Driveway</td>\n",
       "      <td>Street/Sidewalk</td>\n",
       "    </tr>\n",
       "    <tr>\n",
       "      <th>3</th>\n",
       "      <td>BRONX</td>\n",
       "      <td>Illegal Parking</td>\n",
       "      <td>Street/Sidewalk</td>\n",
       "    </tr>\n",
       "    <tr>\n",
       "      <th>4</th>\n",
       "      <td>ELMHURST</td>\n",
       "      <td>Illegal Parking</td>\n",
       "      <td>Street/Sidewalk</td>\n",
       "    </tr>\n",
       "  </tbody>\n",
       "</table>\n",
       "</div>"
      ],
      "text/plain": [
       "       City                Complaint         Location\n",
       "0  NEW YORK  Noise - Street/Sidewalk  Street/Sidewalk\n",
       "1   ASTORIA         Blocked Driveway  Street/Sidewalk\n",
       "2     BRONX         Blocked Driveway  Street/Sidewalk\n",
       "3     BRONX          Illegal Parking  Street/Sidewalk\n",
       "4  ELMHURST          Illegal Parking  Street/Sidewalk"
      ]
     },
     "execution_count": 129,
     "metadata": {},
     "output_type": "execute_result"
    }
   ],
   "source": [
    "df_nyc_services.head(5)"
   ]
  },
  {
   "cell_type": "code",
   "execution_count": 130,
   "metadata": {},
   "outputs": [],
   "source": [
    "#dropping the city column & using a label encoder for the complaints and location\n",
    "df_nyc_nocity = df_nyc_services.drop('City', axis=1)"
   ]
  },
  {
   "cell_type": "code",
   "execution_count": 131,
   "metadata": {},
   "outputs": [],
   "source": [
    "from sklearn.preprocessing import LabelEncoder\n",
    "number = LabelEncoder()\n",
    "df_nyc_nocity['Complaint'] = number.fit_transform(df_nyc_nocity['Complaint'].astype('str'))\n",
    "df_nyc_nocity['Location'] = number.fit_transform(df_nyc_nocity['Location'].astype('str'))"
   ]
  },
  {
   "cell_type": "code",
   "execution_count": 132,
   "metadata": {},
   "outputs": [
    {
     "data": {
      "text/html": [
       "<div>\n",
       "<style scoped>\n",
       "    .dataframe tbody tr th:only-of-type {\n",
       "        vertical-align: middle;\n",
       "    }\n",
       "\n",
       "    .dataframe tbody tr th {\n",
       "        vertical-align: top;\n",
       "    }\n",
       "\n",
       "    .dataframe thead th {\n",
       "        text-align: right;\n",
       "    }\n",
       "</style>\n",
       "<table border=\"1\" class=\"dataframe\">\n",
       "  <thead>\n",
       "    <tr style=\"text-align: right;\">\n",
       "      <th></th>\n",
       "      <th>Complaint</th>\n",
       "      <th>Location</th>\n",
       "    </tr>\n",
       "  </thead>\n",
       "  <tbody>\n",
       "    <tr>\n",
       "      <th>0</th>\n",
       "      <td>15</td>\n",
       "      <td>13</td>\n",
       "    </tr>\n",
       "    <tr>\n",
       "      <th>1</th>\n",
       "      <td>4</td>\n",
       "      <td>13</td>\n",
       "    </tr>\n",
       "    <tr>\n",
       "      <th>2</th>\n",
       "      <td>4</td>\n",
       "      <td>13</td>\n",
       "    </tr>\n",
       "    <tr>\n",
       "      <th>3</th>\n",
       "      <td>11</td>\n",
       "      <td>13</td>\n",
       "    </tr>\n",
       "    <tr>\n",
       "      <th>4</th>\n",
       "      <td>11</td>\n",
       "      <td>13</td>\n",
       "    </tr>\n",
       "  </tbody>\n",
       "</table>\n",
       "</div>"
      ],
      "text/plain": [
       "   Complaint  Location\n",
       "0         15        13\n",
       "1          4        13\n",
       "2          4        13\n",
       "3         11        13\n",
       "4         11        13"
      ]
     },
     "execution_count": 132,
     "metadata": {},
     "output_type": "execute_result"
    }
   ],
   "source": [
    "df_nyc_nocity.head(5)"
   ]
  },
  {
   "cell_type": "markdown",
   "metadata": {},
   "source": [
    "### Hypothesis #4"
   ]
  },
  {
   "cell_type": "markdown",
   "metadata": {},
   "source": [
    "Null Hypothesis: There is no relationship between the complaint type and the location\n",
    "    \n",
    "Alternate Hypothesis: There exists some relationship between the complaint type and the location"
   ]
  },
  {
   "cell_type": "code",
   "execution_count": 133,
   "metadata": {},
   "outputs": [],
   "source": [
    "#spearmans rank correlation to check if the\n",
    "from scipy.stats import spearmanr"
   ]
  },
  {
   "cell_type": "code",
   "execution_count": 134,
   "metadata": {},
   "outputs": [],
   "source": [
    "data1 = df_nyc_nocity['Complaint']\n",
    "data2 = df_nyc_nocity['Location']"
   ]
  },
  {
   "cell_type": "code",
   "execution_count": 137,
   "metadata": {},
   "outputs": [
    {
     "data": {
      "text/plain": [
       "array([13, 13, 13, ...,  1,  1, 12])"
      ]
     },
     "execution_count": 137,
     "metadata": {},
     "output_type": "execute_result"
    }
   ],
   "source": [
    "#converting the pandas series to numpy array\n",
    "data1.to_numpy()\n",
    "data2.to_numpy()"
   ]
  },
  {
   "cell_type": "code",
   "execution_count": 138,
   "metadata": {},
   "outputs": [],
   "source": [
    "stat, p = spearmanr(data1, data2)"
   ]
  },
  {
   "cell_type": "code",
   "execution_count": 139,
   "metadata": {},
   "outputs": [
    {
     "name": "stdout",
     "output_type": "stream",
     "text": [
      "stat=-0.143, p=0.000\n"
     ]
    }
   ],
   "source": [
    "print('stat=%.3f, p=%.3f' % (stat, p))"
   ]
  },
  {
   "cell_type": "code",
   "execution_count": 140,
   "metadata": {},
   "outputs": [
    {
     "name": "stdout",
     "output_type": "stream",
     "text": [
      "The two variables are probably dependent\n"
     ]
    }
   ],
   "source": [
    "if p > 0.05:\n",
    "    print('The two variables are probably independent')\n",
    "else:\n",
    "    print('The two variables are probably dependent')"
   ]
  },
  {
   "cell_type": "markdown",
   "metadata": {},
   "source": [
    "According to spearman's rank correlation, the two variables are probably interdependent"
   ]
  },
  {
   "cell_type": "markdown",
   "metadata": {},
   "source": [
    "## Spearman's rank correlation result: "
   ]
  },
  {
   "cell_type": "markdown",
   "metadata": {},
   "source": [
    "There seems to exist some form of correlation which might be monotonic in nature between the complaints raised and the location"
   ]
  },
  {
   "cell_type": "markdown",
   "metadata": {},
   "source": [
    "### Performing a Chi-squared test to confirm\n"
   ]
  },
  {
   "cell_type": "code",
   "execution_count": 141,
   "metadata": {},
   "outputs": [],
   "source": [
    "from scipy.stats import chi2_contingency"
   ]
  },
  {
   "cell_type": "code",
   "execution_count": 142,
   "metadata": {},
   "outputs": [],
   "source": [
    "table = [data1,data2]"
   ]
  },
  {
   "cell_type": "code",
   "execution_count": 143,
   "metadata": {},
   "outputs": [
    {
     "name": "stdout",
     "output_type": "stream",
     "text": [
      "stat=-0.143, p=0.000\n",
      "Probably dependent\n"
     ]
    }
   ],
   "source": [
    "stat_chi, p_chi, dof, expected = chi2_contingency(table)\n",
    "print('stat=%.3f, p=%.3f' % (stat, p))\n",
    "if p_chi > 0.05:\n",
    "    print('Probably independent')\n",
    "else:\n",
    "    print('Probably dependent')"
   ]
  },
  {
   "cell_type": "code",
   "execution_count": null,
   "metadata": {},
   "outputs": [],
   "source": []
  },
  {
   "cell_type": "markdown",
   "metadata": {},
   "source": [
    "There seems to exist some form of correlation between the complaints raised and the location"
   ]
  },
  {
   "cell_type": "markdown",
   "metadata": {},
   "source": [
    "# Answer 2: There is a some correlation between the complaints raised and the location. This is explained by the low value of p in the spearman's correlation"
   ]
  }
 ],
 "metadata": {
  "kernelspec": {
   "display_name": "Python 3",
   "language": "python",
   "name": "python3"
  },
  "language_info": {
   "codemirror_mode": {
    "name": "ipython",
    "version": 3
   },
   "file_extension": ".py",
   "mimetype": "text/x-python",
   "name": "python",
   "nbconvert_exporter": "python",
   "pygments_lexer": "ipython3",
   "version": "3.8.5"
  }
 },
 "nbformat": 4,
 "nbformat_minor": 4
}
