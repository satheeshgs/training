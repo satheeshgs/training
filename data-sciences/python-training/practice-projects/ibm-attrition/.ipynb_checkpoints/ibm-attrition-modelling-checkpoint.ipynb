{
 "cells": [
  {
   "cell_type": "markdown",
   "metadata": {},
   "source": [
    "# IBM Attrition data analysis"
   ]
  },
  {
   "cell_type": "markdown",
   "metadata": {},
   "source": [
    "This project is for the IBM dataset which contains the attrition related data of employees of 170+ countries; the objective is to build a machine learning model which will predict if an employee is likely to attrite or not"
   ]
  },
  {
   "cell_type": "code",
   "execution_count": 1,
   "metadata": {},
   "outputs": [],
   "source": [
    "#importing the necessary libraries\n",
    "import pandas as pd\n",
    "import matplotlib.pyplot as plt\n",
    "import numpy as np\n",
    "import seaborn as sns"
   ]
  },
  {
   "cell_type": "code",
   "execution_count": 2,
   "metadata": {},
   "outputs": [],
   "source": [
    "#importing the dataset\n",
    "ibm_data = pd.read_csv(\"IBM Attrition Data.csv\")"
   ]
  },
  {
   "cell_type": "markdown",
   "metadata": {},
   "source": [
    "## Examining the dataset"
   ]
  },
  {
   "cell_type": "code",
   "execution_count": 3,
   "metadata": {},
   "outputs": [
    {
     "data": {
      "text/plain": [
       "Index(['Age', 'Attrition', 'Department', 'DistanceFromHome', 'Education',\n",
       "       'EducationField', 'EnvironmentSatisfaction', 'JobSatisfaction',\n",
       "       'MaritalStatus', 'MonthlyIncome', 'NumCompaniesWorked',\n",
       "       'WorkLifeBalance', 'YearsAtCompany'],\n",
       "      dtype='object')"
      ]
     },
     "execution_count": 3,
     "metadata": {},
     "output_type": "execute_result"
    }
   ],
   "source": [
    "#examining the columns in the dataset\n",
    "ibm_data.columns"
   ]
  },
  {
   "cell_type": "code",
   "execution_count": 4,
   "metadata": {},
   "outputs": [
    {
     "data": {
      "text/html": [
       "<div>\n",
       "<style scoped>\n",
       "    .dataframe tbody tr th:only-of-type {\n",
       "        vertical-align: middle;\n",
       "    }\n",
       "\n",
       "    .dataframe tbody tr th {\n",
       "        vertical-align: top;\n",
       "    }\n",
       "\n",
       "    .dataframe thead th {\n",
       "        text-align: right;\n",
       "    }\n",
       "</style>\n",
       "<table border=\"1\" class=\"dataframe\">\n",
       "  <thead>\n",
       "    <tr style=\"text-align: right;\">\n",
       "      <th></th>\n",
       "      <th>Age</th>\n",
       "      <th>Attrition</th>\n",
       "      <th>Department</th>\n",
       "      <th>DistanceFromHome</th>\n",
       "      <th>Education</th>\n",
       "      <th>EducationField</th>\n",
       "      <th>EnvironmentSatisfaction</th>\n",
       "      <th>JobSatisfaction</th>\n",
       "      <th>MaritalStatus</th>\n",
       "      <th>MonthlyIncome</th>\n",
       "      <th>NumCompaniesWorked</th>\n",
       "      <th>WorkLifeBalance</th>\n",
       "      <th>YearsAtCompany</th>\n",
       "    </tr>\n",
       "  </thead>\n",
       "  <tbody>\n",
       "    <tr>\n",
       "      <th>0</th>\n",
       "      <td>41</td>\n",
       "      <td>Yes</td>\n",
       "      <td>Sales</td>\n",
       "      <td>1</td>\n",
       "      <td>2</td>\n",
       "      <td>Life Sciences</td>\n",
       "      <td>2</td>\n",
       "      <td>4</td>\n",
       "      <td>Single</td>\n",
       "      <td>5993</td>\n",
       "      <td>8</td>\n",
       "      <td>1</td>\n",
       "      <td>6</td>\n",
       "    </tr>\n",
       "    <tr>\n",
       "      <th>1</th>\n",
       "      <td>49</td>\n",
       "      <td>No</td>\n",
       "      <td>Research &amp; Development</td>\n",
       "      <td>8</td>\n",
       "      <td>1</td>\n",
       "      <td>Life Sciences</td>\n",
       "      <td>3</td>\n",
       "      <td>2</td>\n",
       "      <td>Married</td>\n",
       "      <td>5130</td>\n",
       "      <td>1</td>\n",
       "      <td>3</td>\n",
       "      <td>10</td>\n",
       "    </tr>\n",
       "    <tr>\n",
       "      <th>2</th>\n",
       "      <td>37</td>\n",
       "      <td>Yes</td>\n",
       "      <td>Research &amp; Development</td>\n",
       "      <td>2</td>\n",
       "      <td>2</td>\n",
       "      <td>Other</td>\n",
       "      <td>4</td>\n",
       "      <td>3</td>\n",
       "      <td>Single</td>\n",
       "      <td>2090</td>\n",
       "      <td>6</td>\n",
       "      <td>3</td>\n",
       "      <td>0</td>\n",
       "    </tr>\n",
       "    <tr>\n",
       "      <th>3</th>\n",
       "      <td>33</td>\n",
       "      <td>No</td>\n",
       "      <td>Research &amp; Development</td>\n",
       "      <td>3</td>\n",
       "      <td>4</td>\n",
       "      <td>Life Sciences</td>\n",
       "      <td>4</td>\n",
       "      <td>3</td>\n",
       "      <td>Married</td>\n",
       "      <td>2909</td>\n",
       "      <td>1</td>\n",
       "      <td>3</td>\n",
       "      <td>8</td>\n",
       "    </tr>\n",
       "    <tr>\n",
       "      <th>4</th>\n",
       "      <td>27</td>\n",
       "      <td>No</td>\n",
       "      <td>Research &amp; Development</td>\n",
       "      <td>2</td>\n",
       "      <td>1</td>\n",
       "      <td>Medical</td>\n",
       "      <td>1</td>\n",
       "      <td>2</td>\n",
       "      <td>Married</td>\n",
       "      <td>3468</td>\n",
       "      <td>9</td>\n",
       "      <td>3</td>\n",
       "      <td>2</td>\n",
       "    </tr>\n",
       "  </tbody>\n",
       "</table>\n",
       "</div>"
      ],
      "text/plain": [
       "   Age Attrition              Department  DistanceFromHome  Education  \\\n",
       "0   41       Yes                   Sales                 1          2   \n",
       "1   49        No  Research & Development                 8          1   \n",
       "2   37       Yes  Research & Development                 2          2   \n",
       "3   33        No  Research & Development                 3          4   \n",
       "4   27        No  Research & Development                 2          1   \n",
       "\n",
       "  EducationField  EnvironmentSatisfaction  JobSatisfaction MaritalStatus  \\\n",
       "0  Life Sciences                        2                4        Single   \n",
       "1  Life Sciences                        3                2       Married   \n",
       "2          Other                        4                3        Single   \n",
       "3  Life Sciences                        4                3       Married   \n",
       "4        Medical                        1                2       Married   \n",
       "\n",
       "   MonthlyIncome  NumCompaniesWorked  WorkLifeBalance  YearsAtCompany  \n",
       "0           5993                   8                1               6  \n",
       "1           5130                   1                3              10  \n",
       "2           2090                   6                3               0  \n",
       "3           2909                   1                3               8  \n",
       "4           3468                   9                3               2  "
      ]
     },
     "execution_count": 4,
     "metadata": {},
     "output_type": "execute_result"
    }
   ],
   "source": [
    "#viewing the first 5 records of the dataset\n",
    "ibm_data.head(5)"
   ]
  },
  {
   "cell_type": "code",
   "execution_count": 5,
   "metadata": {},
   "outputs": [
    {
     "data": {
      "text/plain": [
       "(1470, 13)"
      ]
     },
     "execution_count": 5,
     "metadata": {},
     "output_type": "execute_result"
    }
   ],
   "source": [
    "#viewing the total number of records of the dataset\n",
    "ibm_data.shape"
   ]
  },
  {
   "cell_type": "markdown",
   "metadata": {},
   "source": [
    "## Visualising the dataset"
   ]
  },
  {
   "cell_type": "code",
   "execution_count": 7,
   "metadata": {},
   "outputs": [
    {
     "data": {
      "image/png": "[encoded data removed]",
      "text/plain": [
       "<Figure size 720x720 with 1 Axes>"
      ]
     },
     "metadata": {
      "needs_background": "light"
     },
     "output_type": "display_data"
    }
   ],
   "source": [
    "#age distribution via histogram\n",
    "plt.figure(figsize=(10,10))\n",
    "ibm_data['Age'].hist(bins=30)\n",
    "plt.title(\"Age vs Total Number of Employees\")\n",
    "plt.xlabel(\"Age\")\n",
    "plt.ylabel(\"Number of Employees\")\n",
    "plt.show()"
   ]
  },
  {
   "cell_type": "code",
   "execution_count": 8,
   "metadata": {},
   "outputs": [
    {
     "data": {
      "text/plain": [
       "Research & Development    961\n",
       "Sales                     446\n",
       "Human Resources            63\n",
       "Name: Department, dtype: int64"
      ]
     },
     "execution_count": 8,
     "metadata": {},
     "output_type": "execute_result"
    }
   ],
   "source": [
    "ibm_data[\"Department\"].value_counts()"
   ]
  },
  {
   "cell_type": "code",
   "execution_count": 9,
   "metadata": {},
   "outputs": [
    {
     "data": {
      "image/png": "[encoded data removed]",
      "text/plain": [
       "<Figure size 576x576 with 1 Axes>"
      ]
     },
     "metadata": {
      "needs_background": "light"
     },
     "output_type": "display_data"
    }
   ],
   "source": [
    "#department distribution via barchart\n",
    "plt.figure(figsize=(8,8))\n",
    "ibm_data['Department'].hist()\n",
    "plt.title(\"Department vs Total Number of Employees\")\n",
    "plt.xlabel(\"Department\")\n",
    "plt.ylabel(\"Number of Employees\")\n",
    "plt.show()"
   ]
  },
  {
   "cell_type": "code",
   "execution_count": 10,
   "metadata": {},
   "outputs": [
    {
     "data": {
      "text/plain": [
       "No     1233\n",
       "Yes     237\n",
       "Name: Attrition, dtype: int64"
      ]
     },
     "execution_count": 10,
     "metadata": {},
     "output_type": "execute_result"
    }
   ],
   "source": [
    "#attrition employees analysis\n",
    "ibm_data[\"Attrition\"].value_counts()"
   ]
  },
  {
   "cell_type": "code",
   "execution_count": 19,
   "metadata": {},
   "outputs": [
    {
     "data": {
      "image/png": "[encoded data removed]",
      "text/plain": [
       "<Figure size 432x288 with 1 Axes>"
      ]
     },
     "metadata": {
      "needs_background": "light"
     },
     "output_type": "display_data"
    }
   ],
   "source": [
    "ibm_data.Attrition.value_counts().plot(kind='barh',color='r',alpha=.75)\n",
    "plt.title(\"Attrition Employees Analysis\")\n",
    "plt.show()"
   ]
  },
  {
   "cell_type": "code",
   "execution_count": 20,
   "metadata": {},
   "outputs": [
    {
     "data": {
      "image/png": "[encoded data removed]",
      "text/plain": [
       "<Figure size 720x576 with 1 Axes>"
      ]
     },
     "metadata": {
      "needs_background": "light"
     },
     "output_type": "display_data"
    }
   ],
   "source": [
    "plt.figure(figsize=(10,8))\n",
    "ibm_data.EducationField.value_counts().plot(kind='barh',color='g',alpha=.75)\n",
    "plt.title(\"Education Field Distribution\")\n",
    "plt.show()"
   ]
  },
  {
   "cell_type": "code",
   "execution_count": 22,
   "metadata": {},
   "outputs": [
    {
     "data": {
      "image/png": "[encoded data removed]",
      "text/plain": [
       "<Figure size 720x576 with 1 Axes>"
      ]
     },
     "metadata": {
      "needs_background": "light"
     },
     "output_type": "display_data"
    }
   ],
   "source": [
    "plt.figure(figsize=(10,8))\n",
    "ibm_data.MaritalStatus.value_counts().plot(kind='bar',color='r',alpha=.4)\n",
    "plt.title(\"Marital Status Distribution\")\n",
    "plt.show()"
   ]
  },
  {
   "cell_type": "markdown",
   "metadata": {},
   "source": [
    "## Understanding the dataset"
   ]
  },
  {
   "cell_type": "code",
   "execution_count": 24,
   "metadata": {},
   "outputs": [
    {
     "data": {
      "text/html": [
       "<div>\n",
       "<style scoped>\n",
       "    .dataframe tbody tr th:only-of-type {\n",
       "        vertical-align: middle;\n",
       "    }\n",
       "\n",
       "    .dataframe tbody tr th {\n",
       "        vertical-align: top;\n",
       "    }\n",
       "\n",
       "    .dataframe thead th {\n",
       "        text-align: right;\n",
       "    }\n",
       "</style>\n",
       "<table border=\"1\" class=\"dataframe\">\n",
       "  <thead>\n",
       "    <tr style=\"text-align: right;\">\n",
       "      <th></th>\n",
       "      <th>Age</th>\n",
       "      <th>DistanceFromHome</th>\n",
       "      <th>Education</th>\n",
       "      <th>EnvironmentSatisfaction</th>\n",
       "      <th>JobSatisfaction</th>\n",
       "      <th>MonthlyIncome</th>\n",
       "      <th>NumCompaniesWorked</th>\n",
       "      <th>WorkLifeBalance</th>\n",
       "      <th>YearsAtCompany</th>\n",
       "    </tr>\n",
       "  </thead>\n",
       "  <tbody>\n",
       "    <tr>\n",
       "      <th>count</th>\n",
       "      <td>1470.000000</td>\n",
       "      <td>1470.000000</td>\n",
       "      <td>1470.000000</td>\n",
       "      <td>1470.000000</td>\n",
       "      <td>1470.000000</td>\n",
       "      <td>1470.000000</td>\n",
       "      <td>1470.000000</td>\n",
       "      <td>1470.000000</td>\n",
       "      <td>1470.000000</td>\n",
       "    </tr>\n",
       "    <tr>\n",
       "      <th>mean</th>\n",
       "      <td>36.923810</td>\n",
       "      <td>9.192517</td>\n",
       "      <td>2.912925</td>\n",
       "      <td>2.721769</td>\n",
       "      <td>2.728571</td>\n",
       "      <td>6502.931293</td>\n",
       "      <td>2.693197</td>\n",
       "      <td>2.761224</td>\n",
       "      <td>7.008163</td>\n",
       "    </tr>\n",
       "    <tr>\n",
       "      <th>std</th>\n",
       "      <td>9.135373</td>\n",
       "      <td>8.106864</td>\n",
       "      <td>1.024165</td>\n",
       "      <td>1.093082</td>\n",
       "      <td>1.102846</td>\n",
       "      <td>4707.956783</td>\n",
       "      <td>2.498009</td>\n",
       "      <td>0.706476</td>\n",
       "      <td>6.126525</td>\n",
       "    </tr>\n",
       "    <tr>\n",
       "      <th>min</th>\n",
       "      <td>18.000000</td>\n",
       "      <td>1.000000</td>\n",
       "      <td>1.000000</td>\n",
       "      <td>1.000000</td>\n",
       "      <td>1.000000</td>\n",
       "      <td>1009.000000</td>\n",
       "      <td>0.000000</td>\n",
       "      <td>1.000000</td>\n",
       "      <td>0.000000</td>\n",
       "    </tr>\n",
       "    <tr>\n",
       "      <th>25%</th>\n",
       "      <td>30.000000</td>\n",
       "      <td>2.000000</td>\n",
       "      <td>2.000000</td>\n",
       "      <td>2.000000</td>\n",
       "      <td>2.000000</td>\n",
       "      <td>2911.000000</td>\n",
       "      <td>1.000000</td>\n",
       "      <td>2.000000</td>\n",
       "      <td>3.000000</td>\n",
       "    </tr>\n",
       "    <tr>\n",
       "      <th>50%</th>\n",
       "      <td>36.000000</td>\n",
       "      <td>7.000000</td>\n",
       "      <td>3.000000</td>\n",
       "      <td>3.000000</td>\n",
       "      <td>3.000000</td>\n",
       "      <td>4919.000000</td>\n",
       "      <td>2.000000</td>\n",
       "      <td>3.000000</td>\n",
       "      <td>5.000000</td>\n",
       "    </tr>\n",
       "    <tr>\n",
       "      <th>75%</th>\n",
       "      <td>43.000000</td>\n",
       "      <td>14.000000</td>\n",
       "      <td>4.000000</td>\n",
       "      <td>4.000000</td>\n",
       "      <td>4.000000</td>\n",
       "      <td>8379.000000</td>\n",
       "      <td>4.000000</td>\n",
       "      <td>3.000000</td>\n",
       "      <td>9.000000</td>\n",
       "    </tr>\n",
       "    <tr>\n",
       "      <th>max</th>\n",
       "      <td>60.000000</td>\n",
       "      <td>29.000000</td>\n",
       "      <td>5.000000</td>\n",
       "      <td>4.000000</td>\n",
       "      <td>4.000000</td>\n",
       "      <td>19999.000000</td>\n",
       "      <td>9.000000</td>\n",
       "      <td>4.000000</td>\n",
       "      <td>40.000000</td>\n",
       "    </tr>\n",
       "  </tbody>\n",
       "</table>\n",
       "</div>"
      ],
      "text/plain": [
       "               Age  DistanceFromHome    Education  EnvironmentSatisfaction  \\\n",
       "count  1470.000000       1470.000000  1470.000000              1470.000000   \n",
       "mean     36.923810          9.192517     2.912925                 2.721769   \n",
       "std       9.135373          8.106864     1.024165                 1.093082   \n",
       "min      18.000000          1.000000     1.000000                 1.000000   \n",
       "25%      30.000000          2.000000     2.000000                 2.000000   \n",
       "50%      36.000000          7.000000     3.000000                 3.000000   \n",
       "75%      43.000000         14.000000     4.000000                 4.000000   \n",
       "max      60.000000         29.000000     5.000000                 4.000000   \n",
       "\n",
       "       JobSatisfaction  MonthlyIncome  NumCompaniesWorked  WorkLifeBalance  \\\n",
       "count      1470.000000    1470.000000         1470.000000      1470.000000   \n",
       "mean          2.728571    6502.931293            2.693197         2.761224   \n",
       "std           1.102846    4707.956783            2.498009         0.706476   \n",
       "min           1.000000    1009.000000            0.000000         1.000000   \n",
       "25%           2.000000    2911.000000            1.000000         2.000000   \n",
       "50%           3.000000    4919.000000            2.000000         3.000000   \n",
       "75%           4.000000    8379.000000            4.000000         3.000000   \n",
       "max           4.000000   19999.000000            9.000000         4.000000   \n",
       "\n",
       "       YearsAtCompany  \n",
       "count     1470.000000  \n",
       "mean         7.008163  \n",
       "std          6.126525  \n",
       "min          0.000000  \n",
       "25%          3.000000  \n",
       "50%          5.000000  \n",
       "75%          9.000000  \n",
       "max         40.000000  "
      ]
     },
     "execution_count": 24,
     "metadata": {},
     "output_type": "execute_result"
    }
   ],
   "source": [
    "#Describing the dataset\n",
    "ibm_data.describe()"
   ]
  },
  {
   "cell_type": "markdown",
   "metadata": {},
   "source": [
    "## Preparing the data"
   ]
  },
  {
   "cell_type": "markdown",
   "metadata": {},
   "source": [
    "There is a need to replace the categorical data to numerical data"
   ]
  },
  {
   "cell_type": "code",
   "execution_count": 25,
   "metadata": {},
   "outputs": [],
   "source": [
    "#Converting categorical data to numerical data\n",
    "#1 replacing attrition data\n",
    "ibm_data['Attrition'].replace('Yes',1, inplace=True)\n",
    "ibm_data['Attrition'].replace('No',0, inplace=True)"
   ]
  },
  {
   "cell_type": "code",
   "execution_count": 26,
   "metadata": {},
   "outputs": [],
   "source": [
    "#2 replacing Marital status\n",
    "ibm_data['MaritalStatus'].replace('Married',1, inplace=True)\n",
    "ibm_data['MaritalStatus'].replace('Single',2, inplace=True)\n",
    "ibm_data['MaritalStatus'].replace('Divorced',3, inplace=True)"
   ]
  },
  {
   "cell_type": "code",
   "execution_count": 27,
   "metadata": {},
   "outputs": [],
   "source": [
    "#3 replacing Education field data\n",
    "ibm_data['EducationField'].replace('Life Sciences',1, inplace=True)\n",
    "ibm_data['EducationField'].replace('Medical',2, inplace=True)\n",
    "ibm_data['EducationField'].replace('Marketing', 3, inplace=True)\n",
    "ibm_data['EducationField'].replace('Other',4, inplace=True)\n",
    "ibm_data['EducationField'].replace('Technical Degree',5, inplace=True)\n",
    "ibm_data['EducationField'].replace('Human Resources', 6, inplace=True)"
   ]
  },
  {
   "cell_type": "code",
   "execution_count": 28,
   "metadata": {},
   "outputs": [],
   "source": [
    "#4 replacing department data\n",
    "ibm_data['Department'].replace('Research & Development',1, inplace=True)\n",
    "ibm_data['Department'].replace('Sales',2, inplace=True)\n",
    "ibm_data['Department'].replace('Human Resources', 3, inplace=True)"
   ]
  },
  {
   "cell_type": "code",
   "execution_count": 29,
   "metadata": {},
   "outputs": [
    {
     "data": {
      "text/html": [
       "<div>\n",
       "<style scoped>\n",
       "    .dataframe tbody tr th:only-of-type {\n",
       "        vertical-align: middle;\n",
       "    }\n",
       "\n",
       "    .dataframe tbody tr th {\n",
       "        vertical-align: top;\n",
       "    }\n",
       "\n",
       "    .dataframe thead th {\n",
       "        text-align: right;\n",
       "    }\n",
       "</style>\n",
       "<table border=\"1\" class=\"dataframe\">\n",
       "  <thead>\n",
       "    <tr style=\"text-align: right;\">\n",
       "      <th></th>\n",
       "      <th>Age</th>\n",
       "      <th>Attrition</th>\n",
       "      <th>Department</th>\n",
       "      <th>DistanceFromHome</th>\n",
       "      <th>Education</th>\n",
       "      <th>EducationField</th>\n",
       "      <th>EnvironmentSatisfaction</th>\n",
       "      <th>JobSatisfaction</th>\n",
       "      <th>MaritalStatus</th>\n",
       "      <th>MonthlyIncome</th>\n",
       "      <th>NumCompaniesWorked</th>\n",
       "      <th>WorkLifeBalance</th>\n",
       "      <th>YearsAtCompany</th>\n",
       "    </tr>\n",
       "  </thead>\n",
       "  <tbody>\n",
       "    <tr>\n",
       "      <th>0</th>\n",
       "      <td>41</td>\n",
       "      <td>1</td>\n",
       "      <td>2</td>\n",
       "      <td>1</td>\n",
       "      <td>2</td>\n",
       "      <td>1</td>\n",
       "      <td>2</td>\n",
       "      <td>4</td>\n",
       "      <td>2</td>\n",
       "      <td>5993</td>\n",
       "      <td>8</td>\n",
       "      <td>1</td>\n",
       "      <td>6</td>\n",
       "    </tr>\n",
       "    <tr>\n",
       "      <th>1</th>\n",
       "      <td>49</td>\n",
       "      <td>0</td>\n",
       "      <td>1</td>\n",
       "      <td>8</td>\n",
       "      <td>1</td>\n",
       "      <td>1</td>\n",
       "      <td>3</td>\n",
       "      <td>2</td>\n",
       "      <td>1</td>\n",
       "      <td>5130</td>\n",
       "      <td>1</td>\n",
       "      <td>3</td>\n",
       "      <td>10</td>\n",
       "    </tr>\n",
       "    <tr>\n",
       "      <th>2</th>\n",
       "      <td>37</td>\n",
       "      <td>1</td>\n",
       "      <td>1</td>\n",
       "      <td>2</td>\n",
       "      <td>2</td>\n",
       "      <td>4</td>\n",
       "      <td>4</td>\n",
       "      <td>3</td>\n",
       "      <td>2</td>\n",
       "      <td>2090</td>\n",
       "      <td>6</td>\n",
       "      <td>3</td>\n",
       "      <td>0</td>\n",
       "    </tr>\n",
       "    <tr>\n",
       "      <th>3</th>\n",
       "      <td>33</td>\n",
       "      <td>0</td>\n",
       "      <td>1</td>\n",
       "      <td>3</td>\n",
       "      <td>4</td>\n",
       "      <td>1</td>\n",
       "      <td>4</td>\n",
       "      <td>3</td>\n",
       "      <td>1</td>\n",
       "      <td>2909</td>\n",
       "      <td>1</td>\n",
       "      <td>3</td>\n",
       "      <td>8</td>\n",
       "    </tr>\n",
       "    <tr>\n",
       "      <th>4</th>\n",
       "      <td>27</td>\n",
       "      <td>0</td>\n",
       "      <td>1</td>\n",
       "      <td>2</td>\n",
       "      <td>1</td>\n",
       "      <td>2</td>\n",
       "      <td>1</td>\n",
       "      <td>2</td>\n",
       "      <td>1</td>\n",
       "      <td>3468</td>\n",
       "      <td>9</td>\n",
       "      <td>3</td>\n",
       "      <td>2</td>\n",
       "    </tr>\n",
       "  </tbody>\n",
       "</table>\n",
       "</div>"
      ],
      "text/plain": [
       "   Age  Attrition  Department  DistanceFromHome  Education  EducationField  \\\n",
       "0   41          1           2                 1          2               1   \n",
       "1   49          0           1                 8          1               1   \n",
       "2   37          1           1                 2          2               4   \n",
       "3   33          0           1                 3          4               1   \n",
       "4   27          0           1                 2          1               2   \n",
       "\n",
       "   EnvironmentSatisfaction  JobSatisfaction  MaritalStatus  MonthlyIncome  \\\n",
       "0                        2                4              2           5993   \n",
       "1                        3                2              1           5130   \n",
       "2                        4                3              2           2090   \n",
       "3                        4                3              1           2909   \n",
       "4                        1                2              1           3468   \n",
       "\n",
       "   NumCompaniesWorked  WorkLifeBalance  YearsAtCompany  \n",
       "0                   8                1               6  \n",
       "1                   1                3              10  \n",
       "2                   6                3               0  \n",
       "3                   1                3               8  \n",
       "4                   9                3               2  "
      ]
     },
     "execution_count": 29,
     "metadata": {},
     "output_type": "execute_result"
    }
   ],
   "source": [
    "#verifying all data has been converted to numerical datapoints\n",
    "ibm_data.head(5)"
   ]
  },
  {
   "cell_type": "code",
   "execution_count": 31,
   "metadata": {},
   "outputs": [],
   "source": [
    "#creating X and Y variables\n",
    "X = ibm_data.drop(['Attrition'], axis = 1)\n",
    "Y = ibm_data[\"Attrition\"]"
   ]
  },
  {
   "cell_type": "code",
   "execution_count": 32,
   "metadata": {},
   "outputs": [
    {
     "data": {
      "text/html": [
       "<div>\n",
       "<style scoped>\n",
       "    .dataframe tbody tr th:only-of-type {\n",
       "        vertical-align: middle;\n",
       "    }\n",
       "\n",
       "    .dataframe tbody tr th {\n",
       "        vertical-align: top;\n",
       "    }\n",
       "\n",
       "    .dataframe thead th {\n",
       "        text-align: right;\n",
       "    }\n",
       "</style>\n",
       "<table border=\"1\" class=\"dataframe\">\n",
       "  <thead>\n",
       "    <tr style=\"text-align: right;\">\n",
       "      <th></th>\n",
       "      <th>Age</th>\n",
       "      <th>Department</th>\n",
       "      <th>DistanceFromHome</th>\n",
       "      <th>Education</th>\n",
       "      <th>EducationField</th>\n",
       "      <th>EnvironmentSatisfaction</th>\n",
       "      <th>JobSatisfaction</th>\n",
       "      <th>MaritalStatus</th>\n",
       "      <th>MonthlyIncome</th>\n",
       "      <th>NumCompaniesWorked</th>\n",
       "      <th>WorkLifeBalance</th>\n",
       "      <th>YearsAtCompany</th>\n",
       "    </tr>\n",
       "  </thead>\n",
       "  <tbody>\n",
       "    <tr>\n",
       "      <th>0</th>\n",
       "      <td>41</td>\n",
       "      <td>2</td>\n",
       "      <td>1</td>\n",
       "      <td>2</td>\n",
       "      <td>1</td>\n",
       "      <td>2</td>\n",
       "      <td>4</td>\n",
       "      <td>2</td>\n",
       "      <td>5993</td>\n",
       "      <td>8</td>\n",
       "      <td>1</td>\n",
       "      <td>6</td>\n",
       "    </tr>\n",
       "    <tr>\n",
       "      <th>1</th>\n",
       "      <td>49</td>\n",
       "      <td>1</td>\n",
       "      <td>8</td>\n",
       "      <td>1</td>\n",
       "      <td>1</td>\n",
       "      <td>3</td>\n",
       "      <td>2</td>\n",
       "      <td>1</td>\n",
       "      <td>5130</td>\n",
       "      <td>1</td>\n",
       "      <td>3</td>\n",
       "      <td>10</td>\n",
       "    </tr>\n",
       "    <tr>\n",
       "      <th>2</th>\n",
       "      <td>37</td>\n",
       "      <td>1</td>\n",
       "      <td>2</td>\n",
       "      <td>2</td>\n",
       "      <td>4</td>\n",
       "      <td>4</td>\n",
       "      <td>3</td>\n",
       "      <td>2</td>\n",
       "      <td>2090</td>\n",
       "      <td>6</td>\n",
       "      <td>3</td>\n",
       "      <td>0</td>\n",
       "    </tr>\n",
       "    <tr>\n",
       "      <th>3</th>\n",
       "      <td>33</td>\n",
       "      <td>1</td>\n",
       "      <td>3</td>\n",
       "      <td>4</td>\n",
       "      <td>1</td>\n",
       "      <td>4</td>\n",
       "      <td>3</td>\n",
       "      <td>1</td>\n",
       "      <td>2909</td>\n",
       "      <td>1</td>\n",
       "      <td>3</td>\n",
       "      <td>8</td>\n",
       "    </tr>\n",
       "    <tr>\n",
       "      <th>4</th>\n",
       "      <td>27</td>\n",
       "      <td>1</td>\n",
       "      <td>2</td>\n",
       "      <td>1</td>\n",
       "      <td>2</td>\n",
       "      <td>1</td>\n",
       "      <td>2</td>\n",
       "      <td>1</td>\n",
       "      <td>3468</td>\n",
       "      <td>9</td>\n",
       "      <td>3</td>\n",
       "      <td>2</td>\n",
       "    </tr>\n",
       "  </tbody>\n",
       "</table>\n",
       "</div>"
      ],
      "text/plain": [
       "   Age  Department  DistanceFromHome  Education  EducationField  \\\n",
       "0   41           2                 1          2               1   \n",
       "1   49           1                 8          1               1   \n",
       "2   37           1                 2          2               4   \n",
       "3   33           1                 3          4               1   \n",
       "4   27           1                 2          1               2   \n",
       "\n",
       "   EnvironmentSatisfaction  JobSatisfaction  MaritalStatus  MonthlyIncome  \\\n",
       "0                        2                4              2           5993   \n",
       "1                        3                2              1           5130   \n",
       "2                        4                3              2           2090   \n",
       "3                        4                3              1           2909   \n",
       "4                        1                2              1           3468   \n",
       "\n",
       "   NumCompaniesWorked  WorkLifeBalance  YearsAtCompany  \n",
       "0                   8                1               6  \n",
       "1                   1                3              10  \n",
       "2                   6                3               0  \n",
       "3                   1                3               8  \n",
       "4                   9                3               2  "
      ]
     },
     "execution_count": 32,
     "metadata": {},
     "output_type": "execute_result"
    }
   ],
   "source": [
    "X.head(5)"
   ]
  },
  {
   "cell_type": "code",
   "execution_count": 34,
   "metadata": {},
   "outputs": [
    {
     "data": {
      "text/plain": [
       "pandas.core.frame.DataFrame"
      ]
     },
     "execution_count": 34,
     "metadata": {},
     "output_type": "execute_result"
    }
   ],
   "source": [
    "type(X)"
   ]
  },
  {
   "cell_type": "code",
   "execution_count": 37,
   "metadata": {},
   "outputs": [
    {
     "data": {
      "text/html": [
       "<div>\n",
       "<style scoped>\n",
       "    .dataframe tbody tr th:only-of-type {\n",
       "        vertical-align: middle;\n",
       "    }\n",
       "\n",
       "    .dataframe tbody tr th {\n",
       "        vertical-align: top;\n",
       "    }\n",
       "\n",
       "    .dataframe thead th {\n",
       "        text-align: right;\n",
       "    }\n",
       "</style>\n",
       "<table border=\"1\" class=\"dataframe\">\n",
       "  <thead>\n",
       "    <tr style=\"text-align: right;\">\n",
       "      <th></th>\n",
       "      <th>Age</th>\n",
       "      <th>Department</th>\n",
       "      <th>DistanceFromHome</th>\n",
       "      <th>Education</th>\n",
       "      <th>EducationField</th>\n",
       "      <th>EnvironmentSatisfaction</th>\n",
       "      <th>JobSatisfaction</th>\n",
       "      <th>MaritalStatus</th>\n",
       "      <th>MonthlyIncome</th>\n",
       "      <th>NumCompaniesWorked</th>\n",
       "      <th>WorkLifeBalance</th>\n",
       "      <th>YearsAtCompany</th>\n",
       "    </tr>\n",
       "  </thead>\n",
       "  <tbody>\n",
       "    <tr>\n",
       "      <th>count</th>\n",
       "      <td>1470.000000</td>\n",
       "      <td>1470.000000</td>\n",
       "      <td>1470.000000</td>\n",
       "      <td>1470.000000</td>\n",
       "      <td>1470.000000</td>\n",
       "      <td>1470.000000</td>\n",
       "      <td>1470.000000</td>\n",
       "      <td>1470.000000</td>\n",
       "      <td>1470.000000</td>\n",
       "      <td>1470.000000</td>\n",
       "      <td>1470.000000</td>\n",
       "      <td>1470.000000</td>\n",
       "    </tr>\n",
       "    <tr>\n",
       "      <th>mean</th>\n",
       "      <td>36.923810</td>\n",
       "      <td>1.389116</td>\n",
       "      <td>9.192517</td>\n",
       "      <td>2.912925</td>\n",
       "      <td>2.150340</td>\n",
       "      <td>2.721769</td>\n",
       "      <td>2.728571</td>\n",
       "      <td>1.764626</td>\n",
       "      <td>6502.931293</td>\n",
       "      <td>2.693197</td>\n",
       "      <td>2.761224</td>\n",
       "      <td>7.008163</td>\n",
       "    </tr>\n",
       "    <tr>\n",
       "      <th>std</th>\n",
       "      <td>9.135373</td>\n",
       "      <td>0.568893</td>\n",
       "      <td>8.106864</td>\n",
       "      <td>1.024165</td>\n",
       "      <td>1.350636</td>\n",
       "      <td>1.093082</td>\n",
       "      <td>1.102846</td>\n",
       "      <td>0.790757</td>\n",
       "      <td>4707.956783</td>\n",
       "      <td>2.498009</td>\n",
       "      <td>0.706476</td>\n",
       "      <td>6.126525</td>\n",
       "    </tr>\n",
       "    <tr>\n",
       "      <th>min</th>\n",
       "      <td>18.000000</td>\n",
       "      <td>1.000000</td>\n",
       "      <td>1.000000</td>\n",
       "      <td>1.000000</td>\n",
       "      <td>1.000000</td>\n",
       "      <td>1.000000</td>\n",
       "      <td>1.000000</td>\n",
       "      <td>1.000000</td>\n",
       "      <td>1009.000000</td>\n",
       "      <td>0.000000</td>\n",
       "      <td>1.000000</td>\n",
       "      <td>0.000000</td>\n",
       "    </tr>\n",
       "    <tr>\n",
       "      <th>25%</th>\n",
       "      <td>30.000000</td>\n",
       "      <td>1.000000</td>\n",
       "      <td>2.000000</td>\n",
       "      <td>2.000000</td>\n",
       "      <td>1.000000</td>\n",
       "      <td>2.000000</td>\n",
       "      <td>2.000000</td>\n",
       "      <td>1.000000</td>\n",
       "      <td>2911.000000</td>\n",
       "      <td>1.000000</td>\n",
       "      <td>2.000000</td>\n",
       "      <td>3.000000</td>\n",
       "    </tr>\n",
       "    <tr>\n",
       "      <th>50%</th>\n",
       "      <td>36.000000</td>\n",
       "      <td>1.000000</td>\n",
       "      <td>7.000000</td>\n",
       "      <td>3.000000</td>\n",
       "      <td>2.000000</td>\n",
       "      <td>3.000000</td>\n",
       "      <td>3.000000</td>\n",
       "      <td>2.000000</td>\n",
       "      <td>4919.000000</td>\n",
       "      <td>2.000000</td>\n",
       "      <td>3.000000</td>\n",
       "      <td>5.000000</td>\n",
       "    </tr>\n",
       "    <tr>\n",
       "      <th>75%</th>\n",
       "      <td>43.000000</td>\n",
       "      <td>2.000000</td>\n",
       "      <td>14.000000</td>\n",
       "      <td>4.000000</td>\n",
       "      <td>3.000000</td>\n",
       "      <td>4.000000</td>\n",
       "      <td>4.000000</td>\n",
       "      <td>2.000000</td>\n",
       "      <td>8379.000000</td>\n",
       "      <td>4.000000</td>\n",
       "      <td>3.000000</td>\n",
       "      <td>9.000000</td>\n",
       "    </tr>\n",
       "    <tr>\n",
       "      <th>max</th>\n",
       "      <td>60.000000</td>\n",
       "      <td>3.000000</td>\n",
       "      <td>29.000000</td>\n",
       "      <td>5.000000</td>\n",
       "      <td>6.000000</td>\n",
       "      <td>4.000000</td>\n",
       "      <td>4.000000</td>\n",
       "      <td>3.000000</td>\n",
       "      <td>19999.000000</td>\n",
       "      <td>9.000000</td>\n",
       "      <td>4.000000</td>\n",
       "      <td>40.000000</td>\n",
       "    </tr>\n",
       "  </tbody>\n",
       "</table>\n",
       "</div>"
      ],
      "text/plain": [
       "               Age   Department  DistanceFromHome    Education  \\\n",
       "count  1470.000000  1470.000000       1470.000000  1470.000000   \n",
       "mean     36.923810     1.389116          9.192517     2.912925   \n",
       "std       9.135373     0.568893          8.106864     1.024165   \n",
       "min      18.000000     1.000000          1.000000     1.000000   \n",
       "25%      30.000000     1.000000          2.000000     2.000000   \n",
       "50%      36.000000     1.000000          7.000000     3.000000   \n",
       "75%      43.000000     2.000000         14.000000     4.000000   \n",
       "max      60.000000     3.000000         29.000000     5.000000   \n",
       "\n",
       "       EducationField  EnvironmentSatisfaction  JobSatisfaction  \\\n",
       "count     1470.000000              1470.000000      1470.000000   \n",
       "mean         2.150340                 2.721769         2.728571   \n",
       "std          1.350636                 1.093082         1.102846   \n",
       "min          1.000000                 1.000000         1.000000   \n",
       "25%          1.000000                 2.000000         2.000000   \n",
       "50%          2.000000                 3.000000         3.000000   \n",
       "75%          3.000000                 4.000000         4.000000   \n",
       "max          6.000000                 4.000000         4.000000   \n",
       "\n",
       "       MaritalStatus  MonthlyIncome  NumCompaniesWorked  WorkLifeBalance  \\\n",
       "count    1470.000000    1470.000000         1470.000000      1470.000000   \n",
       "mean        1.764626    6502.931293            2.693197         2.761224   \n",
       "std         0.790757    4707.956783            2.498009         0.706476   \n",
       "min         1.000000    1009.000000            0.000000         1.000000   \n",
       "25%         1.000000    2911.000000            1.000000         2.000000   \n",
       "50%         2.000000    4919.000000            2.000000         3.000000   \n",
       "75%         2.000000    8379.000000            4.000000         3.000000   \n",
       "max         3.000000   19999.000000            9.000000         4.000000   \n",
       "\n",
       "       YearsAtCompany  \n",
       "count     1470.000000  \n",
       "mean         7.008163  \n",
       "std          6.126525  \n",
       "min          0.000000  \n",
       "25%          3.000000  \n",
       "50%          5.000000  \n",
       "75%          9.000000  \n",
       "max         40.000000  "
      ]
     },
     "execution_count": 37,
     "metadata": {},
     "output_type": "execute_result"
    }
   ],
   "source": [
    "X.describe()"
   ]
  },
  {
   "cell_type": "code",
   "execution_count": 33,
   "metadata": {},
   "outputs": [
    {
     "data": {
      "text/plain": [
       "0    1\n",
       "1    0\n",
       "2    1\n",
       "3    0\n",
       "4    0\n",
       "Name: Attrition, dtype: int64"
      ]
     },
     "execution_count": 33,
     "metadata": {},
     "output_type": "execute_result"
    }
   ],
   "source": [
    "Y.head(5)"
   ]
  },
  {
   "cell_type": "code",
   "execution_count": 35,
   "metadata": {},
   "outputs": [
    {
     "data": {
      "text/plain": [
       "pandas.core.series.Series"
      ]
     },
     "execution_count": 35,
     "metadata": {},
     "output_type": "execute_result"
    }
   ],
   "source": [
    "type(Y)"
   ]
  },
  {
   "cell_type": "code",
   "execution_count": 43,
   "metadata": {},
   "outputs": [],
   "source": [
    "#importing sklearn for train & test split, model training and validation\n",
    "from sklearn.model_selection import train_test_split"
   ]
  },
  {
   "cell_type": "code",
   "execution_count": 55,
   "metadata": {},
   "outputs": [],
   "source": [
    "X_train, X_test, y_train, y_test = train_test_split(X,Y, test_size=0.25, random_state=0)"
   ]
  },
  {
   "cell_type": "code",
   "execution_count": 56,
   "metadata": {},
   "outputs": [
    {
     "data": {
      "text/plain": [
       "(1102, 12)"
      ]
     },
     "execution_count": 56,
     "metadata": {},
     "output_type": "execute_result"
    }
   ],
   "source": [
    "X_train.shape"
   ]
  },
  {
   "cell_type": "code",
   "execution_count": 57,
   "metadata": {},
   "outputs": [
    {
     "data": {
      "text/plain": [
       "(368, 12)"
      ]
     },
     "execution_count": 57,
     "metadata": {},
     "output_type": "execute_result"
    }
   ],
   "source": [
    "X_test.shape"
   ]
  },
  {
   "cell_type": "code",
   "execution_count": 58,
   "metadata": {},
   "outputs": [
    {
     "data": {
      "text/plain": [
       "(1102,)"
      ]
     },
     "execution_count": 58,
     "metadata": {},
     "output_type": "execute_result"
    }
   ],
   "source": [
    "y_train.shape"
   ]
  },
  {
   "cell_type": "code",
   "execution_count": 59,
   "metadata": {},
   "outputs": [
    {
     "data": {
      "text/plain": [
       "(368,)"
      ]
     },
     "execution_count": 59,
     "metadata": {},
     "output_type": "execute_result"
    }
   ],
   "source": [
    "y_test.shape"
   ]
  },
  {
   "cell_type": "markdown",
   "metadata": {},
   "source": [
    "## Training the model"
   ]
  },
  {
   "cell_type": "code",
   "execution_count": 60,
   "metadata": {},
   "outputs": [],
   "source": [
    "#importing the logistic regression model\n",
    "from sklearn.linear_model import LogisticRegression"
   ]
  },
  {
   "cell_type": "code",
   "execution_count": 61,
   "metadata": {},
   "outputs": [],
   "source": [
    "logRes = LogisticRegression()"
   ]
  },
  {
   "cell_type": "code",
   "execution_count": 62,
   "metadata": {},
   "outputs": [
    {
     "name": "stderr",
     "output_type": "stream",
     "text": [
      "/home/satheesh/anaconda3/lib/python3.8/site-packages/sklearn/linear_model/_logistic.py:762: ConvergenceWarning: lbfgs failed to converge (status=1):\n",
      "STOP: TOTAL NO. of ITERATIONS REACHED LIMIT.\n",
      "\n",
      "Increase the number of iterations (max_iter) or scale the data as shown in:\n",
      "    https://scikit-learn.org/stable/modules/preprocessing.html\n",
      "Please also refer to the documentation for alternative solver options:\n",
      "    https://scikit-learn.org/stable/modules/linear_model.html#logistic-regression\n",
      "  n_iter_i = _check_optimize_result(\n"
     ]
    }
   ],
   "source": [
    "attrition_model = logRes.fit(X_train, y_train)"
   ]
  },
  {
   "cell_type": "code",
   "execution_count": 64,
   "metadata": {},
   "outputs": [
    {
     "data": {
      "text/plain": [
       "array([[0.91701785, 0.08298215],\n",
       "       [0.84932799, 0.15067201],\n",
       "       [0.82822504, 0.17177496],\n",
       "       [0.78839905, 0.21160095],\n",
       "       [0.84256786, 0.15743214],\n",
       "       [0.84060397, 0.15939603],\n",
       "       [0.79040601, 0.20959399],\n",
       "       [0.76358794, 0.23641206],\n",
       "       [0.97555055, 0.02444945],\n",
       "       [0.82374186, 0.17625814],\n",
       "       [0.97378812, 0.02621188],\n",
       "       [0.79637961, 0.20362039],\n",
       "       [0.93234146, 0.06765854],\n",
       "       [0.71589723, 0.28410277],\n",
       "       [0.86521635, 0.13478365],\n",
       "       [0.90663809, 0.09336191],\n",
       "       [0.92783777, 0.07216223],\n",
       "       [0.88616961, 0.11383039],\n",
       "       [0.8281925 , 0.1718075 ],\n",
       "       [0.59417517, 0.40582483],\n",
       "       [0.75137025, 0.24862975],\n",
       "       [0.95278616, 0.04721384],\n",
       "       [0.8904648 , 0.1095352 ],\n",
       "       [0.92758327, 0.07241673],\n",
       "       [0.59289459, 0.40710541],\n",
       "       [0.77446623, 0.22553377],\n",
       "       [0.84581544, 0.15418456],\n",
       "       [0.95575154, 0.04424846],\n",
       "       [0.71791581, 0.28208419],\n",
       "       [0.86936911, 0.13063089],\n",
       "       [0.90066119, 0.09933881],\n",
       "       [0.73435989, 0.26564011],\n",
       "       [0.84116921, 0.15883079],\n",
       "       [0.90367656, 0.09632344],\n",
       "       [0.91119134, 0.08880866],\n",
       "       [0.93342   , 0.06658   ],\n",
       "       [0.92606894, 0.07393106],\n",
       "       [0.81190544, 0.18809456],\n",
       "       [0.95290022, 0.04709978],\n",
       "       [0.85291517, 0.14708483],\n",
       "       [0.88681226, 0.11318774],\n",
       "       [0.90371041, 0.09628959],\n",
       "       [0.9463052 , 0.0536948 ],\n",
       "       [0.94358582, 0.05641418],\n",
       "       [0.89766205, 0.10233795],\n",
       "       [0.81415834, 0.18584166],\n",
       "       [0.60564874, 0.39435126],\n",
       "       [0.92393229, 0.07606771],\n",
       "       [0.6604433 , 0.3395567 ],\n",
       "       [0.81130286, 0.18869714],\n",
       "       [0.96013632, 0.03986368],\n",
       "       [0.69872114, 0.30127886],\n",
       "       [0.85601937, 0.14398063],\n",
       "       [0.72209001, 0.27790999],\n",
       "       [0.8263381 , 0.1736619 ],\n",
       "       [0.80256097, 0.19743903],\n",
       "       [0.85957391, 0.14042609],\n",
       "       [0.80520473, 0.19479527],\n",
       "       [0.83387144, 0.16612856],\n",
       "       [0.70757492, 0.29242508],\n",
       "       [0.92927969, 0.07072031],\n",
       "       [0.75781979, 0.24218021],\n",
       "       [0.90186281, 0.09813719],\n",
       "       [0.87615209, 0.12384791],\n",
       "       [0.79615403, 0.20384597],\n",
       "       [0.89131805, 0.10868195],\n",
       "       [0.88726692, 0.11273308],\n",
       "       [0.77023497, 0.22976503],\n",
       "       [0.84864197, 0.15135803],\n",
       "       [0.58610342, 0.41389658],\n",
       "       [0.8937678 , 0.1062322 ],\n",
       "       [0.7712309 , 0.2287691 ],\n",
       "       [0.84819156, 0.15180844],\n",
       "       [0.86246166, 0.13753834],\n",
       "       [0.74299229, 0.25700771],\n",
       "       [0.81367004, 0.18632996],\n",
       "       [0.87658449, 0.12341551],\n",
       "       [0.98155823, 0.01844177],\n",
       "       [0.83780356, 0.16219644],\n",
       "       [0.84544306, 0.15455694],\n",
       "       [0.97069472, 0.02930528],\n",
       "       [0.79382975, 0.20617025],\n",
       "       [0.77125482, 0.22874518],\n",
       "       [0.88577547, 0.11422453],\n",
       "       [0.90432247, 0.09567753],\n",
       "       [0.75277288, 0.24722712],\n",
       "       [0.96586663, 0.03413337],\n",
       "       [0.88578643, 0.11421357],\n",
       "       [0.87190478, 0.12809522],\n",
       "       [0.82092725, 0.17907275],\n",
       "       [0.6310437 , 0.3689563 ],\n",
       "       [0.7440567 , 0.2559433 ],\n",
       "       [0.6653713 , 0.3346287 ],\n",
       "       [0.79795704, 0.20204296],\n",
       "       [0.92230331, 0.07769669],\n",
       "       [0.82231539, 0.17768461],\n",
       "       [0.60921325, 0.39078675],\n",
       "       [0.48353706, 0.51646294],\n",
       "       [0.8675436 , 0.1324564 ],\n",
       "       [0.9383375 , 0.0616625 ],\n",
       "       [0.63861257, 0.36138743],\n",
       "       [0.60895444, 0.39104556],\n",
       "       [0.98111783, 0.01888217],\n",
       "       [0.91615123, 0.08384877],\n",
       "       [0.77411393, 0.22588607],\n",
       "       [0.90626468, 0.09373532],\n",
       "       [0.93528659, 0.06471341],\n",
       "       [0.83819258, 0.16180742],\n",
       "       [0.83482744, 0.16517256],\n",
       "       [0.82921972, 0.17078028],\n",
       "       [0.78748838, 0.21251162],\n",
       "       [0.97739344, 0.02260656],\n",
       "       [0.95790176, 0.04209824],\n",
       "       [0.81111343, 0.18888657],\n",
       "       [0.82103122, 0.17896878],\n",
       "       [0.93465798, 0.06534202],\n",
       "       [0.9486269 , 0.0513731 ],\n",
       "       [0.96405173, 0.03594827],\n",
       "       [0.96655655, 0.03344345],\n",
       "       [0.9322203 , 0.0677797 ],\n",
       "       [0.794913  , 0.205087  ],\n",
       "       [0.89813313, 0.10186687],\n",
       "       [0.89421502, 0.10578498],\n",
       "       [0.72548158, 0.27451842],\n",
       "       [0.95154385, 0.04845615],\n",
       "       [0.96305562, 0.03694438],\n",
       "       [0.96803691, 0.03196309],\n",
       "       [0.81379615, 0.18620385],\n",
       "       [0.84543534, 0.15456466],\n",
       "       [0.90258787, 0.09741213],\n",
       "       [0.96232636, 0.03767364],\n",
       "       [0.81961035, 0.18038965],\n",
       "       [0.75145165, 0.24854835],\n",
       "       [0.71955547, 0.28044453],\n",
       "       [0.96023721, 0.03976279],\n",
       "       [0.89178638, 0.10821362],\n",
       "       [0.83250011, 0.16749989],\n",
       "       [0.90652524, 0.09347476],\n",
       "       [0.74448744, 0.25551256],\n",
       "       [0.85538857, 0.14461143],\n",
       "       [0.91098156, 0.08901844],\n",
       "       [0.90398708, 0.09601292],\n",
       "       [0.79381465, 0.20618535],\n",
       "       [0.94881987, 0.05118013],\n",
       "       [0.83524988, 0.16475012],\n",
       "       [0.89480423, 0.10519577],\n",
       "       [0.97662619, 0.02337381],\n",
       "       [0.97601371, 0.02398629],\n",
       "       [0.96972287, 0.03027713],\n",
       "       [0.70390688, 0.29609312],\n",
       "       [0.90269273, 0.09730727],\n",
       "       [0.8612653 , 0.1387347 ],\n",
       "       [0.70313596, 0.29686404],\n",
       "       [0.96306422, 0.03693578],\n",
       "       [0.94546769, 0.05453231],\n",
       "       [0.94049369, 0.05950631],\n",
       "       [0.9788421 , 0.0211579 ],\n",
       "       [0.7447853 , 0.2552147 ],\n",
       "       [0.78417477, 0.21582523],\n",
       "       [0.92447167, 0.07552833],\n",
       "       [0.9583092 , 0.0416908 ],\n",
       "       [0.94547668, 0.05452332],\n",
       "       [0.66487013, 0.33512987],\n",
       "       [0.73300533, 0.26699467],\n",
       "       [0.9641481 , 0.0358519 ],\n",
       "       [0.87599139, 0.12400861],\n",
       "       [0.87614826, 0.12385174],\n",
       "       [0.81909012, 0.18090988],\n",
       "       [0.86803033, 0.13196967],\n",
       "       [0.98454212, 0.01545788],\n",
       "       [0.89544407, 0.10455593],\n",
       "       [0.93451293, 0.06548707],\n",
       "       [0.88219473, 0.11780527],\n",
       "       [0.69501027, 0.30498973],\n",
       "       [0.95480033, 0.04519967],\n",
       "       [0.86876681, 0.13123319],\n",
       "       [0.8825614 , 0.1174386 ],\n",
       "       [0.96627662, 0.03372338],\n",
       "       [0.72669368, 0.27330632],\n",
       "       [0.9527012 , 0.0472988 ],\n",
       "       [0.83252105, 0.16747895],\n",
       "       [0.91363918, 0.08636082],\n",
       "       [0.96962645, 0.03037355],\n",
       "       [0.76850705, 0.23149295],\n",
       "       [0.88752741, 0.11247259],\n",
       "       [0.65845037, 0.34154963],\n",
       "       [0.64158927, 0.35841073],\n",
       "       [0.78108949, 0.21891051],\n",
       "       [0.82023295, 0.17976705],\n",
       "       [0.47341302, 0.52658698],\n",
       "       [0.68593917, 0.31406083],\n",
       "       [0.73353702, 0.26646298],\n",
       "       [0.89127843, 0.10872157],\n",
       "       [0.90026389, 0.09973611],\n",
       "       [0.88393327, 0.11606673],\n",
       "       [0.93131188, 0.06868812],\n",
       "       [0.89626784, 0.10373216],\n",
       "       [0.83339886, 0.16660114],\n",
       "       [0.86356373, 0.13643627],\n",
       "       [0.90644651, 0.09355349],\n",
       "       [0.81390496, 0.18609504],\n",
       "       [0.83695082, 0.16304918],\n",
       "       [0.69038587, 0.30961413],\n",
       "       [0.85093369, 0.14906631],\n",
       "       [0.69418477, 0.30581523],\n",
       "       [0.84493431, 0.15506569],\n",
       "       [0.84611695, 0.15388305],\n",
       "       [0.98174612, 0.01825388],\n",
       "       [0.73293044, 0.26706956],\n",
       "       [0.91450464, 0.08549536],\n",
       "       [0.7403543 , 0.2596457 ],\n",
       "       [0.79089742, 0.20910258],\n",
       "       [0.89141456, 0.10858544],\n",
       "       [0.62189474, 0.37810526],\n",
       "       [0.90453128, 0.09546872],\n",
       "       [0.90512738, 0.09487262],\n",
       "       [0.94019089, 0.05980911],\n",
       "       [0.89593763, 0.10406237],\n",
       "       [0.93454379, 0.06545621],\n",
       "       [0.77438425, 0.22561575],\n",
       "       [0.66574957, 0.33425043],\n",
       "       [0.68026746, 0.31973254],\n",
       "       [0.55529537, 0.44470463],\n",
       "       [0.98616156, 0.01383844],\n",
       "       [0.71047737, 0.28952263],\n",
       "       [0.89539965, 0.10460035],\n",
       "       [0.88167369, 0.11832631],\n",
       "       [0.70317037, 0.29682963],\n",
       "       [0.65380848, 0.34619152],\n",
       "       [0.82828106, 0.17171894],\n",
       "       [0.98599002, 0.01400998],\n",
       "       [0.91909119, 0.08090881],\n",
       "       [0.87687557, 0.12312443],\n",
       "       [0.93742272, 0.06257728],\n",
       "       [0.82943571, 0.17056429],\n",
       "       [0.90972198, 0.09027802],\n",
       "       [0.65101723, 0.34898277],\n",
       "       [0.88080004, 0.11919996],\n",
       "       [0.68436624, 0.31563376],\n",
       "       [0.96598927, 0.03401073],\n",
       "       [0.87667768, 0.12332232],\n",
       "       [0.77486381, 0.22513619],\n",
       "       [0.98443317, 0.01556683],\n",
       "       [0.88849988, 0.11150012],\n",
       "       [0.82111483, 0.17888517],\n",
       "       [0.93822489, 0.06177511],\n",
       "       [0.8745062 , 0.1254938 ],\n",
       "       [0.8545564 , 0.1454436 ],\n",
       "       [0.88744526, 0.11255474],\n",
       "       [0.92042754, 0.07957246],\n",
       "       [0.75318913, 0.24681087],\n",
       "       [0.83945331, 0.16054669],\n",
       "       [0.42346059, 0.57653941],\n",
       "       [0.91469771, 0.08530229],\n",
       "       [0.85889793, 0.14110207],\n",
       "       [0.78570444, 0.21429556],\n",
       "       [0.99085856, 0.00914144],\n",
       "       [0.72878204, 0.27121796],\n",
       "       [0.39657314, 0.60342686],\n",
       "       [0.63838927, 0.36161073],\n",
       "       [0.81758682, 0.18241318],\n",
       "       [0.86912825, 0.13087175],\n",
       "       [0.85317798, 0.14682202],\n",
       "       [0.87927594, 0.12072406],\n",
       "       [0.78331773, 0.21668227],\n",
       "       [0.87084612, 0.12915388],\n",
       "       [0.92327934, 0.07672066],\n",
       "       [0.82000337, 0.17999663],\n",
       "       [0.62282713, 0.37717287],\n",
       "       [0.88022412, 0.11977588],\n",
       "       [0.85022319, 0.14977681],\n",
       "       [0.91876075, 0.08123925],\n",
       "       [0.79213211, 0.20786789],\n",
       "       [0.85758064, 0.14241936],\n",
       "       [0.8016132 , 0.1983868 ],\n",
       "       [0.92302921, 0.07697079],\n",
       "       [0.84231417, 0.15768583],\n",
       "       [0.94183047, 0.05816953],\n",
       "       [0.78018097, 0.21981903],\n",
       "       [0.89136378, 0.10863622],\n",
       "       [0.62570345, 0.37429655],\n",
       "       [0.91836   , 0.08164   ],\n",
       "       [0.69397455, 0.30602545],\n",
       "       [0.91654304, 0.08345696],\n",
       "       [0.99287553, 0.00712447],\n",
       "       [0.91455961, 0.08544039],\n",
       "       [0.90614183, 0.09385817],\n",
       "       [0.87426429, 0.12573571],\n",
       "       [0.86608282, 0.13391718],\n",
       "       [0.91889969, 0.08110031],\n",
       "       [0.92185868, 0.07814132],\n",
       "       [0.84616191, 0.15383809],\n",
       "       [0.88071367, 0.11928633],\n",
       "       [0.86081594, 0.13918406],\n",
       "       [0.97233099, 0.02766901],\n",
       "       [0.71982916, 0.28017084],\n",
       "       [0.77149364, 0.22850636],\n",
       "       [0.85513514, 0.14486486],\n",
       "       [0.77667171, 0.22332829],\n",
       "       [0.98380672, 0.01619328],\n",
       "       [0.85404713, 0.14595287],\n",
       "       [0.83240303, 0.16759697],\n",
       "       [0.80387242, 0.19612758],\n",
       "       [0.90665744, 0.09334256],\n",
       "       [0.86877431, 0.13122569],\n",
       "       [0.94333497, 0.05666503],\n",
       "       [0.84679917, 0.15320083],\n",
       "       [0.3293708 , 0.6706292 ],\n",
       "       [0.93442554, 0.06557446],\n",
       "       [0.75680084, 0.24319916],\n",
       "       [0.89277768, 0.10722232],\n",
       "       [0.90506309, 0.09493691],\n",
       "       [0.86423186, 0.13576814],\n",
       "       [0.85658429, 0.14341571],\n",
       "       [0.70582544, 0.29417456],\n",
       "       [0.7043098 , 0.2956902 ],\n",
       "       [0.81058803, 0.18941197],\n",
       "       [0.81717431, 0.18282569],\n",
       "       [0.53360523, 0.46639477],\n",
       "       [0.92668053, 0.07331947],\n",
       "       [0.59671084, 0.40328916],\n",
       "       [0.94587396, 0.05412604],\n",
       "       [0.81918217, 0.18081783],\n",
       "       [0.77336128, 0.22663872],\n",
       "       [0.8833281 , 0.1166719 ],\n",
       "       [0.94680488, 0.05319512],\n",
       "       [0.7823696 , 0.2176304 ],\n",
       "       [0.9286847 , 0.0713153 ],\n",
       "       [0.98697166, 0.01302834],\n",
       "       [0.90577197, 0.09422803],\n",
       "       [0.93756777, 0.06243223],\n",
       "       [0.89293656, 0.10706344],\n",
       "       [0.94422371, 0.05577629],\n",
       "       [0.86874701, 0.13125299],\n",
       "       [0.80879909, 0.19120091],\n",
       "       [0.89554963, 0.10445037],\n",
       "       [0.92784048, 0.07215952],\n",
       "       [0.94494956, 0.05505044],\n",
       "       [0.86268662, 0.13731338],\n",
       "       [0.94551514, 0.05448486],\n",
       "       [0.78879615, 0.21120385],\n",
       "       [0.80690222, 0.19309778],\n",
       "       [0.84892077, 0.15107923],\n",
       "       [0.76583308, 0.23416692],\n",
       "       [0.91771313, 0.08228687],\n",
       "       [0.85561246, 0.14438754],\n",
       "       [0.80760353, 0.19239647],\n",
       "       [0.97547135, 0.02452865],\n",
       "       [0.67876275, 0.32123725],\n",
       "       [0.83036897, 0.16963103],\n",
       "       [0.83666226, 0.16333774],\n",
       "       [0.72375641, 0.27624359],\n",
       "       [0.85384174, 0.14615826],\n",
       "       [0.85767192, 0.14232808],\n",
       "       [0.85342717, 0.14657283],\n",
       "       [0.82525827, 0.17474173],\n",
       "       [0.85416246, 0.14583754],\n",
       "       [0.85478321, 0.14521679],\n",
       "       [0.95058941, 0.04941059],\n",
       "       [0.91471734, 0.08528266],\n",
       "       [0.98256673, 0.01743327],\n",
       "       [0.91355085, 0.08644915],\n",
       "       [0.93347456, 0.06652544],\n",
       "       [0.89356473, 0.10643527],\n",
       "       [0.80071438, 0.19928562],\n",
       "       [0.91374057, 0.08625943],\n",
       "       [0.97440469, 0.02559531],\n",
       "       [0.75316424, 0.24683576]])"
      ]
     },
     "execution_count": 64,
     "metadata": {},
     "output_type": "execute_result"
    }
   ],
   "source": [
    "attrition_model.predict_proba(X_test)"
   ]
  },
  {
   "cell_type": "code",
   "execution_count": 66,
   "metadata": {},
   "outputs": [
    {
     "data": {
      "text/plain": [
       "0.8439201451905626"
      ]
     },
     "execution_count": 66,
     "metadata": {},
     "output_type": "execute_result"
    }
   ],
   "source": [
    "#check accuracy on training data\n",
    "attrition_model.score(X_train, y_train)"
   ]
  },
  {
   "cell_type": "code",
   "execution_count": 65,
   "metadata": {},
   "outputs": [
    {
     "data": {
      "text/plain": [
       "0.8396739130434783"
      ]
     },
     "execution_count": 65,
     "metadata": {},
     "output_type": "execute_result"
    }
   ],
   "source": [
    "#check accuracy on testing data\n",
    "attrition_model.score(X_test, y_test)"
   ]
  },
  {
   "cell_type": "markdown",
   "metadata": {},
   "source": [
    "## Model validation using metrics"
   ]
  },
  {
   "cell_type": "code",
   "execution_count": 68,
   "metadata": {},
   "outputs": [],
   "source": [
    "#predicting for X_test as input\n",
    "y_predicted = attrition_model.predict(X_test)"
   ]
  },
  {
   "cell_type": "code",
   "execution_count": 69,
   "metadata": {},
   "outputs": [
    {
     "data": {
      "text/plain": [
       "(368,)"
      ]
     },
     "execution_count": 69,
     "metadata": {},
     "output_type": "execute_result"
    }
   ],
   "source": [
    "y_predicted.shape"
   ]
  },
  {
   "cell_type": "raw",
   "metadata": {},
   "source": [
    "Since both the accuracies are almost equal we can conclude that the model is performing in the same manner as the training data "
   ]
  },
  {
   "cell_type": "code",
   "execution_count": 67,
   "metadata": {},
   "outputs": [],
   "source": [
    "#checking for model metrics\n",
    "from sklearn import metrics"
   ]
  },
  {
   "cell_type": "code",
   "execution_count": 70,
   "metadata": {},
   "outputs": [
    {
     "name": "stdout",
     "output_type": "stream",
     "text": [
      "0.8396739130434783\n"
     ]
    }
   ],
   "source": [
    "print(metrics.accuracy_score(y_test, y_predicted))"
   ]
  },
  {
   "cell_type": "code",
   "execution_count": 71,
   "metadata": {},
   "outputs": [
    {
     "name": "stdout",
     "output_type": "stream",
     "text": [
      "              precision    recall  f1-score   support\n",
      "\n",
      "           0       0.85      0.99      0.91       310\n",
      "           1       0.40      0.03      0.06        58\n",
      "\n",
      "    accuracy                           0.84       368\n",
      "   macro avg       0.62      0.51      0.49       368\n",
      "weighted avg       0.78      0.84      0.78       368\n",
      "\n"
     ]
    }
   ],
   "source": [
    "print(metrics.classification_report(y_test, y_predicted))"
   ]
  },
  {
   "cell_type": "code",
   "execution_count": 72,
   "metadata": {},
   "outputs": [
    {
     "name": "stdout",
     "output_type": "stream",
     "text": [
      "[[307   3]\n",
      " [ 56   2]]\n"
     ]
    }
   ],
   "source": [
    "print(metrics.confusion_matrix(y_test, y_predicted))"
   ]
  },
  {
   "cell_type": "markdown",
   "metadata": {},
   "source": [
    "The model does not perform well and might not serve the business purpose; the business would like to identify correctly the chances of an individual leaving and since the precision, recall and subsequent f1 score are lesser for the \"attrites\", we might not have solved the business problem. This will require further hyper parameter tuning"
   ]
  }
 ],
 "metadata": {
  "kernelspec": {
   "display_name": "Python 3",
   "language": "python",
   "name": "python3"
  },
  "language_info": {
   "codemirror_mode": {
    "name": "ipython",
    "version": 3
   },
   "file_extension": ".py",
   "mimetype": "text/x-python",
   "name": "python",
   "nbconvert_exporter": "python",
   "pygments_lexer": "ipython3",
   "version": "3.8.5"
  }
 },
 "nbformat": 4,
 "nbformat_minor": 4
}
